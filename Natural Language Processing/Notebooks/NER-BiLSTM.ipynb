{
 "cells": [
  {
   "cell_type": "code",
   "execution_count": 1,
   "id": "f2a28a08",
   "metadata": {
    "_cell_guid": "b1076dfc-b9ad-4769-8c92-a6c4dae69d19",
    "_uuid": "8f2839f25d086af736a60e9eeb907d3b93b6e0e5",
    "execution": {
     "iopub.execute_input": "2021-07-22T20:12:25.369419Z",
     "iopub.status.busy": "2021-07-22T20:12:25.368691Z",
     "iopub.status.idle": "2021-07-22T20:12:32.346953Z",
     "shell.execute_reply": "2021-07-22T20:12:32.345880Z",
     "shell.execute_reply.started": "2021-07-21T13:55:04.865111Z"
    },
    "papermill": {
     "duration": 7.025488,
     "end_time": "2021-07-22T20:12:32.347220",
     "exception": false,
     "start_time": "2021-07-22T20:12:25.321732",
     "status": "completed"
    },
    "tags": []
   },
   "outputs": [
    {
     "name": "stdout",
     "output_type": "stream",
     "text": [
      "Tensorflow version: 2.4.1\n",
      "GPU detected: []\n",
      "/kaggle/input/entity-annotated-corpus/ner.csv\n",
      "/kaggle/input/entity-annotated-corpus/ner_dataset.csv\n",
      "/kaggle/input/bert-base-uncased/config.json\n",
      "/kaggle/input/bert-base-uncased/pytorch_model.bin\n",
      "/kaggle/input/bert-base-uncased/vocab.txt\n"
     ]
    }
   ],
   "source": [
    "# This Python 3 environment comes with many helpful analytics libraries installed\n",
    "# It is defined by the kaggle/python Docker image: https://github.com/kaggle/docker-python\n",
    "# For example, here's several helpful packages to load\n",
    "\n",
    "%matplotlib inline\n",
    "import matplotlib.pyplot as plt\n",
    "import pandas as pd\n",
    "import numpy as np\n",
    "np.random.seed(0)\n",
    "plt.style.use(\"ggplot\")\n",
    "\n",
    "import tensorflow as tf\n",
    "print('Tensorflow version:', tf.__version__)\n",
    "print('GPU detected:', tf.config.list_physical_devices('GPU'))\n",
    "# Input data files are available in the read-only \"../input/\" directory\n",
    "# For example, running this (by clicking run or pressing Shift+Enter) will list all files under the input directory\n",
    "\n",
    "import os\n",
    "for dirname, _, filenames in os.walk('/kaggle/input'):\n",
    "    for filename in filenames:\n",
    "        print(os.path.join(dirname, filename))\n",
    "\n",
    "# You can write up to 5GB to the current directory (/kaggle/working/) that gets preserved as output when you create a version using \"Save & Run All\" \n",
    "# You can also write temporary files to /kaggle/temp/, but they won't be saved outside of the current session"
   ]
  },
  {
   "cell_type": "code",
   "execution_count": 2,
   "id": "31f653c7",
   "metadata": {
    "_cell_guid": "79c7e3d0-c299-4dcb-8224-4455121ee9b0",
    "_uuid": "d629ff2d2480ee46fbb7e2d37f6b5fab8052498a",
    "execution": {
     "iopub.execute_input": "2021-07-22T20:12:32.412185Z",
     "iopub.status.busy": "2021-07-22T20:12:32.411274Z",
     "iopub.status.idle": "2021-07-22T20:12:33.775119Z",
     "shell.execute_reply": "2021-07-22T20:12:33.775633Z",
     "shell.execute_reply.started": "2021-07-21T13:55:11.57291Z"
    },
    "papermill": {
     "duration": 1.400031,
     "end_time": "2021-07-22T20:12:33.775843",
     "exception": false,
     "start_time": "2021-07-22T20:12:32.375812",
     "status": "completed"
    },
    "tags": []
   },
   "outputs": [
    {
     "data": {
      "text/html": [
       "<div>\n",
       "<style scoped>\n",
       "    .dataframe tbody tr th:only-of-type {\n",
       "        vertical-align: middle;\n",
       "    }\n",
       "\n",
       "    .dataframe tbody tr th {\n",
       "        vertical-align: top;\n",
       "    }\n",
       "\n",
       "    .dataframe thead th {\n",
       "        text-align: right;\n",
       "    }\n",
       "</style>\n",
       "<table border=\"1\" class=\"dataframe\">\n",
       "  <thead>\n",
       "    <tr style=\"text-align: right;\">\n",
       "      <th></th>\n",
       "      <th>Sentence #</th>\n",
       "      <th>Word</th>\n",
       "      <th>POS</th>\n",
       "      <th>Tag</th>\n",
       "    </tr>\n",
       "  </thead>\n",
       "  <tbody>\n",
       "    <tr>\n",
       "      <th>0</th>\n",
       "      <td>Sentence: 1</td>\n",
       "      <td>Thousands</td>\n",
       "      <td>NNS</td>\n",
       "      <td>O</td>\n",
       "    </tr>\n",
       "    <tr>\n",
       "      <th>1</th>\n",
       "      <td>Sentence: 1</td>\n",
       "      <td>of</td>\n",
       "      <td>IN</td>\n",
       "      <td>O</td>\n",
       "    </tr>\n",
       "    <tr>\n",
       "      <th>2</th>\n",
       "      <td>Sentence: 1</td>\n",
       "      <td>demonstrators</td>\n",
       "      <td>NNS</td>\n",
       "      <td>O</td>\n",
       "    </tr>\n",
       "    <tr>\n",
       "      <th>3</th>\n",
       "      <td>Sentence: 1</td>\n",
       "      <td>have</td>\n",
       "      <td>VBP</td>\n",
       "      <td>O</td>\n",
       "    </tr>\n",
       "    <tr>\n",
       "      <th>4</th>\n",
       "      <td>Sentence: 1</td>\n",
       "      <td>marched</td>\n",
       "      <td>VBN</td>\n",
       "      <td>O</td>\n",
       "    </tr>\n",
       "    <tr>\n",
       "      <th>5</th>\n",
       "      <td>Sentence: 1</td>\n",
       "      <td>through</td>\n",
       "      <td>IN</td>\n",
       "      <td>O</td>\n",
       "    </tr>\n",
       "    <tr>\n",
       "      <th>6</th>\n",
       "      <td>Sentence: 1</td>\n",
       "      <td>London</td>\n",
       "      <td>NNP</td>\n",
       "      <td>B-geo</td>\n",
       "    </tr>\n",
       "    <tr>\n",
       "      <th>7</th>\n",
       "      <td>Sentence: 1</td>\n",
       "      <td>to</td>\n",
       "      <td>TO</td>\n",
       "      <td>O</td>\n",
       "    </tr>\n",
       "    <tr>\n",
       "      <th>8</th>\n",
       "      <td>Sentence: 1</td>\n",
       "      <td>protest</td>\n",
       "      <td>VB</td>\n",
       "      <td>O</td>\n",
       "    </tr>\n",
       "    <tr>\n",
       "      <th>9</th>\n",
       "      <td>Sentence: 1</td>\n",
       "      <td>the</td>\n",
       "      <td>DT</td>\n",
       "      <td>O</td>\n",
       "    </tr>\n",
       "    <tr>\n",
       "      <th>10</th>\n",
       "      <td>Sentence: 1</td>\n",
       "      <td>war</td>\n",
       "      <td>NN</td>\n",
       "      <td>O</td>\n",
       "    </tr>\n",
       "    <tr>\n",
       "      <th>11</th>\n",
       "      <td>Sentence: 1</td>\n",
       "      <td>in</td>\n",
       "      <td>IN</td>\n",
       "      <td>O</td>\n",
       "    </tr>\n",
       "    <tr>\n",
       "      <th>12</th>\n",
       "      <td>Sentence: 1</td>\n",
       "      <td>Iraq</td>\n",
       "      <td>NNP</td>\n",
       "      <td>B-geo</td>\n",
       "    </tr>\n",
       "    <tr>\n",
       "      <th>13</th>\n",
       "      <td>Sentence: 1</td>\n",
       "      <td>and</td>\n",
       "      <td>CC</td>\n",
       "      <td>O</td>\n",
       "    </tr>\n",
       "    <tr>\n",
       "      <th>14</th>\n",
       "      <td>Sentence: 1</td>\n",
       "      <td>demand</td>\n",
       "      <td>VB</td>\n",
       "      <td>O</td>\n",
       "    </tr>\n",
       "    <tr>\n",
       "      <th>15</th>\n",
       "      <td>Sentence: 1</td>\n",
       "      <td>the</td>\n",
       "      <td>DT</td>\n",
       "      <td>O</td>\n",
       "    </tr>\n",
       "    <tr>\n",
       "      <th>16</th>\n",
       "      <td>Sentence: 1</td>\n",
       "      <td>withdrawal</td>\n",
       "      <td>NN</td>\n",
       "      <td>O</td>\n",
       "    </tr>\n",
       "    <tr>\n",
       "      <th>17</th>\n",
       "      <td>Sentence: 1</td>\n",
       "      <td>of</td>\n",
       "      <td>IN</td>\n",
       "      <td>O</td>\n",
       "    </tr>\n",
       "    <tr>\n",
       "      <th>18</th>\n",
       "      <td>Sentence: 1</td>\n",
       "      <td>British</td>\n",
       "      <td>JJ</td>\n",
       "      <td>B-gpe</td>\n",
       "    </tr>\n",
       "    <tr>\n",
       "      <th>19</th>\n",
       "      <td>Sentence: 1</td>\n",
       "      <td>troops</td>\n",
       "      <td>NNS</td>\n",
       "      <td>O</td>\n",
       "    </tr>\n",
       "  </tbody>\n",
       "</table>\n",
       "</div>"
      ],
      "text/plain": [
       "     Sentence #           Word  POS    Tag\n",
       "0   Sentence: 1      Thousands  NNS      O\n",
       "1   Sentence: 1             of   IN      O\n",
       "2   Sentence: 1  demonstrators  NNS      O\n",
       "3   Sentence: 1           have  VBP      O\n",
       "4   Sentence: 1        marched  VBN      O\n",
       "5   Sentence: 1        through   IN      O\n",
       "6   Sentence: 1         London  NNP  B-geo\n",
       "7   Sentence: 1             to   TO      O\n",
       "8   Sentence: 1        protest   VB      O\n",
       "9   Sentence: 1            the   DT      O\n",
       "10  Sentence: 1            war   NN      O\n",
       "11  Sentence: 1             in   IN      O\n",
       "12  Sentence: 1           Iraq  NNP  B-geo\n",
       "13  Sentence: 1            and   CC      O\n",
       "14  Sentence: 1         demand   VB      O\n",
       "15  Sentence: 1            the   DT      O\n",
       "16  Sentence: 1     withdrawal   NN      O\n",
       "17  Sentence: 1             of   IN      O\n",
       "18  Sentence: 1        British   JJ  B-gpe\n",
       "19  Sentence: 1         troops  NNS      O"
      ]
     },
     "execution_count": 2,
     "metadata": {},
     "output_type": "execute_result"
    }
   ],
   "source": [
    "data = pd.read_csv('/kaggle/input/entity-annotated-corpus/ner_dataset.csv', encoding='latin1')\n",
    "data = data.fillna(method='ffill')\n",
    "data.head(20)"
   ]
  },
  {
   "cell_type": "code",
   "execution_count": 3,
   "id": "ef370b92",
   "metadata": {
    "execution": {
     "iopub.execute_input": "2021-07-22T20:12:33.837802Z",
     "iopub.status.busy": "2021-07-22T20:12:33.836932Z",
     "iopub.status.idle": "2021-07-22T20:12:33.841358Z",
     "shell.execute_reply": "2021-07-22T20:12:33.840784Z",
     "shell.execute_reply.started": "2021-07-21T13:55:12.921959Z"
    },
    "papermill": {
     "duration": 0.038438,
     "end_time": "2021-07-22T20:12:33.841511",
     "exception": false,
     "start_time": "2021-07-22T20:12:33.803073",
     "status": "completed"
    },
    "tags": []
   },
   "outputs": [
    {
     "data": {
      "text/plain": [
       "Index(['Sentence #', 'Word', 'POS', 'Tag'], dtype='object')"
      ]
     },
     "execution_count": 3,
     "metadata": {},
     "output_type": "execute_result"
    }
   ],
   "source": [
    "data.columns"
   ]
  },
  {
   "cell_type": "code",
   "execution_count": 4,
   "id": "0f4ee74f",
   "metadata": {
    "execution": {
     "iopub.execute_input": "2021-07-22T20:12:34.006925Z",
     "iopub.status.busy": "2021-07-22T20:12:34.006177Z",
     "iopub.status.idle": "2021-07-22T20:12:34.369143Z",
     "shell.execute_reply": "2021-07-22T20:12:34.369653Z",
     "shell.execute_reply.started": "2021-07-21T13:55:12.931625Z"
    },
    "papermill": {
     "duration": 0.50083,
     "end_time": "2021-07-22T20:12:34.369917",
     "exception": false,
     "start_time": "2021-07-22T20:12:33.869087",
     "status": "completed"
    },
    "tags": []
   },
   "outputs": [
    {
     "name": "stdout",
     "output_type": "stream",
     "text": [
      "unique words;  35178\n",
      "unique tags;  17\n"
     ]
    }
   ],
   "source": [
    "print(\"unique words; \",data[\"Word\"].nunique())\n",
    "print(\"unique tags; \",data[\"Tag\"].nunique())"
   ]
  },
  {
   "cell_type": "code",
   "execution_count": 5,
   "id": "3c1a41a5",
   "metadata": {
    "execution": {
     "iopub.execute_input": "2021-07-22T20:12:34.581879Z",
     "iopub.status.busy": "2021-07-22T20:12:34.580055Z",
     "iopub.status.idle": "2021-07-22T20:12:34.587122Z",
     "shell.execute_reply": "2021-07-22T20:12:34.586546Z",
     "shell.execute_reply.started": "2021-07-21T13:55:13.377406Z"
    },
    "papermill": {
     "duration": 0.189006,
     "end_time": "2021-07-22T20:12:34.587300",
     "exception": false,
     "start_time": "2021-07-22T20:12:34.398294",
     "status": "completed"
    },
    "tags": []
   },
   "outputs": [],
   "source": [
    "#creating dataset for unique words, tags\n",
    "words = list(set(data[\"Word\"].values))\n",
    "words.append(\"ENDPAD\")\n",
    "tags = list(set(data[\"Tag\"].values))"
   ]
  },
  {
   "cell_type": "code",
   "execution_count": 6,
   "id": "4d5c9c87",
   "metadata": {
    "execution": {
     "iopub.execute_input": "2021-07-22T20:12:34.665066Z",
     "iopub.status.busy": "2021-07-22T20:12:34.663815Z",
     "iopub.status.idle": "2021-07-22T20:12:34.682815Z",
     "shell.execute_reply": "2021-07-22T20:12:34.682228Z",
     "shell.execute_reply.started": "2021-07-21T13:55:13.512704Z"
    },
    "papermill": {
     "duration": 0.06607,
     "end_time": "2021-07-22T20:12:34.682992",
     "exception": false,
     "start_time": "2021-07-22T20:12:34.616922",
     "status": "completed"
    },
    "tags": []
   },
   "outputs": [
    {
     "data": {
      "text/plain": [
       "(35179,)"
      ]
     },
     "execution_count": 6,
     "metadata": {},
     "output_type": "execute_result"
    }
   ],
   "source": [
    "np.shape(words)"
   ]
  },
  {
   "cell_type": "code",
   "execution_count": 7,
   "id": "f59a2da8",
   "metadata": {
    "execution": {
     "iopub.execute_input": "2021-07-22T20:12:34.745372Z",
     "iopub.status.busy": "2021-07-22T20:12:34.744646Z",
     "iopub.status.idle": "2021-07-22T20:12:34.746774Z",
     "shell.execute_reply": "2021-07-22T20:12:34.747232Z",
     "shell.execute_reply.started": "2021-07-21T13:55:13.542159Z"
    },
    "papermill": {
     "duration": 0.035921,
     "end_time": "2021-07-22T20:12:34.747430",
     "exception": false,
     "start_time": "2021-07-22T20:12:34.711509",
     "status": "completed"
    },
    "tags": []
   },
   "outputs": [],
   "source": [
    "num_words = len(words)\n",
    "num_tags = len(tags)"
   ]
  },
  {
   "cell_type": "code",
   "execution_count": 8,
   "id": "150276f9",
   "metadata": {
    "execution": {
     "iopub.execute_input": "2021-07-22T20:12:34.808598Z",
     "iopub.status.busy": "2021-07-22T20:12:34.807904Z",
     "iopub.status.idle": "2021-07-22T20:12:34.815782Z",
     "shell.execute_reply": "2021-07-22T20:12:34.816352Z",
     "shell.execute_reply.started": "2021-07-21T13:55:13.550607Z"
    },
    "papermill": {
     "duration": 0.04026,
     "end_time": "2021-07-22T20:12:34.816553",
     "exception": false,
     "start_time": "2021-07-22T20:12:34.776293",
     "status": "completed"
    },
    "tags": []
   },
   "outputs": [],
   "source": [
    "class Sentence_getter(object):\n",
    "    def __init__(self, data):\n",
    "        self.data = data\n",
    "        agg_fun = lambda s: [(w, p, t) for w,p,t in zip(s[\"Word\"].values.tolist(),\n",
    "                                                       s[\"POS\"].values.tolist(),\n",
    "                                                       s['Tag'].values.tolist())]\n",
    "        \n",
    "        self.grouped = self.data.groupby('Sentence #').apply(agg_fun)\n",
    "        self.sentences = [i for i in self.grouped]\n",
    "    \n",
    "    "
   ]
  },
  {
   "cell_type": "code",
   "execution_count": 9,
   "id": "d2cd1871",
   "metadata": {
    "execution": {
     "iopub.execute_input": "2021-07-22T20:12:34.878087Z",
     "iopub.status.busy": "2021-07-22T20:12:34.877348Z",
     "iopub.status.idle": "2021-07-22T20:12:42.210198Z",
     "shell.execute_reply": "2021-07-22T20:12:42.209436Z",
     "shell.execute_reply.started": "2021-07-21T13:55:13.562976Z"
    },
    "papermill": {
     "duration": 7.365195,
     "end_time": "2021-07-22T20:12:42.210361",
     "exception": false,
     "start_time": "2021-07-22T20:12:34.845166",
     "status": "completed"
    },
    "tags": []
   },
   "outputs": [],
   "source": [
    "getter = Sentence_getter(data)"
   ]
  },
  {
   "cell_type": "code",
   "execution_count": 10,
   "id": "4e423306",
   "metadata": {
    "execution": {
     "iopub.execute_input": "2021-07-22T20:12:42.273242Z",
     "iopub.status.busy": "2021-07-22T20:12:42.272554Z",
     "iopub.status.idle": "2021-07-22T20:12:42.275886Z",
     "shell.execute_reply": "2021-07-22T20:12:42.275172Z",
     "shell.execute_reply.started": "2021-07-21T13:55:20.799154Z"
    },
    "papermill": {
     "duration": 0.036858,
     "end_time": "2021-07-22T20:12:42.276053",
     "exception": false,
     "start_time": "2021-07-22T20:12:42.239195",
     "status": "completed"
    },
    "tags": []
   },
   "outputs": [],
   "source": [
    "sentences = getter.sentences"
   ]
  },
  {
   "cell_type": "code",
   "execution_count": 11,
   "id": "9970c5d8",
   "metadata": {
    "execution": {
     "iopub.execute_input": "2021-07-22T20:12:42.337136Z",
     "iopub.status.busy": "2021-07-22T20:12:42.336421Z",
     "iopub.status.idle": "2021-07-22T20:12:42.343628Z",
     "shell.execute_reply": "2021-07-22T20:12:42.344187Z",
     "shell.execute_reply.started": "2021-07-21T13:55:20.805357Z"
    },
    "papermill": {
     "duration": 0.039366,
     "end_time": "2021-07-22T20:12:42.344384",
     "exception": false,
     "start_time": "2021-07-22T20:12:42.305018",
     "status": "completed"
    },
    "tags": []
   },
   "outputs": [
    {
     "data": {
      "text/plain": [
       "[('Thousands', 'NNS', 'O'),\n",
       " ('of', 'IN', 'O'),\n",
       " ('demonstrators', 'NNS', 'O'),\n",
       " ('have', 'VBP', 'O'),\n",
       " ('marched', 'VBN', 'O'),\n",
       " ('through', 'IN', 'O'),\n",
       " ('London', 'NNP', 'B-geo'),\n",
       " ('to', 'TO', 'O'),\n",
       " ('protest', 'VB', 'O'),\n",
       " ('the', 'DT', 'O'),\n",
       " ('war', 'NN', 'O'),\n",
       " ('in', 'IN', 'O'),\n",
       " ('Iraq', 'NNP', 'B-geo'),\n",
       " ('and', 'CC', 'O'),\n",
       " ('demand', 'VB', 'O'),\n",
       " ('the', 'DT', 'O'),\n",
       " ('withdrawal', 'NN', 'O'),\n",
       " ('of', 'IN', 'O'),\n",
       " ('British', 'JJ', 'B-gpe'),\n",
       " ('troops', 'NNS', 'O'),\n",
       " ('from', 'IN', 'O'),\n",
       " ('that', 'DT', 'O'),\n",
       " ('country', 'NN', 'O'),\n",
       " ('.', '.', 'O')]"
      ]
     },
     "execution_count": 11,
     "metadata": {},
     "output_type": "execute_result"
    }
   ],
   "source": [
    "sentences[0]"
   ]
  },
  {
   "cell_type": "code",
   "execution_count": 12,
   "id": "ccd2cce5",
   "metadata": {
    "execution": {
     "iopub.execute_input": "2021-07-22T20:12:42.404983Z",
     "iopub.status.busy": "2021-07-22T20:12:42.404295Z",
     "iopub.status.idle": "2021-07-22T20:12:42.429021Z",
     "shell.execute_reply": "2021-07-22T20:12:42.429616Z",
     "shell.execute_reply.started": "2021-07-21T13:55:20.823718Z"
    },
    "papermill": {
     "duration": 0.056814,
     "end_time": "2021-07-22T20:12:42.429873",
     "exception": false,
     "start_time": "2021-07-22T20:12:42.373059",
     "status": "completed"
    },
    "tags": []
   },
   "outputs": [],
   "source": [
    "# Creating vocabulary\n",
    "word2idx = {w: i+1 for i,w in enumerate(words)}\n",
    "tag2idx = {t: i for i,t in enumerate(tags)}"
   ]
  },
  {
   "cell_type": "code",
   "execution_count": 13,
   "id": "7cb36cac",
   "metadata": {
    "execution": {
     "iopub.execute_input": "2021-07-22T20:12:42.496215Z",
     "iopub.status.busy": "2021-07-22T20:12:42.495510Z",
     "iopub.status.idle": "2021-07-22T20:12:42.498814Z",
     "shell.execute_reply": "2021-07-22T20:12:42.499278Z",
     "shell.execute_reply.started": "2021-07-21T13:55:20.850801Z"
    },
    "papermill": {
     "duration": 0.039463,
     "end_time": "2021-07-22T20:12:42.499481",
     "exception": false,
     "start_time": "2021-07-22T20:12:42.460018",
     "status": "completed"
    },
    "tags": []
   },
   "outputs": [
    {
     "data": {
      "text/plain": [
       "{'B-geo': 0,\n",
       " 'B-gpe': 1,\n",
       " 'I-geo': 2,\n",
       " 'B-per': 3,\n",
       " 'I-gpe': 4,\n",
       " 'I-tim': 5,\n",
       " 'I-eve': 6,\n",
       " 'I-nat': 7,\n",
       " 'O': 8,\n",
       " 'B-nat': 9,\n",
       " 'B-eve': 10,\n",
       " 'B-art': 11,\n",
       " 'B-org': 12,\n",
       " 'I-org': 13,\n",
       " 'I-per': 14,\n",
       " 'I-art': 15,\n",
       " 'B-tim': 16}"
      ]
     },
     "execution_count": 13,
     "metadata": {},
     "output_type": "execute_result"
    }
   ],
   "source": [
    "tag2idx"
   ]
  },
  {
   "cell_type": "markdown",
   "id": "419f7bc0",
   "metadata": {
    "papermill": {
     "duration": 0.02901,
     "end_time": "2021-07-22T20:12:42.557872",
     "exception": false,
     "start_time": "2021-07-22T20:12:42.528862",
     "status": "completed"
    },
    "tags": []
   },
   "source": [
    "**Hist plot of len of sentences**"
   ]
  },
  {
   "cell_type": "code",
   "execution_count": 14,
   "id": "a9370730",
   "metadata": {
    "execution": {
     "iopub.execute_input": "2021-07-22T20:12:42.619774Z",
     "iopub.status.busy": "2021-07-22T20:12:42.619101Z",
     "iopub.status.idle": "2021-07-22T20:12:43.222199Z",
     "shell.execute_reply": "2021-07-22T20:12:43.222737Z",
     "shell.execute_reply.started": "2021-07-21T13:55:20.859403Z"
    },
    "papermill": {
     "duration": 0.635794,
     "end_time": "2021-07-22T20:12:43.222956",
     "exception": false,
     "start_time": "2021-07-22T20:12:42.587162",
     "status": "completed"
    },
    "tags": []
   },
   "outputs": [
    {
     "data": {
      "text/plain": [
       "[]"
      ]
     },
     "execution_count": 14,
     "metadata": {},
     "output_type": "execute_result"
    },
    {
     "data": {
      "image/png": "[encoded data removed]",
      "text/plain": [
       "<Figure size 432x288 with 1 Axes>"
      ]
     },
     "metadata": {},
     "output_type": "display_data"
    }
   ],
   "source": [
    "plt.hist([len(s) for s in sentences], bins = 50)\n",
    "plt.plot()"
   ]
  },
  {
   "cell_type": "markdown",
   "id": "5f88809b",
   "metadata": {
    "papermill": {
     "duration": 0.030035,
     "end_time": "2021-07-22T20:12:43.284226",
     "exception": false,
     "start_time": "2021-07-22T20:12:43.254191",
     "status": "completed"
    },
    "tags": []
   },
   "source": [
    "Lets take 50 as maxlen to be on safer side"
   ]
  },
  {
   "cell_type": "markdown",
   "id": "0730a82d",
   "metadata": {
    "papermill": {
     "duration": 0.02965,
     "end_time": "2021-07-22T20:12:43.344254",
     "exception": false,
     "start_time": "2021-07-22T20:12:43.314604",
     "status": "completed"
    },
    "tags": []
   },
   "source": [
    "Padding inputs to maxlen\n",
    "\n",
    "Creating INPUTS AND OUTPUTS"
   ]
  },
  {
   "cell_type": "code",
   "execution_count": 15,
   "id": "80e9ae4f",
   "metadata": {
    "execution": {
     "iopub.execute_input": "2021-07-22T20:12:43.424596Z",
     "iopub.status.busy": "2021-07-22T20:12:43.419317Z",
     "iopub.status.idle": "2021-07-22T20:12:45.230881Z",
     "shell.execute_reply": "2021-07-22T20:12:45.230304Z",
     "shell.execute_reply.started": "2021-07-21T13:55:21.449596Z"
    },
    "papermill": {
     "duration": 1.855917,
     "end_time": "2021-07-22T20:12:45.231117",
     "exception": false,
     "start_time": "2021-07-22T20:12:43.375200",
     "status": "completed"
    },
    "tags": []
   },
   "outputs": [],
   "source": [
    "from tensorflow.keras.preprocessing.sequence import pad_sequences\n",
    "from tensorflow.keras.utils import to_categorical\n",
    "\n",
    "max_len = 50\n",
    "\n",
    "X = [[word2idx[w[0]] for w in s] for s in sentences]\n",
    "X = pad_sequences(maxlen = max_len, sequences=X, padding='post', value=num_words-1)\n",
    "\n",
    "y = [[tag2idx[w[2]] for w in s] for s in sentences]\n",
    "y = pad_sequences(maxlen = max_len, sequences=y, padding='post', value=tag2idx[\"O\"])\n"
   ]
  },
  {
   "cell_type": "markdown",
   "id": "8f805cd6",
   "metadata": {
    "papermill": {
     "duration": 0.030312,
     "end_time": "2021-07-22T20:12:45.292090",
     "exception": false,
     "start_time": "2021-07-22T20:12:45.261778",
     "status": "completed"
    },
    "tags": []
   },
   "source": [
    "Converting output labels to categorical ( ONE_HOT )"
   ]
  },
  {
   "cell_type": "code",
   "execution_count": 16,
   "id": "a1ca631f",
   "metadata": {
    "execution": {
     "iopub.execute_input": "2021-07-22T20:12:45.358334Z",
     "iopub.status.busy": "2021-07-22T20:12:45.357619Z",
     "iopub.status.idle": "2021-07-22T20:12:46.172186Z",
     "shell.execute_reply": "2021-07-22T20:12:46.171442Z",
     "shell.execute_reply.started": "2021-07-21T13:55:23.141993Z"
    },
    "papermill": {
     "duration": 0.849888,
     "end_time": "2021-07-22T20:12:46.172342",
     "exception": false,
     "start_time": "2021-07-22T20:12:45.322454",
     "status": "completed"
    },
    "tags": []
   },
   "outputs": [],
   "source": [
    "y = [to_categorical(i, num_classes=num_tags) for i in y]"
   ]
  },
  {
   "cell_type": "code",
   "execution_count": 17,
   "id": "cbf69fe8",
   "metadata": {
    "execution": {
     "iopub.execute_input": "2021-07-22T20:12:46.251424Z",
     "iopub.status.busy": "2021-07-22T20:12:46.249984Z",
     "iopub.status.idle": "2021-07-22T20:12:46.257087Z",
     "shell.execute_reply": "2021-07-22T20:12:46.256505Z",
     "shell.execute_reply.started": "2021-07-21T13:55:23.910549Z"
    },
    "papermill": {
     "duration": 0.053769,
     "end_time": "2021-07-22T20:12:46.257256",
     "exception": false,
     "start_time": "2021-07-22T20:12:46.203487",
     "status": "completed"
    },
    "tags": []
   },
   "outputs": [
    {
     "data": {
      "text/plain": [
       "array([[0., 0., 0., 0., 0., 0., 0., 0., 1., 0., 0., 0., 0., 0., 0., 0.,\n",
       "        0.],\n",
       "       [0., 0., 0., 0., 0., 0., 0., 0., 1., 0., 0., 0., 0., 0., 0., 0.,\n",
       "        0.],\n",
       "       [0., 0., 0., 0., 0., 0., 0., 0., 1., 0., 0., 0., 0., 0., 0., 0.,\n",
       "        0.],\n",
       "       [0., 0., 0., 0., 0., 0., 0., 0., 1., 0., 0., 0., 0., 0., 0., 0.,\n",
       "        0.],\n",
       "       [0., 0., 0., 0., 0., 0., 0., 0., 1., 0., 0., 0., 0., 0., 0., 0.,\n",
       "        0.],\n",
       "       [0., 0., 0., 0., 0., 0., 0., 0., 1., 0., 0., 0., 0., 0., 0., 0.,\n",
       "        0.],\n",
       "       [1., 0., 0., 0., 0., 0., 0., 0., 0., 0., 0., 0., 0., 0., 0., 0.,\n",
       "        0.],\n",
       "       [0., 0., 0., 0., 0., 0., 0., 0., 1., 0., 0., 0., 0., 0., 0., 0.,\n",
       "        0.],\n",
       "       [0., 0., 0., 0., 0., 0., 0., 0., 1., 0., 0., 0., 0., 0., 0., 0.,\n",
       "        0.],\n",
       "       [0., 0., 0., 0., 0., 0., 0., 0., 1., 0., 0., 0., 0., 0., 0., 0.,\n",
       "        0.],\n",
       "       [0., 0., 0., 0., 0., 0., 0., 0., 1., 0., 0., 0., 0., 0., 0., 0.,\n",
       "        0.],\n",
       "       [0., 0., 0., 0., 0., 0., 0., 0., 1., 0., 0., 0., 0., 0., 0., 0.,\n",
       "        0.],\n",
       "       [1., 0., 0., 0., 0., 0., 0., 0., 0., 0., 0., 0., 0., 0., 0., 0.,\n",
       "        0.],\n",
       "       [0., 0., 0., 0., 0., 0., 0., 0., 1., 0., 0., 0., 0., 0., 0., 0.,\n",
       "        0.],\n",
       "       [0., 0., 0., 0., 0., 0., 0., 0., 1., 0., 0., 0., 0., 0., 0., 0.,\n",
       "        0.],\n",
       "       [0., 0., 0., 0., 0., 0., 0., 0., 1., 0., 0., 0., 0., 0., 0., 0.,\n",
       "        0.],\n",
       "       [0., 0., 0., 0., 0., 0., 0., 0., 1., 0., 0., 0., 0., 0., 0., 0.,\n",
       "        0.],\n",
       "       [0., 0., 0., 0., 0., 0., 0., 0., 1., 0., 0., 0., 0., 0., 0., 0.,\n",
       "        0.],\n",
       "       [0., 1., 0., 0., 0., 0., 0., 0., 0., 0., 0., 0., 0., 0., 0., 0.,\n",
       "        0.],\n",
       "       [0., 0., 0., 0., 0., 0., 0., 0., 1., 0., 0., 0., 0., 0., 0., 0.,\n",
       "        0.],\n",
       "       [0., 0., 0., 0., 0., 0., 0., 0., 1., 0., 0., 0., 0., 0., 0., 0.,\n",
       "        0.],\n",
       "       [0., 0., 0., 0., 0., 0., 0., 0., 1., 0., 0., 0., 0., 0., 0., 0.,\n",
       "        0.],\n",
       "       [0., 0., 0., 0., 0., 0., 0., 0., 1., 0., 0., 0., 0., 0., 0., 0.,\n",
       "        0.],\n",
       "       [0., 0., 0., 0., 0., 0., 0., 0., 1., 0., 0., 0., 0., 0., 0., 0.,\n",
       "        0.],\n",
       "       [0., 0., 0., 0., 0., 0., 0., 0., 1., 0., 0., 0., 0., 0., 0., 0.,\n",
       "        0.],\n",
       "       [0., 0., 0., 0., 0., 0., 0., 0., 1., 0., 0., 0., 0., 0., 0., 0.,\n",
       "        0.],\n",
       "       [0., 0., 0., 0., 0., 0., 0., 0., 1., 0., 0., 0., 0., 0., 0., 0.,\n",
       "        0.],\n",
       "       [0., 0., 0., 0., 0., 0., 0., 0., 1., 0., 0., 0., 0., 0., 0., 0.,\n",
       "        0.],\n",
       "       [0., 0., 0., 0., 0., 0., 0., 0., 1., 0., 0., 0., 0., 0., 0., 0.,\n",
       "        0.],\n",
       "       [0., 0., 0., 0., 0., 0., 0., 0., 1., 0., 0., 0., 0., 0., 0., 0.,\n",
       "        0.],\n",
       "       [0., 0., 0., 0., 0., 0., 0., 0., 1., 0., 0., 0., 0., 0., 0., 0.,\n",
       "        0.],\n",
       "       [0., 0., 0., 0., 0., 0., 0., 0., 1., 0., 0., 0., 0., 0., 0., 0.,\n",
       "        0.],\n",
       "       [0., 0., 0., 0., 0., 0., 0., 0., 1., 0., 0., 0., 0., 0., 0., 0.,\n",
       "        0.],\n",
       "       [0., 0., 0., 0., 0., 0., 0., 0., 1., 0., 0., 0., 0., 0., 0., 0.,\n",
       "        0.],\n",
       "       [0., 0., 0., 0., 0., 0., 0., 0., 1., 0., 0., 0., 0., 0., 0., 0.,\n",
       "        0.],\n",
       "       [0., 0., 0., 0., 0., 0., 0., 0., 1., 0., 0., 0., 0., 0., 0., 0.,\n",
       "        0.],\n",
       "       [0., 0., 0., 0., 0., 0., 0., 0., 1., 0., 0., 0., 0., 0., 0., 0.,\n",
       "        0.],\n",
       "       [0., 0., 0., 0., 0., 0., 0., 0., 1., 0., 0., 0., 0., 0., 0., 0.,\n",
       "        0.],\n",
       "       [0., 0., 0., 0., 0., 0., 0., 0., 1., 0., 0., 0., 0., 0., 0., 0.,\n",
       "        0.],\n",
       "       [0., 0., 0., 0., 0., 0., 0., 0., 1., 0., 0., 0., 0., 0., 0., 0.,\n",
       "        0.],\n",
       "       [0., 0., 0., 0., 0., 0., 0., 0., 1., 0., 0., 0., 0., 0., 0., 0.,\n",
       "        0.],\n",
       "       [0., 0., 0., 0., 0., 0., 0., 0., 1., 0., 0., 0., 0., 0., 0., 0.,\n",
       "        0.],\n",
       "       [0., 0., 0., 0., 0., 0., 0., 0., 1., 0., 0., 0., 0., 0., 0., 0.,\n",
       "        0.],\n",
       "       [0., 0., 0., 0., 0., 0., 0., 0., 1., 0., 0., 0., 0., 0., 0., 0.,\n",
       "        0.],\n",
       "       [0., 0., 0., 0., 0., 0., 0., 0., 1., 0., 0., 0., 0., 0., 0., 0.,\n",
       "        0.],\n",
       "       [0., 0., 0., 0., 0., 0., 0., 0., 1., 0., 0., 0., 0., 0., 0., 0.,\n",
       "        0.],\n",
       "       [0., 0., 0., 0., 0., 0., 0., 0., 1., 0., 0., 0., 0., 0., 0., 0.,\n",
       "        0.],\n",
       "       [0., 0., 0., 0., 0., 0., 0., 0., 1., 0., 0., 0., 0., 0., 0., 0.,\n",
       "        0.],\n",
       "       [0., 0., 0., 0., 0., 0., 0., 0., 1., 0., 0., 0., 0., 0., 0., 0.,\n",
       "        0.],\n",
       "       [0., 0., 0., 0., 0., 0., 0., 0., 1., 0., 0., 0., 0., 0., 0., 0.,\n",
       "        0.]], dtype=float32)"
      ]
     },
     "execution_count": 17,
     "metadata": {},
     "output_type": "execute_result"
    }
   ],
   "source": [
    "y[0]"
   ]
  },
  {
   "cell_type": "markdown",
   "id": "be758631",
   "metadata": {
    "papermill": {
     "duration": 0.030364,
     "end_time": "2021-07-22T20:12:46.317988",
     "exception": false,
     "start_time": "2021-07-22T20:12:46.287624",
     "status": "completed"
    },
    "tags": []
   },
   "source": [
    "Now train-test splitting"
   ]
  },
  {
   "cell_type": "code",
   "execution_count": 18,
   "id": "57142ac9",
   "metadata": {
    "execution": {
     "iopub.execute_input": "2021-07-22T20:12:46.386151Z",
     "iopub.status.busy": "2021-07-22T20:12:46.385331Z",
     "iopub.status.idle": "2021-07-22T20:12:47.194273Z",
     "shell.execute_reply": "2021-07-22T20:12:47.193482Z",
     "shell.execute_reply.started": "2021-07-21T13:55:23.931499Z"
    },
    "papermill": {
     "duration": 0.845708,
     "end_time": "2021-07-22T20:12:47.194440",
     "exception": false,
     "start_time": "2021-07-22T20:12:46.348732",
     "status": "completed"
    },
    "tags": []
   },
   "outputs": [],
   "source": [
    "from sklearn.model_selection import train_test_split\n",
    "x_train, x_test, y_train, y_test = train_test_split(X, y, test_size=0.1,random_state=1 )"
   ]
  },
  {
   "cell_type": "markdown",
   "id": "9495713d",
   "metadata": {
    "papermill": {
     "duration": 0.032034,
     "end_time": "2021-07-22T20:12:47.258335",
     "exception": false,
     "start_time": "2021-07-22T20:12:47.226301",
     "status": "completed"
    },
    "tags": []
   },
   "source": [
    "Building and compiling a BiLSTM"
   ]
  },
  {
   "cell_type": "code",
   "execution_count": 19,
   "id": "2768907c",
   "metadata": {
    "execution": {
     "iopub.execute_input": "2021-07-22T20:12:47.328923Z",
     "iopub.status.busy": "2021-07-22T20:12:47.328183Z",
     "iopub.status.idle": "2021-07-22T20:12:47.331510Z",
     "shell.execute_reply": "2021-07-22T20:12:47.330915Z",
     "shell.execute_reply.started": "2021-07-21T13:55:24.773966Z"
    },
    "papermill": {
     "duration": 0.042621,
     "end_time": "2021-07-22T20:12:47.331666",
     "exception": false,
     "start_time": "2021-07-22T20:12:47.289045",
     "status": "completed"
    },
    "tags": []
   },
   "outputs": [],
   "source": [
    "from tensorflow.keras import Model, Input\n",
    "from tensorflow.keras.layers import LSTM, Embedding, Dense\n",
    "from tensorflow.keras.layers import TimeDistributed, SpatialDropout1D, Bidirectional"
   ]
  },
  {
   "cell_type": "code",
   "execution_count": 20,
   "id": "d67eed6b",
   "metadata": {
    "execution": {
     "iopub.execute_input": "2021-07-22T20:12:47.397130Z",
     "iopub.status.busy": "2021-07-22T20:12:47.395923Z",
     "iopub.status.idle": "2021-07-22T20:12:47.879363Z",
     "shell.execute_reply": "2021-07-22T20:12:47.878117Z",
     "shell.execute_reply.started": "2021-07-21T13:55:24.786067Z"
    },
    "papermill": {
     "duration": 0.517292,
     "end_time": "2021-07-22T20:12:47.879553",
     "exception": false,
     "start_time": "2021-07-22T20:12:47.362261",
     "status": "completed"
    },
    "tags": []
   },
   "outputs": [
    {
     "name": "stdout",
     "output_type": "stream",
     "text": [
      "Model: \"model\"\n",
      "_________________________________________________________________\n",
      "Layer (type)                 Output Shape              Param #   \n",
      "=================================================================\n",
      "input_1 (InputLayer)         [(None, 50)]              0         \n",
      "_________________________________________________________________\n",
      "embedding (Embedding)        (None, 50, 50)            1758950   \n",
      "_________________________________________________________________\n",
      "spatial_dropout1d (SpatialDr (None, 50, 50)            0         \n",
      "_________________________________________________________________\n",
      "bidirectional (Bidirectional (None, 50, 200)           120800    \n",
      "_________________________________________________________________\n",
      "time_distributed (TimeDistri (None, 50, 17)            3417      \n",
      "=================================================================\n",
      "Total params: 1,883,167\n",
      "Trainable params: 1,883,167\n",
      "Non-trainable params: 0\n",
      "_________________________________________________________________\n"
     ]
    }
   ],
   "source": [
    "input_word = Input(shape=(max_len,))\n",
    "model = Embedding(input_dim=num_words, output_dim=max_len, input_length=max_len)(input_word)\n",
    "model = SpatialDropout1D(0.1)(model)\n",
    "model = Bidirectional(LSTM(units=100, return_sequences=True, recurrent_dropout=0.1))(model)\n",
    "out = TimeDistributed(Dense(num_tags, activation='softmax'))(model)\n",
    "\n",
    "model = Model(input_word, out)\n",
    "model.summary()\n"
   ]
  },
  {
   "cell_type": "code",
   "execution_count": 21,
   "id": "cdfaf6e2",
   "metadata": {
    "execution": {
     "iopub.execute_input": "2021-07-22T20:12:47.957933Z",
     "iopub.status.busy": "2021-07-22T20:12:47.952581Z",
     "iopub.status.idle": "2021-07-22T20:12:47.966989Z",
     "shell.execute_reply": "2021-07-22T20:12:47.966389Z",
     "shell.execute_reply.started": "2021-07-21T13:55:25.261623Z"
    },
    "papermill": {
     "duration": 0.056298,
     "end_time": "2021-07-22T20:12:47.967166",
     "exception": false,
     "start_time": "2021-07-22T20:12:47.910868",
     "status": "completed"
    },
    "tags": []
   },
   "outputs": [],
   "source": [
    "model.compile(optimizer='adam',loss='categorical_crossentropy',\n",
    "             metrics=['accuracy'])"
   ]
  },
  {
   "cell_type": "markdown",
   "id": "2182a1df",
   "metadata": {
    "papermill": {
     "duration": 0.033561,
     "end_time": "2021-07-22T20:12:48.033657",
     "exception": false,
     "start_time": "2021-07-22T20:12:48.000096",
     "status": "completed"
    },
    "tags": []
   },
   "source": [
    "TRAINING MODEL with per-epoch visualizations using CALLBACKS"
   ]
  },
  {
   "cell_type": "code",
   "execution_count": 22,
   "id": "a7798c9f",
   "metadata": {
    "_kg_hide-output": true,
    "execution": {
     "iopub.execute_input": "2021-07-22T20:12:48.104259Z",
     "iopub.status.busy": "2021-07-22T20:12:48.103495Z",
     "iopub.status.idle": "2021-07-22T20:12:58.137204Z",
     "shell.execute_reply": "2021-07-22T20:12:58.136586Z",
     "shell.execute_reply.started": "2021-07-21T13:55:25.283584Z"
    },
    "papermill": {
     "duration": 10.071783,
     "end_time": "2021-07-22T20:12:58.137373",
     "exception": false,
     "start_time": "2021-07-22T20:12:48.065590",
     "status": "completed"
    },
    "tags": []
   },
   "outputs": [
    {
     "name": "stdout",
     "output_type": "stream",
     "text": [
      "Collecting livelossplot\r\n",
      "  Downloading livelossplot-0.5.4-py3-none-any.whl (22 kB)\r\n",
      "Requirement already satisfied: matplotlib in /opt/conda/lib/python3.7/site-packages (from livelossplot) (3.4.2)\r\n",
      "Requirement already satisfied: ipython in /opt/conda/lib/python3.7/site-packages (from livelossplot) (7.24.1)\r\n",
      "Requirement already satisfied: bokeh in /opt/conda/lib/python3.7/site-packages (from livelossplot) (2.3.2)\r\n",
      "Requirement already satisfied: pillow>=7.1.0 in /opt/conda/lib/python3.7/site-packages (from bokeh->livelossplot) (8.2.0)\r\n",
      "Requirement already satisfied: numpy>=1.11.3 in /opt/conda/lib/python3.7/site-packages (from bokeh->livelossplot) (1.19.5)\r\n",
      "Requirement already satisfied: packaging>=16.8 in /opt/conda/lib/python3.7/site-packages (from bokeh->livelossplot) (20.9)\r\n",
      "Requirement already satisfied: python-dateutil>=2.1 in /opt/conda/lib/python3.7/site-packages (from bokeh->livelossplot) (2.8.1)\r\n",
      "Requirement already satisfied: Jinja2>=2.9 in /opt/conda/lib/python3.7/site-packages (from bokeh->livelossplot) (3.0.1)\r\n",
      "Requirement already satisfied: tornado>=5.1 in /opt/conda/lib/python3.7/site-packages (from bokeh->livelossplot) (6.1)\r\n",
      "Requirement already satisfied: typing-extensions>=3.7.4 in /opt/conda/lib/python3.7/site-packages (from bokeh->livelossplot) (3.7.4.3)\r\n",
      "Requirement already satisfied: PyYAML>=3.10 in /opt/conda/lib/python3.7/site-packages (from bokeh->livelossplot) (5.4.1)\r\n",
      "Requirement already satisfied: MarkupSafe>=2.0 in /opt/conda/lib/python3.7/site-packages (from Jinja2>=2.9->bokeh->livelossplot) (2.0.1)\r\n",
      "Requirement already satisfied: pyparsing>=2.0.2 in /opt/conda/lib/python3.7/site-packages (from packaging>=16.8->bokeh->livelossplot) (2.4.7)\r\n",
      "Requirement already satisfied: six>=1.5 in /opt/conda/lib/python3.7/site-packages (from python-dateutil>=2.1->bokeh->livelossplot) (1.15.0)\r\n",
      "Requirement already satisfied: backcall in /opt/conda/lib/python3.7/site-packages (from ipython->livelossplot) (0.2.0)\r\n",
      "Requirement already satisfied: matplotlib-inline in /opt/conda/lib/python3.7/site-packages (from ipython->livelossplot) (0.1.2)\r\n",
      "Requirement already satisfied: decorator in /opt/conda/lib/python3.7/site-packages (from ipython->livelossplot) (5.0.9)\r\n",
      "Requirement already satisfied: pickleshare in /opt/conda/lib/python3.7/site-packages (from ipython->livelossplot) (0.7.5)\r\n",
      "Requirement already satisfied: pygments in /opt/conda/lib/python3.7/site-packages (from ipython->livelossplot) (2.9.0)\r\n",
      "Requirement already satisfied: setuptools>=18.5 in /opt/conda/lib/python3.7/site-packages (from ipython->livelossplot) (49.6.0.post20210108)\r\n",
      "Requirement already satisfied: traitlets>=4.2 in /opt/conda/lib/python3.7/site-packages (from ipython->livelossplot) (5.0.5)\r\n",
      "Requirement already satisfied: prompt-toolkit!=3.0.0,!=3.0.1,<3.1.0,>=2.0.0 in /opt/conda/lib/python3.7/site-packages (from ipython->livelossplot) (3.0.19)\r\n",
      "Requirement already satisfied: jedi>=0.16 in /opt/conda/lib/python3.7/site-packages (from ipython->livelossplot) (0.18.0)\r\n",
      "Requirement already satisfied: pexpect>4.3 in /opt/conda/lib/python3.7/site-packages (from ipython->livelossplot) (4.8.0)\r\n",
      "Requirement already satisfied: parso<0.9.0,>=0.8.0 in /opt/conda/lib/python3.7/site-packages (from jedi>=0.16->ipython->livelossplot) (0.8.2)\r\n",
      "Requirement already satisfied: ptyprocess>=0.5 in /opt/conda/lib/python3.7/site-packages (from pexpect>4.3->ipython->livelossplot) (0.7.0)\r\n",
      "Requirement already satisfied: wcwidth in /opt/conda/lib/python3.7/site-packages (from prompt-toolkit!=3.0.0,!=3.0.1,<3.1.0,>=2.0.0->ipython->livelossplot) (0.2.5)\r\n",
      "Requirement already satisfied: ipython-genutils in /opt/conda/lib/python3.7/site-packages (from traitlets>=4.2->ipython->livelossplot) (0.2.0)\r\n",
      "Requirement already satisfied: kiwisolver>=1.0.1 in /opt/conda/lib/python3.7/site-packages (from matplotlib->livelossplot) (1.3.1)\r\n",
      "Requirement already satisfied: cycler>=0.10 in /opt/conda/lib/python3.7/site-packages (from matplotlib->livelossplot) (0.10.0)\r\n",
      "Installing collected packages: livelossplot\r\n",
      "Successfully installed livelossplot-0.5.4\r\n",
      "\u001b[33mWARNING: Running pip as root will break packages and permissions. You should install packages reliably by using venv: https://pip.pypa.io/warnings/venv\u001b[0m\r\n",
      "Note: you may need to restart the kernel to use updated packages.\n"
     ]
    }
   ],
   "source": [
    "pip install livelossplot"
   ]
  },
  {
   "cell_type": "code",
   "execution_count": 23,
   "id": "ee9970ba",
   "metadata": {
    "execution": {
     "iopub.execute_input": "2021-07-22T20:12:58.216068Z",
     "iopub.status.busy": "2021-07-22T20:12:58.214888Z",
     "iopub.status.idle": "2021-07-22T20:12:58.227702Z",
     "shell.execute_reply": "2021-07-22T20:12:58.227016Z",
     "shell.execute_reply.started": "2021-07-21T13:55:34.646925Z"
    },
    "papermill": {
     "duration": 0.054171,
     "end_time": "2021-07-22T20:12:58.227911",
     "exception": false,
     "start_time": "2021-07-22T20:12:58.173740",
     "status": "completed"
    },
    "tags": []
   },
   "outputs": [],
   "source": [
    "from tensorflow.keras.callbacks import EarlyStopping\n",
    "from livelossplot import PlotLossesKeras\n"
   ]
  },
  {
   "cell_type": "code",
   "execution_count": 24,
   "id": "bb1a80b1",
   "metadata": {
    "execution": {
     "iopub.execute_input": "2021-07-22T20:12:58.304542Z",
     "iopub.status.busy": "2021-07-22T20:12:58.303484Z",
     "iopub.status.idle": "2021-07-22T20:12:58.308573Z",
     "shell.execute_reply": "2021-07-22T20:12:58.307936Z",
     "shell.execute_reply.started": "2021-07-21T13:55:34.66234Z"
    },
    "papermill": {
     "duration": 0.04602,
     "end_time": "2021-07-22T20:12:58.308741",
     "exception": false,
     "start_time": "2021-07-22T20:12:58.262721",
     "status": "completed"
    },
    "tags": []
   },
   "outputs": [
    {
     "data": {
      "text/plain": [
       "list"
      ]
     },
     "execution_count": 24,
     "metadata": {},
     "output_type": "execute_result"
    }
   ],
   "source": [
    "type(y_train)"
   ]
  },
  {
   "cell_type": "code",
   "execution_count": 25,
   "id": "00598efa",
   "metadata": {
    "execution": {
     "iopub.execute_input": "2021-07-22T20:12:58.386188Z",
     "iopub.status.busy": "2021-07-22T20:12:58.385518Z",
     "iopub.status.idle": "2021-07-22T20:27:06.273648Z",
     "shell.execute_reply": "2021-07-22T20:27:06.274258Z",
     "shell.execute_reply.started": "2021-07-21T13:55:34.677363Z"
    },
    "papermill": {
     "duration": 847.930123,
     "end_time": "2021-07-22T20:27:06.274648",
     "exception": false,
     "start_time": "2021-07-22T20:12:58.344525",
     "status": "completed"
    },
    "tags": []
   },
   "outputs": [
    {
     "data": {
      "image/png": "[encoded data removed]",
      "text/plain": [
       "<Figure size 864x576 with 2 Axes>"
      ]
     },
     "metadata": {},
     "output_type": "display_data"
    },
    {
     "name": "stdout",
     "output_type": "stream",
     "text": [
      "accuracy\n",
      "\ttraining         \t (min:    0.957, max:    0.992, cur:    0.992)\n",
      "\tvalidation       \t (min:    0.980, max:    0.986, cur:    0.985)\n",
      "Loss\n",
      "\ttraining         \t (min:    0.024, max:    0.186, cur:    0.024)\n",
      "\tvalidation       \t (min:    0.047, max:    0.068, cur:    0.051)\n"
     ]
    }
   ],
   "source": [
    "early_stopping = EarlyStopping(monitor='val_accuracy', patience = 1, verbose=0, mode='max', restore_best_weights=False)\n",
    "callbacks = [PlotLossesKeras(), early_stopping]\n",
    "\n",
    "history = model.fit(\n",
    "    x_train, np.array(y_train),\n",
    "    validation_split=0.2,\n",
    "    batch_size=32,\n",
    "    epochs=50,\n",
    "    verbose=100,\n",
    "    callbacks=callbacks\n",
    ")"
   ]
  },
  {
   "cell_type": "code",
   "execution_count": 26,
   "id": "f8150ba5",
   "metadata": {
    "execution": {
     "iopub.execute_input": "2021-07-22T20:27:06.358067Z",
     "iopub.status.busy": "2021-07-22T20:27:06.357372Z",
     "iopub.status.idle": "2021-07-22T20:27:09.418235Z",
     "shell.execute_reply": "2021-07-22T20:27:09.417485Z",
     "shell.execute_reply.started": "2021-07-21T14:01:41.406863Z"
    },
    "papermill": {
     "duration": 3.106929,
     "end_time": "2021-07-22T20:27:09.418409",
     "exception": false,
     "start_time": "2021-07-22T20:27:06.311480",
     "status": "completed"
    },
    "tags": []
   },
   "outputs": [
    {
     "name": "stdout",
     "output_type": "stream",
     "text": [
      "150/150 [==============================] - 3s 20ms/step - loss: 0.0514 - accuracy: 0.9853\n"
     ]
    },
    {
     "data": {
      "text/plain": [
       "[0.05143486708402634, 0.9852710366249084]"
      ]
     },
     "execution_count": 26,
     "metadata": {},
     "output_type": "execute_result"
    }
   ],
   "source": [
    "model.evaluate(x_test, np.array(y_test))"
   ]
  },
  {
   "cell_type": "code",
   "execution_count": 27,
   "id": "1808cd74",
   "metadata": {
    "execution": {
     "iopub.execute_input": "2021-07-22T20:27:09.534713Z",
     "iopub.status.busy": "2021-07-22T20:27:09.533714Z",
     "iopub.status.idle": "2021-07-22T20:27:09.538681Z",
     "shell.execute_reply": "2021-07-22T20:27:09.538125Z",
     "shell.execute_reply.started": "2021-07-21T14:01:43.957959Z"
    },
    "papermill": {
     "duration": 0.067274,
     "end_time": "2021-07-22T20:27:09.538857",
     "exception": false,
     "start_time": "2021-07-22T20:27:09.471583",
     "status": "completed"
    },
    "tags": []
   },
   "outputs": [
    {
     "data": {
      "text/plain": [
       "array([13232,   590, 24774,  3123,   364, 30127, 24774,  9400,   354,\n",
       "       14852,  9763,  4042,   354, 21106, 24103,  5264,  6725,  5742,\n",
       "       24774,  6725, 13074, 14864, 28851,  6045,  9085, 18636,   354,\n",
       "       13218,  9505, 25015,  7808, 14864,  6725, 30677, 13225, 35178,\n",
       "       35178, 35178, 35178, 35178, 35178, 35178, 35178, 35178, 35178,\n",
       "       35178, 35178, 35178, 35178, 35178], dtype=int32)"
      ]
     },
     "execution_count": 27,
     "metadata": {},
     "output_type": "execute_result"
    }
   ],
   "source": [
    "x_test[0]"
   ]
  },
  {
   "cell_type": "code",
   "execution_count": 28,
   "id": "567da274",
   "metadata": {
    "execution": {
     "iopub.execute_input": "2021-07-22T20:27:09.658020Z",
     "iopub.status.busy": "2021-07-22T20:27:09.655787Z",
     "iopub.status.idle": "2021-07-22T20:27:10.224990Z",
     "shell.execute_reply": "2021-07-22T20:27:10.225464Z",
     "shell.execute_reply.started": "2021-07-21T14:01:43.966951Z"
    },
    "papermill": {
     "duration": 0.632699,
     "end_time": "2021-07-22T20:27:10.225686",
     "exception": false,
     "start_time": "2021-07-22T20:27:09.592987",
     "status": "completed"
    },
    "tags": []
   },
   "outputs": [
    {
     "name": "stdout",
     "output_type": "stream",
     "text": [
      "Word           True \tPred\n",
      "\n",
      "------------------------------\n",
      "The            O\tO\n",
      "United         B-org\tB-org\n",
      "Nations        I-org\tI-org\n",
      "has            O\tO\n",
      "been           O\tO\n",
      "under          O\tO\n",
      "fire           O\tO\n",
      "for            O\tO\n",
      "failing        O\tO\n",
      "to             O\tO\n",
      "stop           O\tO\n",
      "ongoing        O\tO\n",
      "ethnic         O\tO\n",
      "violence       O\tO\n",
      "in             O\tO\n",
      "Ituri          B-geo\tB-geo\n",
      ".              O\tO\n",
      "Couso          O\tO\n",
      "Couso          O\tO\n",
      "Couso          O\tO\n",
      "Couso          O\tO\n",
      "Couso          O\tO\n",
      "Couso          O\tO\n",
      "Couso          O\tO\n",
      "Couso          O\tO\n",
      "Couso          O\tO\n",
      "Couso          O\tO\n",
      "Couso          O\tO\n",
      "Couso          O\tO\n",
      "Couso          O\tO\n",
      "Couso          O\tO\n",
      "Couso          O\tO\n",
      "Couso          O\tO\n",
      "Couso          O\tO\n",
      "Couso          O\tO\n",
      "Couso          O\tO\n",
      "Couso          O\tO\n",
      "Couso          O\tO\n",
      "Couso          O\tO\n",
      "Couso          O\tO\n",
      "Couso          O\tO\n",
      "Couso          O\tO\n",
      "Couso          O\tO\n",
      "Couso          O\tO\n",
      "Couso          O\tO\n",
      "Couso          O\tO\n",
      "Couso          O\tO\n",
      "Couso          O\tO\n",
      "Couso          O\tO\n",
      "Couso          O\tO\n"
     ]
    }
   ],
   "source": [
    "i = np.random.randint(0, x_test.shape[0])\n",
    "p = model.predict(np.array([x_test[i]]))\n",
    "# print(np.shape(p))\n",
    "# print(p)\n",
    "p = np.argmax(p, axis=-1)\n",
    "\n",
    "\n",
    "y_true = np.argmax(np.array(y_test), axis=-1)[i]\n",
    "\n",
    "print(\"{:15}{:5}\\t{}\\n\".format(\"Word\", \"True\", \"Pred\"))\n",
    "print(\"-\"*30)\n",
    "\n",
    "for (w, t, pred) in zip(x_test[i], y_true, p[0]):\n",
    "    print(\"{:15}{}\\t{}\".format(words[w-1], tags[t], tags[pred]))"
   ]
  }
 ],
 "metadata": {
  "kernelspec": {
   "display_name": "Python 3",
   "language": "python",
   "name": "python3"
  },
  "language_info": {
   "codemirror_mode": {
    "name": "ipython",
    "version": 3
   },
   "file_extension": ".py",
   "mimetype": "text/x-python",
   "name": "python",
   "nbconvert_exporter": "python",
   "pygments_lexer": "ipython3",
   "version": "3.7.10"
  },
  "papermill": {
   "default_parameters": {},
   "duration": 897.325274,
   "end_time": "2021-07-22T20:27:13.494953",
   "environment_variables": {},
   "exception": null,
   "input_path": "__notebook__.ipynb",
   "output_path": "__notebook__.ipynb",
   "parameters": {},
   "start_time": "2021-07-22T20:12:16.169679",
   "version": "2.3.3"
  }
 },
 "nbformat": 4,
 "nbformat_minor": 5
}
