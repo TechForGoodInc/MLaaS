{
 "cells": [
  {
   "cell_type": "code",
   "execution_count": 1,
   "id": "bf8e44fc",
   "metadata": {
    "_cell_guid": "b1076dfc-b9ad-4769-8c92-a6c4dae69d19",
    "_uuid": "8f2839f25d086af736a60e9eeb907d3b93b6e0e5",
    "execution": {
     "iopub.execute_input": "2021-07-22T20:10:54.092302Z",
     "iopub.status.busy": "2021-07-22T20:10:54.091641Z",
     "iopub.status.idle": "2021-07-22T20:10:54.996116Z",
     "shell.execute_reply": "2021-07-22T20:10:54.995534Z"
    },
    "papermill": {
     "duration": 0.934694,
     "end_time": "2021-07-22T20:10:54.996298",
     "exception": false,
     "start_time": "2021-07-22T20:10:54.061604",
     "status": "completed"
    },
    "tags": []
   },
   "outputs": [],
   "source": [
    "import numpy as np\n",
    "import pandas as pd\n",
    "from sklearn.model_selection import train_test_split\n",
    "import re"
   ]
  },
  {
   "cell_type": "markdown",
   "id": "8d0dad7d",
   "metadata": {
    "papermill": {
     "duration": 0.01616,
     "end_time": "2021-07-22T20:10:55.029261",
     "exception": false,
     "start_time": "2021-07-22T20:10:55.013101",
     "status": "completed"
    },
    "tags": []
   },
   "source": [
    "**Load the dataset and then only used the paper_text column for text generation**"
   ]
  },
  {
   "cell_type": "code",
   "execution_count": 2,
   "id": "07e2940a",
   "metadata": {
    "execution": {
     "iopub.execute_input": "2021-07-22T20:10:55.066069Z",
     "iopub.status.busy": "2021-07-22T20:10:55.065431Z",
     "iopub.status.idle": "2021-07-22T20:10:55.182568Z",
     "shell.execute_reply": "2021-07-22T20:10:55.182076Z"
    },
    "papermill": {
     "duration": 0.137246,
     "end_time": "2021-07-22T20:10:55.182693",
     "exception": false,
     "start_time": "2021-07-22T20:10:55.045447",
     "status": "completed"
    },
    "tags": []
   },
   "outputs": [
    {
     "data": {
      "text/html": [
       "<div>\n",
       "<style scoped>\n",
       "    .dataframe tbody tr th:only-of-type {\n",
       "        vertical-align: middle;\n",
       "    }\n",
       "\n",
       "    .dataframe tbody tr th {\n",
       "        vertical-align: top;\n",
       "    }\n",
       "\n",
       "    .dataframe thead th {\n",
       "        text-align: right;\n",
       "    }\n",
       "</style>\n",
       "<table border=\"1\" class=\"dataframe\">\n",
       "  <thead>\n",
       "    <tr style=\"text-align: right;\">\n",
       "      <th></th>\n",
       "      <th>Unnamed: 0</th>\n",
       "      <th>date</th>\n",
       "      <th>target</th>\n",
       "      <th>insult</th>\n",
       "      <th>tweet</th>\n",
       "    </tr>\n",
       "  </thead>\n",
       "  <tbody>\n",
       "    <tr>\n",
       "      <th>0</th>\n",
       "      <td>1</td>\n",
       "      <td>2014-10-09</td>\n",
       "      <td>thomas-frieden</td>\n",
       "      <td>fool</td>\n",
       "      <td>Can you believe this fool, Dr. Thomas Frieden ...</td>\n",
       "    </tr>\n",
       "    <tr>\n",
       "      <th>1</th>\n",
       "      <td>2</td>\n",
       "      <td>2014-10-09</td>\n",
       "      <td>thomas-frieden</td>\n",
       "      <td>DOPE</td>\n",
       "      <td>Can you believe this fool, Dr. Thomas Frieden ...</td>\n",
       "    </tr>\n",
       "    <tr>\n",
       "      <th>2</th>\n",
       "      <td>3</td>\n",
       "      <td>2015-06-16</td>\n",
       "      <td>politicians</td>\n",
       "      <td>all talk and no action</td>\n",
       "      <td>Big time in U.S. today - MAKE AMERICA GREAT AG...</td>\n",
       "    </tr>\n",
       "    <tr>\n",
       "      <th>3</th>\n",
       "      <td>4</td>\n",
       "      <td>2015-06-24</td>\n",
       "      <td>ben-cardin</td>\n",
       "      <td>It's politicians like Cardin that have destroy...</td>\n",
       "      <td>Politician @SenatorCardin didn't like that I s...</td>\n",
       "    </tr>\n",
       "    <tr>\n",
       "      <th>4</th>\n",
       "      <td>5</td>\n",
       "      <td>2015-06-24</td>\n",
       "      <td>neil-young</td>\n",
       "      <td>total hypocrite</td>\n",
       "      <td>For the nonbeliever, here is a photo of @Neily...</td>\n",
       "    </tr>\n",
       "  </tbody>\n",
       "</table>\n",
       "</div>"
      ],
      "text/plain": [
       "   Unnamed: 0        date          target  \\\n",
       "0           1  2014-10-09  thomas-frieden   \n",
       "1           2  2014-10-09  thomas-frieden   \n",
       "2           3  2015-06-16     politicians   \n",
       "3           4  2015-06-24      ben-cardin   \n",
       "4           5  2015-06-24      neil-young   \n",
       "\n",
       "                                              insult  \\\n",
       "0                                               fool   \n",
       "1                                               DOPE   \n",
       "2                             all talk and no action   \n",
       "3  It's politicians like Cardin that have destroy...   \n",
       "4                                    total hypocrite   \n",
       "\n",
       "                                               tweet  \n",
       "0  Can you believe this fool, Dr. Thomas Frieden ...  \n",
       "1  Can you believe this fool, Dr. Thomas Frieden ...  \n",
       "2  Big time in U.S. today - MAKE AMERICA GREAT AG...  \n",
       "3  Politician @SenatorCardin didn't like that I s...  \n",
       "4  For the nonbeliever, here is a photo of @Neily...  "
      ]
     },
     "execution_count": 2,
     "metadata": {},
     "output_type": "execute_result"
    }
   ],
   "source": [
    "data = pd.read_csv('../input/all-trumps-twitter-insults-20152021/trump_insult_tweets_2014_to_2021.csv')\n",
    "data.head()"
   ]
  },
  {
   "cell_type": "code",
   "execution_count": 3,
   "id": "5d96cca9",
   "metadata": {
    "execution": {
     "iopub.execute_input": "2021-07-22T20:10:55.222353Z",
     "iopub.status.busy": "2021-07-22T20:10:55.221111Z",
     "iopub.status.idle": "2021-07-22T20:10:55.223470Z",
     "shell.execute_reply": "2021-07-22T20:10:55.223832Z"
    },
    "papermill": {
     "duration": 0.024272,
     "end_time": "2021-07-22T20:10:55.223954",
     "exception": false,
     "start_time": "2021-07-22T20:10:55.199682",
     "status": "completed"
    },
    "tags": []
   },
   "outputs": [],
   "source": [
    "tweets = data['tweet'].copy()\n",
    "del data"
   ]
  },
  {
   "cell_type": "markdown",
   "id": "b2293430",
   "metadata": {
    "papermill": {
     "duration": 0.019057,
     "end_time": "2021-07-22T20:10:55.259816",
     "exception": false,
     "start_time": "2021-07-22T20:10:55.240759",
     "status": "completed"
    },
    "tags": []
   },
   "source": []
  },
  {
   "cell_type": "markdown",
   "id": "39ac9633",
   "metadata": {
    "papermill": {
     "duration": 0.016389,
     "end_time": "2021-07-22T20:10:55.292835",
     "exception": false,
     "start_time": "2021-07-22T20:10:55.276446",
     "status": "completed"
    },
    "tags": []
   },
   "source": [
    "**Added three new tokens in the pre-trained GPT2 tokenizer: \\**\n",
    "\n",
    "**<|sos|> : start of sentence \\**\n",
    "\n",
    "**<|eos|> : end of sentence \\**\n",
    "\n",
    "**<|pad|> : padding token****"
   ]
  },
  {
   "cell_type": "code",
   "execution_count": 4,
   "id": "ba63be8d",
   "metadata": {
    "execution": {
     "iopub.execute_input": "2021-07-22T20:10:55.331401Z",
     "iopub.status.busy": "2021-07-22T20:10:55.330778Z",
     "iopub.status.idle": "2021-07-22T20:11:01.034014Z",
     "shell.execute_reply": "2021-07-22T20:11:01.033601Z"
    },
    "papermill": {
     "duration": 5.724331,
     "end_time": "2021-07-22T20:11:01.034139",
     "exception": false,
     "start_time": "2021-07-22T20:10:55.309808",
     "status": "completed"
    },
    "tags": []
   },
   "outputs": [
    {
     "data": {
      "application/vnd.jupyter.widget-view+json": {
       "model_id": "e221953374834d959725ffdb7983667f",
       "version_major": 2,
       "version_minor": 0
      },
      "text/plain": [
       "Downloading:   0%|          | 0.00/1.04M [00:00<?, ?B/s]"
      ]
     },
     "metadata": {},
     "output_type": "display_data"
    },
    {
     "data": {
      "application/vnd.jupyter.widget-view+json": {
       "model_id": "9b9d7011fcc242ce851d568204ca9f0b",
       "version_major": 2,
       "version_minor": 0
      },
      "text/plain": [
       "Downloading:   0%|          | 0.00/456k [00:00<?, ?B/s]"
      ]
     },
     "metadata": {},
     "output_type": "display_data"
    },
    {
     "data": {
      "application/vnd.jupyter.widget-view+json": {
       "model_id": "6410f706b3db408a8b431feed664149e",
       "version_major": 2,
       "version_minor": 0
      },
      "text/plain": [
       "Downloading:   0%|          | 0.00/1.36M [00:00<?, ?B/s]"
      ]
     },
     "metadata": {},
     "output_type": "display_data"
    },
    {
     "name": "stderr",
     "output_type": "stream",
     "text": [
      "Special tokens have been added in the vocabulary, make sure the associated word embeddings are fine-tuned or trained.\n"
     ]
    },
    {
     "data": {
      "text/plain": [
       "[36674, 8255]"
      ]
     },
     "execution_count": 4,
     "metadata": {},
     "output_type": "execute_result"
    }
   ],
   "source": [
    "from transformers import GPT2Tokenizer\n",
    "\n",
    "tokenizer = GPT2Tokenizer.from_pretrained('gpt2', \n",
    "                                          bos_token='<|sos|>', \n",
    "                                          eos_token='<|eos|>', \n",
    "                                          pad_token='<|pad|>')\n",
    "\n",
    "\n",
    "tokenizer.encode(\"Sample Text\")"
   ]
  },
  {
   "cell_type": "code",
   "execution_count": 5,
   "id": "40db763d",
   "metadata": {
    "execution": {
     "iopub.execute_input": "2021-07-22T20:11:01.076262Z",
     "iopub.status.busy": "2021-07-22T20:11:01.075480Z",
     "iopub.status.idle": "2021-07-22T20:11:05.060196Z",
     "shell.execute_reply": "2021-07-22T20:11:05.060933Z"
    },
    "papermill": {
     "duration": 4.008139,
     "end_time": "2021-07-22T20:11:05.061109",
     "exception": false,
     "start_time": "2021-07-22T20:11:01.052970",
     "status": "completed"
    },
    "tags": []
   },
   "outputs": [
    {
     "name": "stdout",
     "output_type": "stream",
     "text": [
      "The longest text is 108 tokens long.\n"
     ]
    }
   ],
   "source": [
    "max_tweet = max([len(tokenizer.encode(tweet)) for tweet in tweets])\n",
    "\n",
    "print(f'The longest text is {max_tweet} tokens long.')"
   ]
  },
  {
   "cell_type": "markdown",
   "id": "89a12fa4",
   "metadata": {
    "papermill": {
     "duration": 0.018756,
     "end_time": "2021-07-22T20:11:05.099365",
     "exception": false,
     "start_time": "2021-07-22T20:11:05.080609",
     "status": "completed"
    },
    "tags": []
   },
   "source": [
    "**Next we create a custom dataloader for our tweet using torch Dataset. \\\n",
    "Each entry in the dataset will be two tensors, one which is the encoding for the string and one which is the attention mask**"
   ]
  },
  {
   "cell_type": "code",
   "execution_count": 6,
   "id": "9448602b",
   "metadata": {
    "execution": {
     "iopub.execute_input": "2021-07-22T20:11:05.145981Z",
     "iopub.status.busy": "2021-07-22T20:11:05.145346Z",
     "iopub.status.idle": "2021-07-22T20:11:05.148625Z",
     "shell.execute_reply": "2021-07-22T20:11:05.148178Z"
    },
    "papermill": {
     "duration": 0.030551,
     "end_time": "2021-07-22T20:11:05.148735",
     "exception": false,
     "start_time": "2021-07-22T20:11:05.118184",
     "status": "completed"
    },
    "tags": []
   },
   "outputs": [],
   "source": [
    "batch_size = 32\n",
    "\n",
    "import torch\n",
    "#torch.cuda.empty_cache()\n",
    "from torch.utils.data import Dataset\n",
    "\n",
    "class PaperDataset(Dataset):\n",
    "    def __init__(self,tweets,tokenizer,gpt2_type=\"gpt2\",max_length=max_tweet):\n",
    "        self.tokenizer = tokenizer\n",
    "        self.input_ids = []\n",
    "        self.attention_masks = []\n",
    "        \n",
    "        for tweet in tweets:\n",
    "            encoding_dict = tokenizer('<|sos|>'+ tweet +'<|eos|>',truncation=True,\n",
    "                                     max_length=max_length,\n",
    "                                     padding='max_length')\n",
    "            \n",
    "            self.input_ids.append(torch.tensor(encoding_dict['input_ids']))\n",
    "            self.attention_masks.append(torch.tensor(encoding_dict['attention_mask']))\n",
    "        \n",
    "    def __len__(self):\n",
    "        return len(self.input_ids)\n",
    "    \n",
    "    def __getitem__(self,idx):\n",
    "        return self.input_ids[idx], self.attention_masks[idx]"
   ]
  },
  {
   "cell_type": "code",
   "execution_count": 7,
   "id": "c28f7019",
   "metadata": {
    "execution": {
     "iopub.execute_input": "2021-07-22T20:11:05.191142Z",
     "iopub.status.busy": "2021-07-22T20:11:05.190595Z",
     "iopub.status.idle": "2021-07-22T20:11:09.558229Z",
     "shell.execute_reply": "2021-07-22T20:11:09.557271Z"
    },
    "papermill": {
     "duration": 4.390774,
     "end_time": "2021-07-22T20:11:09.558370",
     "exception": false,
     "start_time": "2021-07-22T20:11:05.167596",
     "status": "completed"
    },
    "tags": []
   },
   "outputs": [],
   "source": [
    "from torch.utils.data import random_split\n",
    "dataset = PaperDataset(tweets,tokenizer,max_length=max_tweet)"
   ]
  },
  {
   "cell_type": "markdown",
   "id": "ff0f683e",
   "metadata": {
    "papermill": {
     "duration": 0.019563,
     "end_time": "2021-07-22T20:11:09.598001",
     "exception": false,
     "start_time": "2021-07-22T20:11:09.578438",
     "status": "completed"
    },
    "tags": []
   },
   "source": [
    "**We use 90% dataset for training and 10% for validation.**"
   ]
  },
  {
   "cell_type": "code",
   "execution_count": 8,
   "id": "d4967a5d",
   "metadata": {
    "execution": {
     "iopub.execute_input": "2021-07-22T20:11:09.644799Z",
     "iopub.status.busy": "2021-07-22T20:11:09.644150Z",
     "iopub.status.idle": "2021-07-22T20:11:09.668507Z",
     "shell.execute_reply": "2021-07-22T20:11:09.667907Z"
    },
    "papermill": {
     "duration": 0.05097,
     "end_time": "2021-07-22T20:11:09.668675",
     "exception": false,
     "start_time": "2021-07-22T20:11:09.617705",
     "status": "completed"
    },
    "tags": []
   },
   "outputs": [
    {
     "name": "stdout",
     "output_type": "stream",
     "text": [
      "No of train samples = 9324 and Number of validation samples = 1036\n"
     ]
    }
   ],
   "source": [
    "train_size = int(0.9 * len(dataset))\n",
    "val_size = len(dataset)-train_size\n",
    "\n",
    "train,val = random_split(dataset,[train_size,val_size])\n",
    "print(f'No of train samples = {train_size} and Number of validation samples = {val_size}')"
   ]
  },
  {
   "cell_type": "code",
   "execution_count": 9,
   "id": "efc8448f",
   "metadata": {
    "execution": {
     "iopub.execute_input": "2021-07-22T20:11:09.715465Z",
     "iopub.status.busy": "2021-07-22T20:11:09.714631Z",
     "iopub.status.idle": "2021-07-22T20:11:09.717514Z",
     "shell.execute_reply": "2021-07-22T20:11:09.717030Z"
    },
    "papermill": {
     "duration": 0.027577,
     "end_time": "2021-07-22T20:11:09.717642",
     "exception": false,
     "start_time": "2021-07-22T20:11:09.690065",
     "status": "completed"
    },
    "tags": []
   },
   "outputs": [],
   "source": [
    "from torch.utils.data import DataLoader, RandomSampler, SequentialSampler\n",
    "\n",
    "train_dataloader = DataLoader(train,sampler = RandomSampler(train),\n",
    "                             batch_size = batch_size)\n",
    "\n",
    "val_dataloader = DataLoader(val,sampler = SequentialSampler(val),\n",
    "                           batch_size = batch_size)"
   ]
  },
  {
   "cell_type": "code",
   "execution_count": 10,
   "id": "4359c48c",
   "metadata": {
    "execution": {
     "iopub.execute_input": "2021-07-22T20:11:09.762420Z",
     "iopub.status.busy": "2021-07-22T20:11:09.761658Z",
     "iopub.status.idle": "2021-07-22T20:11:13.938779Z",
     "shell.execute_reply": "2021-07-22T20:11:13.937882Z"
    },
    "papermill": {
     "duration": 4.201336,
     "end_time": "2021-07-22T20:11:13.938919",
     "exception": false,
     "start_time": "2021-07-22T20:11:09.737583",
     "status": "completed"
    },
    "tags": []
   },
   "outputs": [],
   "source": [
    "import random\n",
    "from transformers import GPT2LMHeadModel, GPT2Config"
   ]
  },
  {
   "cell_type": "code",
   "execution_count": 11,
   "id": "4773dee9",
   "metadata": {
    "execution": {
     "iopub.execute_input": "2021-07-22T20:11:13.986743Z",
     "iopub.status.busy": "2021-07-22T20:11:13.984498Z",
     "iopub.status.idle": "2021-07-22T20:11:50.247793Z",
     "shell.execute_reply": "2021-07-22T20:11:50.247130Z"
    },
    "papermill": {
     "duration": 36.288947,
     "end_time": "2021-07-22T20:11:50.247954",
     "exception": false,
     "start_time": "2021-07-22T20:11:13.959007",
     "status": "completed"
    },
    "tags": []
   },
   "outputs": [
    {
     "data": {
      "application/vnd.jupyter.widget-view+json": {
       "model_id": "17241a7252db42c692e54ded61e8471d",
       "version_major": 2,
       "version_minor": 0
      },
      "text/plain": [
       "Downloading:   0%|          | 0.00/665 [00:00<?, ?B/s]"
      ]
     },
     "metadata": {},
     "output_type": "display_data"
    },
    {
     "data": {
      "application/vnd.jupyter.widget-view+json": {
       "model_id": "3b3c22c460954d1b913a6b6d7c20189e",
       "version_major": 2,
       "version_minor": 0
      },
      "text/plain": [
       "Downloading:   0%|          | 0.00/548M [00:00<?, ?B/s]"
      ]
     },
     "metadata": {},
     "output_type": "display_data"
    }
   ],
   "source": [
    "configuration = GPT2Config.from_pretrained('gpt2', output_hidden_states=False)\n",
    "model = GPT2LMHeadModel.from_pretrained(\"gpt2\", config=configuration)\n",
    "model.resize_token_embeddings(len(tokenizer))\n",
    "\n",
    "device = torch.device(\"cuda\")\n",
    "model.cuda()\n",
    "\n",
    "seed_val = 42\n",
    "\n",
    "random.seed(seed_val)\n",
    "np.random.seed(seed_val)\n",
    "torch.manual_seed(seed_val)\n",
    "torch.cuda.manual_seed_all(seed_val)"
   ]
  },
  {
   "cell_type": "code",
   "execution_count": 12,
   "id": "54ad3a03",
   "metadata": {
    "execution": {
     "iopub.execute_input": "2021-07-22T20:11:50.295588Z",
     "iopub.status.busy": "2021-07-22T20:11:50.295014Z",
     "iopub.status.idle": "2021-07-22T20:11:50.298680Z",
     "shell.execute_reply": "2021-07-22T20:11:50.299041Z"
    },
    "papermill": {
     "duration": 0.028876,
     "end_time": "2021-07-22T20:11:50.299188",
     "exception": false,
     "start_time": "2021-07-22T20:11:50.270312",
     "status": "completed"
    },
    "tags": []
   },
   "outputs": [],
   "source": [
    "# the warmup steps are steps at the start of training that are ignored\n",
    "# every x steps we will sample the model to test the output\n",
    "\n",
    "epochs =50\n",
    "warmup_steps = 1e2\n",
    "sample_every = 100"
   ]
  },
  {
   "cell_type": "code",
   "execution_count": 13,
   "id": "b2ac8063",
   "metadata": {
    "execution": {
     "iopub.execute_input": "2021-07-22T20:11:50.350932Z",
     "iopub.status.busy": "2021-07-22T20:11:50.349976Z",
     "iopub.status.idle": "2021-07-22T20:11:50.357533Z",
     "shell.execute_reply": "2021-07-22T20:11:50.357027Z"
    },
    "papermill": {
     "duration": 0.036634,
     "end_time": "2021-07-22T20:11:50.357672",
     "exception": false,
     "start_time": "2021-07-22T20:11:50.321038",
     "status": "completed"
    },
    "tags": []
   },
   "outputs": [],
   "source": [
    "from transformers import AdamW\n",
    "\n",
    "optimizer = AdamW(model.parameters(),\n",
    "                  lr = 5e-4,\n",
    "                  eps = 1e-8\n",
    "                )"
   ]
  },
  {
   "cell_type": "markdown",
   "id": "d38f77ab",
   "metadata": {
    "papermill": {
     "duration": 0.021667,
     "end_time": "2021-07-22T20:11:50.401021",
     "exception": false,
     "start_time": "2021-07-22T20:11:50.379354",
     "status": "completed"
    },
    "tags": []
   },
   "source": [
    "**Total training steps is the number of data points, times the number of epochs. \n",
    "Essentially, epochs are training cycles, how many times each point will be seen by the model.**\n",
    "\n",
    "**We can set a variable learning rate which will help scan larger areas of the \n",
    "problem space at higher LR earlier, then fine tune to find the exact model minima \n",
    "at lower LR later in training.**"
   ]
  },
  {
   "cell_type": "code",
   "execution_count": 14,
   "id": "25dbe916",
   "metadata": {
    "execution": {
     "iopub.execute_input": "2021-07-22T20:11:50.450934Z",
     "iopub.status.busy": "2021-07-22T20:11:50.450119Z",
     "iopub.status.idle": "2021-07-22T20:11:50.454171Z",
     "shell.execute_reply": "2021-07-22T20:11:50.453629Z"
    },
    "papermill": {
     "duration": 0.03213,
     "end_time": "2021-07-22T20:11:50.454314",
     "exception": false,
     "start_time": "2021-07-22T20:11:50.422184",
     "status": "completed"
    },
    "tags": []
   },
   "outputs": [],
   "source": [
    "from transformers import get_linear_schedule_with_warmup\n",
    "\n",
    "total_steps = len(train_dataloader) * epochs\n",
    "scheduler = get_linear_schedule_with_warmup(optimizer, \n",
    "                                            num_warmup_steps = warmup_steps, \n",
    "                                            num_training_steps = total_steps)"
   ]
  },
  {
   "cell_type": "code",
   "execution_count": 15,
   "id": "668a252e",
   "metadata": {
    "execution": {
     "iopub.execute_input": "2021-07-22T20:11:50.532431Z",
     "iopub.status.busy": "2021-07-22T20:11:50.531541Z",
     "iopub.status.idle": "2021-07-22T22:23:27.859300Z",
     "shell.execute_reply": "2021-07-22T22:23:27.858784Z"
    },
    "papermill": {
     "duration": 7897.381515,
     "end_time": "2021-07-22T22:23:27.859436",
     "exception": false,
     "start_time": "2021-07-22T20:11:50.477921",
     "status": "completed"
    },
    "tags": []
   },
   "outputs": [
    {
     "name": "stdout",
     "output_type": "stream",
     "text": [
      "Beginning epoch 1 of 50\n"
     ]
    },
    {
     "name": "stderr",
     "output_type": "stream",
     "text": [
      "Setting `pad_token_id` to `eos_token_id`:50256 for open-end generation.\n"
     ]
    },
    {
     "name": "stdout",
     "output_type": "stream",
     "text": [
      "Batch 100 of 292. Loss:1.757663369178772. Time:0:00:51\n",
      "Example output:  bipartisan. The Fake News Media has made it easy for Crooked Hillary to win by taking over the Presidency!\n"
     ]
    },
    {
     "name": "stderr",
     "output_type": "stream",
     "text": [
      "Setting `pad_token_id` to `eos_token_id`:50256 for open-end generation.\n"
     ]
    },
    {
     "name": "stdout",
     "output_type": "stream",
     "text": [
      "Batch 200 of 292. Loss:1.3871382474899292. Time:0:01:44\n",
      "Example output:  increasing. @NYTimes must be ashamed! #Fake News should never use any form of language at @nytimes. These are just more lies. https://t.co/1QXvN4t. @CNN should be ashamed of itself!\n",
      "Average Training Loss: 3.0221539899094463. Epoch time: 0:02:33\n",
      "Validation loss: 1.4292282191189853. Validation Time: 0:00:05\n",
      "Beginning epoch 2 of 50\n"
     ]
    },
    {
     "name": "stderr",
     "output_type": "stream",
     "text": [
      "Setting `pad_token_id` to `eos_token_id`:50256 for open-end generation.\n"
     ]
    },
    {
     "name": "stdout",
     "output_type": "stream",
     "text": [
      "Batch 100 of 292. Loss:1.3726409673690796. Time:0:00:50\n",
      "Example output: day.@CharlesDemspan and many others are not going to say anything bad about China, Russia, the U.S. or our great Flag, which is flying proudly and proudly at the Capitol. Just kidding, they are not happy!\n"
     ]
    },
    {
     "name": "stderr",
     "output_type": "stream",
     "text": [
      "Setting `pad_token_id` to `eos_token_id`:50256 for open-end generation.\n"
     ]
    },
    {
     "name": "stdout",
     "output_type": "stream",
     "text": [
      "Batch 200 of 292. Loss:1.2016886472702026. Time:0:01:44\n",
      "Example output:  HangOur Economy is so good, we should focus on bringing jobs back to our country. Great Economy - Jobs!\n",
      "Average Training Loss: 1.338112578408359. Epoch time: 0:02:32\n",
      "Validation loss: 1.227759711670153. Validation Time: 0:00:05\n",
      "Beginning epoch 3 of 50\n"
     ]
    },
    {
     "name": "stderr",
     "output_type": "stream",
     "text": [
      "Setting `pad_token_id` to `eos_token_id`:50256 for open-end generation.\n"
     ]
    },
    {
     "name": "stdout",
     "output_type": "stream",
     "text": [
      "Batch 100 of 292. Loss:1.0350275039672852. Time:0:00:50\n",
      "Example output:  foodsThe media coverage of Admiral Ron Jackson of Michigan is not good enough. What has happened to all of the great men and women of our military is an outrage, it is beyond description. Just reported that James Mattis of the Failing @nytimes got fired for “dumb”, and that he was therefore incompetent and had no place in our great military!\n"
     ]
    },
    {
     "name": "stderr",
     "output_type": "stream",
     "text": [
      "Setting `pad_token_id` to `eos_token_id`:50256 for open-end generation.\n"
     ]
    },
    {
     "name": "stdout",
     "output_type": "stream",
     "text": [
      "Batch 200 of 292. Loss:1.0497503280639648. Time:0:01:44\n",
      "Example output:  trailThe @CNNPolitics and @TheFive, two of the most dishonest political news outlets around, are doing a Fake Interview with Sleepy Joe BEFORE they start talking about me & why I am in politics. Wrong! They are FAKE NEWS!\n",
      "Average Training Loss: 1.09365686223115. Epoch time: 0:02:33\n",
      "Validation loss: 1.070810484163689. Validation Time: 0:00:05\n",
      "Beginning epoch 4 of 50\n"
     ]
    },
    {
     "name": "stderr",
     "output_type": "stream",
     "text": [
      "Setting `pad_token_id` to `eos_token_id`:50256 for open-end generation.\n"
     ]
    },
    {
     "name": "stdout",
     "output_type": "stream",
     "text": [
      "Batch 100 of 292. Loss:0.8196479082107544. Time:0:00:50\n",
      "Example output: intendThe Fake Washington Post is doing everything possible to stir up and anger the pols and even the hard core Republican Party...so that my Administration does not become a very dangerous and trouble putting disaster. The Do Nothing Dems won’t let that happen!\n"
     ]
    },
    {
     "name": "stderr",
     "output_type": "stream",
     "text": [
      "Setting `pad_token_id` to `eos_token_id`:50256 for open-end generation.\n"
     ]
    },
    {
     "name": "stdout",
     "output_type": "stream",
     "text": [
      "Batch 200 of 292. Loss:0.9401435256004333. Time:0:01:44\n",
      "Example output:  surroundYou can’t call Mike Dewine a saint if you don’t get what he does for Texas - high taxes, high crime, and you get what he does for your state. @FoxBusiness\n",
      "Average Training Loss: 0.8748418111098956. Epoch time: 0:02:32\n",
      "Validation loss: 0.9511315822601318. Validation Time: 0:00:05\n",
      "Beginning epoch 5 of 50\n"
     ]
    },
    {
     "name": "stderr",
     "output_type": "stream",
     "text": [
      "Setting `pad_token_id` to `eos_token_id`:50256 for open-end generation.\n"
     ]
    },
    {
     "name": "stdout",
     "output_type": "stream",
     "text": [
      "Batch 100 of 292. Loss:0.7267968654632568. Time:0:00:50\n",
      "Example output:  reflexSo many Fake News stories today! @CNN FAILED with their Editorial Board. A small group of certain Angry Dems is laughing at them all. Very sad!\n"
     ]
    },
    {
     "name": "stderr",
     "output_type": "stream",
     "text": [
      "Setting `pad_token_id` to `eos_token_id`:50256 for open-end generation.\n"
     ]
    },
    {
     "name": "stdout",
     "output_type": "stream",
     "text": [
      "Batch 200 of 292. Loss:0.5689375996589661. Time:0:01:44\n",
      "Example output:  displayThe Fake News Washington Post, in a story written by lightweight journalist Bret Stephens, tries to make a fraudulent point by saying that I did not fire Robert Mueller because I did not want him to be a part of the Witch Hunt. I fired Bob, and he is a part of the Scam!\n",
      "Average Training Loss: 0.7049634887339318. Epoch time: 0:02:33\n",
      "Validation loss: 0.8573173898639102. Validation Time: 0:00:05\n",
      "Beginning epoch 6 of 50\n"
     ]
    },
    {
     "name": "stderr",
     "output_type": "stream",
     "text": [
      "Setting `pad_token_id` to `eos_token_id`:50256 for open-end generation.\n"
     ]
    },
    {
     "name": "stdout",
     "output_type": "stream",
     "text": [
      "Batch 100 of 292. Loss:0.49592411518096924. Time:0:00:51\n",
      "Example output:  pastorThe Fake News Media had me calling Immigrants, and Illegal Immigrants, ‘Animals.’ Wrong! They were only trying to make me look bad, which I did. They knew it was not true, and obviously didn’t want to talk about it. The real story was that I was a ‘monster,’ and they wanted to scare me into making up false stories. I didn’t (& have plenty of)....\n"
     ]
    },
    {
     "name": "stderr",
     "output_type": "stream",
     "text": [
      "Setting `pad_token_id` to `eos_token_id`:50256 for open-end generation.\n"
     ]
    },
    {
     "name": "stdout",
     "output_type": "stream",
     "text": [
      "Batch 200 of 292. Loss:0.5927802324295044. Time:0:01:44\n",
      "Example output:  illicitThe Mueller team is angry at their (and Trump’s) so-called Never Trumper attorney, who is handling thousands of Crooked Hillary Emails, many of which are REALLY BAD. They are calling to ask to ‘interrogate’ the FBI Director, Andrew McCabe, in light of the fact that there’s NO COLLUSION WITH RUSSIA. Don’t get why angry, phony collusion is a thing of the past. Mueller refuses to even look at the.....\n",
      "Average Training Loss: 0.5470326468348503. Epoch time: 0:02:32\n",
      "Validation loss: 0.7930052307519045. Validation Time: 0:00:05\n",
      "Beginning epoch 7 of 50\n"
     ]
    },
    {
     "name": "stderr",
     "output_type": "stream",
     "text": [
      "Setting `pad_token_id` to `eos_token_id`:50256 for open-end generation.\n"
     ]
    },
    {
     "name": "stdout",
     "output_type": "stream",
     "text": [
      "Batch 100 of 292. Loss:0.39809170365333557. Time:0:00:50\n",
      "Example output:  LiberationOur Economy is very strong, despite the horrendous lack of vision by Jay Powell and the Fed, but the Democrats are trying to “will” the Economy to be bad for purposes of the 2020 Election. Very Selfish! Our dollar is so strong that it is sadly hurting other parts of the world...\n"
     ]
    },
    {
     "name": "stderr",
     "output_type": "stream",
     "text": [
      "Setting `pad_token_id` to `eos_token_id`:50256 for open-end generation.\n"
     ]
    },
    {
     "name": "stdout",
     "output_type": "stream",
     "text": [
      "Batch 200 of 292. Loss:0.4361657202243805. Time:0:01:44\n",
      "Example output:  NamIt has been incorrectly reported that Rudy Giuliani and others will not be doing a counter to the Mueller Report. It will be a total ‘hit job’ on the Republicans. No Do Overs, No Obstruction!\n",
      "Average Training Loss: 0.4327484417247446. Epoch time: 0:02:32\n",
      "Validation loss: 0.7845518724484877. Validation Time: 0:00:05\n",
      "Beginning epoch 8 of 50\n"
     ]
    },
    {
     "name": "stderr",
     "output_type": "stream",
     "text": [
      "Setting `pad_token_id` to `eos_token_id`:50256 for open-end generation.\n"
     ]
    },
    {
     "name": "stdout",
     "output_type": "stream",
     "text": [
      "Batch 100 of 292. Loss:0.3848360478878021. Time:0:00:50\n",
      "Example output: IONWow, really big news. Pick it up Lamestream Media, pick it up BIG! https://t.co/LHIYoo92Xu\n"
     ]
    },
    {
     "name": "stderr",
     "output_type": "stream",
     "text": [
      "Setting `pad_token_id` to `eos_token_id`:50256 for open-end generation.\n"
     ]
    },
    {
     "name": "stdout",
     "output_type": "stream",
     "text": [
      "Batch 200 of 292. Loss:0.35432755947113037. Time:0:01:44\n",
      "Example output:  glimpseWow! FBI made 11 payments to Fake Dossier’s discredited author, Trump hater Christopher Steele. @OANN @JudicialWatch The Witch Hunt has been a total fraud on your President and the American people! It was brought to you by Dirty Cops, Crooked Hillary and the DNC.\n",
      "Average Training Loss: 0.35015393681313894. Epoch time: 0:02:32\n",
      "Validation loss: 0.7655774625864896. Validation Time: 0:00:05\n",
      "Beginning epoch 9 of 50\n"
     ]
    },
    {
     "name": "stderr",
     "output_type": "stream",
     "text": [
      "Setting `pad_token_id` to `eos_token_id`:50256 for open-end generation.\n"
     ]
    },
    {
     "name": "stdout",
     "output_type": "stream",
     "text": [
      "Batch 100 of 292. Loss:0.29583054780960083. Time:0:00:50\n",
      "Example output:  LaureThe Failing @nytimes said I refer to failing papers as the Enemy of the People. They don't even call for fiction. The Impeachment Hoax is a made up story. Very dishonest!\n"
     ]
    },
    {
     "name": "stderr",
     "output_type": "stream",
     "text": [
      "Setting `pad_token_id` to `eos_token_id`:50256 for open-end generation.\n"
     ]
    },
    {
     "name": "stdout",
     "output_type": "stream",
     "text": [
      "Batch 200 of 292. Loss:0.24194228649139404. Time:0:01:44\n",
      "Example output: ism....The people of our great Country want to see an end to the ridiculous and very unfair laws on Sanctuary Cities and the Border. That will happen but in the meantime our law enforcement professionals are doing a great job and always will. Mexico and Canada have taken our money and run Chicago a complete and total disaster. No longer!\n",
      "Average Training Loss: 0.28476051970908084. Epoch time: 0:02:32\n",
      "Validation loss: 0.7716012940262303. Validation Time: 0:00:05\n",
      "Beginning epoch 10 of 50\n"
     ]
    },
    {
     "name": "stderr",
     "output_type": "stream",
     "text": [
      "Setting `pad_token_id` to `eos_token_id`:50256 for open-end generation.\n"
     ]
    },
    {
     "name": "stdout",
     "output_type": "stream",
     "text": [
      "Batch 100 of 292. Loss:0.2883947789669037. Time:0:00:50\n",
      "Example output: ounSleepy Joe Biden’s victory in the South Carolina Democrat Primary should be the end of Mini Mike Bloomberg’s Joke of a campaign. After the worst debate performance in the history of presidential debates, Mini Mike now has Biden split up his very few voters, taking many away!\n"
     ]
    },
    {
     "name": "stderr",
     "output_type": "stream",
     "text": [
      "Setting `pad_token_id` to `eos_token_id`:50256 for open-end generation.\n"
     ]
    },
    {
     "name": "stdout",
     "output_type": "stream",
     "text": [
      "Batch 200 of 292. Loss:0.25551965832710266. Time:0:01:44\n",
      "Example output:  electionThe Fake News Networks, those that knowingly have a sick and biased AGENDA, are worried about the competition and quality of Sinclair Broadcast. The ‘Fakers’ at CNN, NBC, ABC & CBS have done so much dishonest reporting that they should only be allowed to get awards for fiction!\n",
      "Average Training Loss: 0.2368522459411458. Epoch time: 0:02:32\n",
      "Validation loss: 0.794580256397074. Validation Time: 0:00:05\n",
      "Beginning epoch 11 of 50\n"
     ]
    },
    {
     "name": "stderr",
     "output_type": "stream",
     "text": [
      "Setting `pad_token_id` to `eos_token_id`:50256 for open-end generation.\n"
     ]
    },
    {
     "name": "stdout",
     "output_type": "stream",
     "text": [
      "Batch 100 of 292. Loss:0.19909332692623138. Time:0:00:50\n",
      "Example output:  crazy‘Ax falls quickly at BuzzFeed and Huffpost!’ Headline, New York Post. Fake News, especially CNN. A sad day and night in America. Fake News is bad for America!\n"
     ]
    },
    {
     "name": "stderr",
     "output_type": "stream",
     "text": [
      "Setting `pad_token_id` to `eos_token_id`:50256 for open-end generation.\n"
     ]
    },
    {
     "name": "stdout",
     "output_type": "stream",
     "text": [
      "Batch 200 of 292. Loss:0.19806034862995148. Time:0:01:44\n",
      "Example output:  benchI think Chris Wallace and John Kelly did a great job in cleaning out the stench of the 2020 Election. The Radical Left, Do Nothing Dems have gone Crazy. They are willing to hurt and disparage even the best of our great Republican Party!\n",
      "Average Training Loss: 0.20192893563884579. Epoch time: 0:02:33\n",
      "Validation loss: 0.8036547727657087. Validation Time: 0:00:05\n",
      "Beginning epoch 12 of 50\n"
     ]
    },
    {
     "name": "stderr",
     "output_type": "stream",
     "text": [
      "Setting `pad_token_id` to `eos_token_id`:50256 for open-end generation.\n"
     ]
    },
    {
     "name": "stdout",
     "output_type": "stream",
     "text": [
      "Batch 100 of 292. Loss:0.18459708988666534. Time:0:00:51\n",
      "Example output:  incorporatedCrooked Hillary Clinton lied last week when she said ISIS made a D.T. video. This was fact checked by @FoxNews.\n"
     ]
    },
    {
     "name": "stderr",
     "output_type": "stream",
     "text": [
      "Setting `pad_token_id` to `eos_token_id`:50256 for open-end generation.\n"
     ]
    },
    {
     "name": "stdout",
     "output_type": "stream",
     "text": [
      "Batch 200 of 292. Loss:0.17635390162467957. Time:0:01:44\n",
      "Example output: Peter....In the end it will come out how great it is, whether in Iowa, or New Hampshire. Fake News will totally kill the RINOS. It will be a massive, if not impossible, win. Also, I concede NOT all of the RINOS. But OK, what do YOU do?\n",
      "Average Training Loss: 0.179308816280267. Epoch time: 0:02:32\n",
      "Validation loss: 0.8310185706976688. Validation Time: 0:00:05\n",
      "Beginning epoch 13 of 50\n"
     ]
    },
    {
     "name": "stderr",
     "output_type": "stream",
     "text": [
      "Setting `pad_token_id` to `eos_token_id`:50256 for open-end generation.\n"
     ]
    },
    {
     "name": "stdout",
     "output_type": "stream",
     "text": [
      "Batch 100 of 292. Loss:0.16414222121238708. Time:0:00:50\n",
      "Example output: uring....when in fact, under certain original scenarios, it was in fact correct that Alabama could have received some “hurt.” Always good to be prepared! But the Fake News is only interested in demeaning and belittling. Didn’t play my whole sentence or statement. Bad people!\n"
     ]
    },
    {
     "name": "stderr",
     "output_type": "stream",
     "text": [
      "Setting `pad_token_id` to `eos_token_id`:50256 for open-end generation.\n"
     ]
    },
    {
     "name": "stdout",
     "output_type": "stream",
     "text": [
      "Batch 200 of 292. Loss:0.16739508509635925. Time:0:01:43\n",
      "Example output:  reproductiveThank you Frank. Fredo’s ratings are really bad, more than 50% down. A loser!!! https://t.co/DGaSYhqJVj\n",
      "Average Training Loss: 0.1603188995935329. Epoch time: 0:02:32\n",
      "Validation loss: 0.8388725970730637. Validation Time: 0:00:05\n",
      "Beginning epoch 14 of 50\n"
     ]
    },
    {
     "name": "stderr",
     "output_type": "stream",
     "text": [
      "Setting `pad_token_id` to `eos_token_id`:50256 for open-end generation.\n"
     ]
    },
    {
     "name": "stdout",
     "output_type": "stream",
     "text": [
      "Batch 100 of 292. Loss:0.13761582970619202. Time:0:00:50\n",
      "Example output:  zoneThe Fake News hates me saying that they are the Enemy of the People only because they know it’s TRUE. I am providing a great service by explaining this to the American People. They purposely cause great division & distrust. They can also cause War! They are very dangerous & sick!\n"
     ]
    },
    {
     "name": "stderr",
     "output_type": "stream",
     "text": [
      "Setting `pad_token_id` to `eos_token_id`:50256 for open-end generation.\n"
     ]
    },
    {
     "name": "stdout",
     "output_type": "stream",
     "text": [
      "Batch 200 of 292. Loss:0.15159544348716736. Time:0:01:44\n",
      "Example output:  commitsTed Wheeler, the wacky Radical Left Do Nothing Democrat Mayor of Portland, who has watched great death and destruction of his City during his tenure, thinks this lawless situation should go on forever. Wrong! Portland will never recover with a fool for a Mayor....\n",
      "Average Training Loss: 0.14757734118667368. Epoch time: 0:02:33\n",
      "Validation loss: 0.8583280543486277. Validation Time: 0:00:05\n",
      "Beginning epoch 15 of 50\n"
     ]
    },
    {
     "name": "stderr",
     "output_type": "stream",
     "text": [
      "Setting `pad_token_id` to `eos_token_id`:50256 for open-end generation.\n"
     ]
    },
    {
     "name": "stdout",
     "output_type": "stream",
     "text": [
      "Batch 100 of 292. Loss:0.1431833654642105. Time:0:00:50\n",
      "Example output:  ironyThe Democrats, together with the corrupt Fake News Media, have launched a massive Disinformation Campaign the likes of which has never been seen before. They will say anything, like their recent lies about me and the Military, and hope that it sticks... But #MAGA gets it!\n"
     ]
    },
    {
     "name": "stderr",
     "output_type": "stream",
     "text": [
      "Setting `pad_token_id` to `eos_token_id`:50256 for open-end generation.\n"
     ]
    },
    {
     "name": "stdout",
     "output_type": "stream",
     "text": [
      "Batch 200 of 292. Loss:0.12864647805690765. Time:0:01:44\n",
      "Example output:  Sah“Concast” should open up a long overdue Florida Cold Case against Psycho Joe Scarborough. I know him and Crazy Mika well, used them beautifully in the last Election, dumped them nicely, and will state on the record that he is “nuts”. Besides, bad ratings! #OPENJOECOLDCASE\n",
      "Average Training Loss: 0.13829369901692215. Epoch time: 0:02:32\n",
      "Validation loss: 0.8808743619557583. Validation Time: 0:00:05\n",
      "Beginning epoch 16 of 50\n"
     ]
    },
    {
     "name": "stderr",
     "output_type": "stream",
     "text": [
      "Setting `pad_token_id` to `eos_token_id`:50256 for open-end generation.\n"
     ]
    },
    {
     "name": "stdout",
     "output_type": "stream",
     "text": [
      "Batch 100 of 292. Loss:0.1418352872133255. Time:0:00:50\n",
      "Example output:  Bryan...They just “chickened out” and didn’t want to rule on the merits of the case. So bad for our Country!\n"
     ]
    },
    {
     "name": "stderr",
     "output_type": "stream",
     "text": [
      "Setting `pad_token_id` to `eos_token_id`:50256 for open-end generation.\n"
     ]
    },
    {
     "name": "stdout",
     "output_type": "stream",
     "text": [
      "Batch 200 of 292. Loss:0.13893553614616394. Time:0:01:44\n",
      "Example output:  spiritsSleepy Joe Biden’s 1994 Crime Bill was a total disaster. It was mass incarceration for Black people, many of them innocent. I did Criminal Justice Reform, something Obama & Biden didn’t even try to do - & couldn’t do even if they did try. Biden can never escape his Crime Bill!\n",
      "Average Training Loss: 0.13123570209088392. Epoch time: 0:02:32\n",
      "Validation loss: 0.8935089319041281. Validation Time: 0:00:05\n",
      "Beginning epoch 17 of 50\n"
     ]
    },
    {
     "name": "stderr",
     "output_type": "stream",
     "text": [
      "Setting `pad_token_id` to `eos_token_id`:50256 for open-end generation.\n"
     ]
    },
    {
     "name": "stdout",
     "output_type": "stream",
     "text": [
      "Batch 100 of 292. Loss:0.11923334002494812. Time:0:00:50\n",
      "Example output:  sees....and voted against the massive Tax Cut Bill. He’s also weak on borders and crime. Sadly, our great Military and Vets mean nothing to Bobby Jr. Lou Barletta will win! #MAGA\n"
     ]
    },
    {
     "name": "stderr",
     "output_type": "stream",
     "text": [
      "Setting `pad_token_id` to `eos_token_id`:50256 for open-end generation.\n"
     ]
    },
    {
     "name": "stdout",
     "output_type": "stream",
     "text": [
      "Batch 200 of 292. Loss:0.12628541886806488. Time:0:01:44\n",
      "Example output:  hungryI told you so! The European Union just slapped a Five Billion Dollar fine on one of our great companies, Google. They truly have taken advantage of the U.S., but not for long!\n",
      "Average Training Loss: 0.1270560363741362. Epoch time: 0:02:33\n",
      "Validation loss: 0.9050157295935082. Validation Time: 0:00:05\n",
      "Beginning epoch 18 of 50\n"
     ]
    },
    {
     "name": "stderr",
     "output_type": "stream",
     "text": [
      "Setting `pad_token_id` to `eos_token_id`:50256 for open-end generation.\n"
     ]
    },
    {
     "name": "stdout",
     "output_type": "stream",
     "text": [
      "Batch 100 of 292. Loss:0.12484384328126907. Time:0:00:50\n",
      "Example output:  PTMini Mike is a 5’4” mass of dead energy who does not want to be on the debate stage with these professional politicians. No boxes please. He hates Crazy Bernie and will, with enough money, possibly stop him. Bernie’s people will go nuts!\n"
     ]
    },
    {
     "name": "stderr",
     "output_type": "stream",
     "text": [
      "Setting `pad_token_id` to `eos_token_id`:50256 for open-end generation.\n"
     ]
    },
    {
     "name": "stdout",
     "output_type": "stream",
     "text": [
      "Batch 200 of 292. Loss:0.12160492688417435. Time:0:01:44\n",
      "Example output: üJoe Biden is the corrupt political establishment — and everybody knows it. Now you’ll be right! I got it all wrong, and still have not changed my mind that the “progressive” side should ever run for President. It was a perfect storm, with four great years of phony politics (fraud & deception) going on for all to see!\n",
      "Average Training Loss: 0.12392883801399028. Epoch time: 0:02:32\n",
      "Validation loss: 0.9074695227724133. Validation Time: 0:00:05\n",
      "Beginning epoch 19 of 50\n"
     ]
    },
    {
     "name": "stderr",
     "output_type": "stream",
     "text": [
      "Setting `pad_token_id` to `eos_token_id`:50256 for open-end generation.\n"
     ]
    },
    {
     "name": "stdout",
     "output_type": "stream",
     "text": [
      "Batch 100 of 292. Loss:0.1234302967786789. Time:0:00:51\n",
      "Example output: ruceThe failing @nytimes story is so totally wrong on transition. It is going so smoothly. Also, I have spoken to many foreign leaders.\n"
     ]
    },
    {
     "name": "stderr",
     "output_type": "stream",
     "text": [
      "Setting `pad_token_id` to `eos_token_id`:50256 for open-end generation.\n"
     ]
    },
    {
     "name": "stdout",
     "output_type": "stream",
     "text": [
      "Batch 200 of 292. Loss:0.12554441392421722. Time:0:01:44\n",
      "Example output:  derivativesI never met former Defense Secretary Robert Gates. He knows nothing about me. But look at the results under his guidance - a total disaster!\n",
      "Average Training Loss: 0.12131166751560284. Epoch time: 0:02:32\n",
      "Validation loss: 0.9119688245383176. Validation Time: 0:00:05\n",
      "Beginning epoch 20 of 50\n"
     ]
    },
    {
     "name": "stderr",
     "output_type": "stream",
     "text": [
      "Setting `pad_token_id` to `eos_token_id`:50256 for open-end generation.\n"
     ]
    },
    {
     "name": "stdout",
     "output_type": "stream",
     "text": [
      "Batch 100 of 292. Loss:0.10757651925086975. Time:0:00:50\n",
      "Example output: \u0019Wow, @foxandfriends is blowing away the competition in the morning ratings. Morning Joe is a dead show with very few people watching and sadly, Fake News CNN is also doing poorly. Too much hate and inaccurately reported stories - too predictable!\n"
     ]
    },
    {
     "name": "stderr",
     "output_type": "stream",
     "text": [
      "Setting `pad_token_id` to `eos_token_id`:50256 for open-end generation.\n"
     ]
    },
    {
     "name": "stdout",
     "output_type": "stream",
     "text": [
      "Batch 200 of 292. Loss:0.11711683124303818. Time:0:01:44\n",
      "Example output:  rememberingWhen is Slow Joe Biden going to criticize the Anarchists, Thugs & Agitators in ANTIFA? When is he going to suggest bringing up the National Guard in BADLY RUN & Crime Infested Democrat Cities & States? Remember, he can’t lose the Crazy Bernie Super Liberal vote!\n",
      "Average Training Loss: 0.11764058861116024. Epoch time: 0:02:33\n",
      "Validation loss: 0.924606543598753. Validation Time: 0:00:05\n",
      "Beginning epoch 21 of 50\n"
     ]
    },
    {
     "name": "stderr",
     "output_type": "stream",
     "text": [
      "Setting `pad_token_id` to `eos_token_id`:50256 for open-end generation.\n"
     ]
    },
    {
     "name": "stdout",
     "output_type": "stream",
     "text": [
      "Batch 100 of 292. Loss:0.10709182173013687. Time:0:00:51\n",
      "Example output:  SourcesIf I hadn’t won the 2016 Election we would be in a Great Recession/Depression right now. The people I saw on stage last night & you can add in Sleepy Joe Harris & the rest will lead us into an economic sinkhole the likes of which we have never seen before. With me only up!\n"
     ]
    },
    {
     "name": "stderr",
     "output_type": "stream",
     "text": [
      "Setting `pad_token_id` to `eos_token_id`:50256 for open-end generation.\n"
     ]
    },
    {
     "name": "stdout",
     "output_type": "stream",
     "text": [
      "Batch 200 of 292. Loss:0.11987156420946121. Time:0:01:44\n",
      "Example output: emsLyin' Ted Cruz will never be able to beat Hillary. Despite a rigged delegate system, I am hundreds of delegates ahead of him.\n",
      "Average Training Loss: 0.11471860475634059. Epoch time: 0:02:33\n",
      "Validation loss: 0.9397033471049685. Validation Time: 0:00:05\n",
      "Beginning epoch 22 of 50\n"
     ]
    },
    {
     "name": "stderr",
     "output_type": "stream",
     "text": [
      "Setting `pad_token_id` to `eos_token_id`:50256 for open-end generation.\n"
     ]
    },
    {
     "name": "stdout",
     "output_type": "stream",
     "text": [
      "Batch 100 of 292. Loss:0.10554645210504532. Time:0:00:51\n",
      "Example output: tz....And because of weak and pathetic Democrat leadership, this thuggery is happening in other Democrat run cities and states. Must shut them down fast. Biden and his most Liberal in Senate running mate, Kamala, won’t even talk about it. They won’t utter the words, LAW & ORDER!\n"
     ]
    },
    {
     "name": "stderr",
     "output_type": "stream",
     "text": [
      "Setting `pad_token_id` to `eos_token_id`:50256 for open-end generation.\n"
     ]
    },
    {
     "name": "stdout",
     "output_type": "stream",
     "text": [
      "Batch 200 of 292. Loss:0.10881532728672028. Time:0:01:44\n",
      "Example output: maticThe Fake News Media is being laughed at all over the world! https://t.co/TRX8XdaKgg\n",
      "Average Training Loss: 0.1118656174879368. Epoch time: 0:02:32\n",
      "Validation loss: 0.9404969079927965. Validation Time: 0:00:05\n",
      "Beginning epoch 23 of 50\n"
     ]
    },
    {
     "name": "stderr",
     "output_type": "stream",
     "text": [
      "Setting `pad_token_id` to `eos_token_id`:50256 for open-end generation.\n"
     ]
    },
    {
     "name": "stdout",
     "output_type": "stream",
     "text": [
      "Batch 100 of 292. Loss:0.10859734565019608. Time:0:00:51\n",
      "Example output:  syndThe Failing New York Times (it will pass away when I leave office in 6 years), and others of the Fake News Media, keep writing phony stories about how I didn’t use many banks because they didn’t want to do business with me. WRONG! It is because I didn’t need money. Very old\n"
     ]
    },
    {
     "name": "stderr",
     "output_type": "stream",
     "text": [
      "Setting `pad_token_id` to `eos_token_id`:50256 for open-end generation.\n"
     ]
    },
    {
     "name": "stdout",
     "output_type": "stream",
     "text": [
      "Batch 200 of 292. Loss:0.11433034390211105. Time:0:01:44\n",
      "Example output:  gam....I don’t want to Win for myself, I only want to Win for the people. The New @FoxNews is letting millions of GREAT people down! We have to start looking for a new News Outlet. Fox isn’t working for us anymore!\n",
      "Average Training Loss: 0.11127148576284925. Epoch time: 0:02:33\n",
      "Validation loss: 0.9464394251505533. Validation Time: 0:00:05\n",
      "Beginning epoch 24 of 50\n"
     ]
    },
    {
     "name": "stderr",
     "output_type": "stream",
     "text": [
      "Setting `pad_token_id` to `eos_token_id`:50256 for open-end generation.\n"
     ]
    },
    {
     "name": "stdout",
     "output_type": "stream",
     "text": [
      "Batch 100 of 292. Loss:0.10264110565185547. Time:0:00:51\n",
      "Example output:  injury“The Fake News Media hates when I use what has turned out to be my very powerful Social Media - over 100 million people!” @TuckerCarlson I can go around them\n"
     ]
    },
    {
     "name": "stderr",
     "output_type": "stream",
     "text": [
      "Setting `pad_token_id` to `eos_token_id`:50256 for open-end generation.\n"
     ]
    },
    {
     "name": "stdout",
     "output_type": "stream",
     "text": [
      "Batch 200 of 292. Loss:0.11657262593507767. Time:0:01:44\n",
      "Example output: azaThe Fake News media is officially out of control. They will do or say anything in order to get attention - never been a time like this!\n",
      "Average Training Loss: 0.10840408085551981. Epoch time: 0:02:32\n",
      "Validation loss: 0.9549396155458508. Validation Time: 0:00:05\n",
      "Beginning epoch 25 of 50\n"
     ]
    },
    {
     "name": "stderr",
     "output_type": "stream",
     "text": [
      "Setting `pad_token_id` to `eos_token_id`:50256 for open-end generation.\n"
     ]
    },
    {
     "name": "stdout",
     "output_type": "stream",
     "text": [
      "Batch 100 of 292. Loss:0.10904303193092346. Time:0:00:50\n",
      "Example output:  membraneLyin' Ted Cruz will never be able to beat Hillary. Despite a rigged delegate system, I am hundreds of delegates ahead of him.\n"
     ]
    },
    {
     "name": "stderr",
     "output_type": "stream",
     "text": [
      "Setting `pad_token_id` to `eos_token_id`:50256 for open-end generation.\n"
     ]
    },
    {
     "name": "stdout",
     "output_type": "stream",
     "text": [
      "Batch 200 of 292. Loss:0.10337622463703156. Time:0:01:44\n",
      "Example output: ijingThe Failing @nytimes quotes ‘a senior White House official,’ who doesn’t exist, as saying ‘even if the meeting were reinstated, holding it on June 12 would be impossible, given the lack of time and the amount of planning needed.’ WRONG AGAIN! Use real people, not phony sources.\n",
      "Average Training Loss: 0.1066951958130892. Epoch time: 0:02:33\n",
      "Validation loss: 0.9686376344073903. Validation Time: 0:00:05\n",
      "Beginning epoch 26 of 50\n"
     ]
    },
    {
     "name": "stderr",
     "output_type": "stream",
     "text": [
      "Setting `pad_token_id` to `eos_token_id`:50256 for open-end generation.\n"
     ]
    },
    {
     "name": "stdout",
     "output_type": "stream",
     "text": [
      "Batch 100 of 292. Loss:0.1080620139837265. Time:0:00:51\n",
      "Example output:  cast‘I will never testify against Trump.’ You mean he can't win because he doesn't even live there and he wants to take office, and he can’t win because I don’t answer to THEM – I answer to YOU!’\n"
     ]
    },
    {
     "name": "stderr",
     "output_type": "stream",
     "text": [
      "Setting `pad_token_id` to `eos_token_id`:50256 for open-end generation.\n"
     ]
    },
    {
     "name": "stdout",
     "output_type": "stream",
     "text": [
      "Batch 200 of 292. Loss:0.10354573279619217. Time:0:01:44\n",
      "Example output:  purchI love the Great State of Georgia, but the people who run it, from the Governor, @BrianKempGA, to the Secretary of State, are a complete disaster and don’t have a clue, or worse. Nobody can be this stupid. Just allow us to find the crime, and turn the state Republican....\n",
      "Average Training Loss: 0.1049125589277238. Epoch time: 0:02:33\n",
      "Validation loss: 0.964078583500602. Validation Time: 0:00:05\n",
      "Beginning epoch 27 of 50\n"
     ]
    },
    {
     "name": "stderr",
     "output_type": "stream",
     "text": [
      "Setting `pad_token_id` to `eos_token_id`:50256 for open-end generation.\n"
     ]
    },
    {
     "name": "stdout",
     "output_type": "stream",
     "text": [
      "Batch 100 of 292. Loss:0.10252916812896729. Time:0:00:51\n",
      "Example output:  shouldersThe reason Flake and Corker dropped out of the race is very simple, they had zero chance of being elected. Now act so hurt & wounded!\n"
     ]
    },
    {
     "name": "stderr",
     "output_type": "stream",
     "text": [
      "Setting `pad_token_id` to `eos_token_id`:50256 for open-end generation.\n"
     ]
    },
    {
     "name": "stdout",
     "output_type": "stream",
     "text": [
      "Batch 200 of 292. Loss:0.09777174890041351. Time:0:01:44\n",
      "Example output:  built...His primary strength was not military, but rather personal public relations. I gave him a new life, things to do, and battles to win, but he seldom “brought home the bacon”. I didn’t like his “leadership” style or much else about him, and many others agree. Glad he is gone!\n",
      "Average Training Loss: 0.10329184226997912. Epoch time: 0:02:32\n",
      "Validation loss: 0.9733893663594217. Validation Time: 0:00:05\n",
      "Beginning epoch 28 of 50\n"
     ]
    },
    {
     "name": "stderr",
     "output_type": "stream",
     "text": [
      "Setting `pad_token_id` to `eos_token_id`:50256 for open-end generation.\n"
     ]
    },
    {
     "name": "stdout",
     "output_type": "stream",
     "text": [
      "Batch 100 of 292. Loss:0.10412248969078064. Time:0:00:51\n",
      "Example output:  openly.@politico covers me more inaccurately than any other media source, and that is saying something. They go out of their way to distort truth!\n"
     ]
    },
    {
     "name": "stderr",
     "output_type": "stream",
     "text": [
      "Setting `pad_token_id` to `eos_token_id`:50256 for open-end generation.\n"
     ]
    },
    {
     "name": "stdout",
     "output_type": "stream",
     "text": [
      "Batch 200 of 292. Loss:0.09744521975517273. Time:0:01:44\n",
      "Example output:  haltedWhy aren’t Mueller and the 17 Angry Democrats looking at the meetings concerning the Fake Dossier and all of the lying that went on in the FBI and DOJ? This is the most one sided Witch Hunt in the history of our country. Fortunately the facts are all coming out, and fast!\n",
      "Average Training Loss: 0.10102655019049775. Epoch time: 0:02:33\n",
      "Validation loss: 0.9786488449934757. Validation Time: 0:00:05\n",
      "Beginning epoch 29 of 50\n"
     ]
    },
    {
     "name": "stderr",
     "output_type": "stream",
     "text": [
      "Setting `pad_token_id` to `eos_token_id`:50256 for open-end generation.\n"
     ]
    },
    {
     "name": "stdout",
     "output_type": "stream",
     "text": [
      "Batch 100 of 292. Loss:0.10317506641149521. Time:0:00:51\n",
      "Example output:  Nik....beaten Sleepy Joe in a LANDSLIDE, every State, if these events didn’t happen. Even if Warren just dropped out, he would have easily won. Dems did it to him with Crooked Hillary and now, even more so...and Bernie doesn’t even complain. VOTE for Trump on TRADE, better than BS!\n"
     ]
    },
    {
     "name": "stderr",
     "output_type": "stream",
     "text": [
      "Setting `pad_token_id` to `eos_token_id`:50256 for open-end generation.\n"
     ]
    },
    {
     "name": "stdout",
     "output_type": "stream",
     "text": [
      "Batch 200 of 292. Loss:0.09766765683889389. Time:0:01:44\n",
      "Example output:  tinCrooked Hillary Clinton is unfit to serve as President of the U.S. Her temperament is weak and her opponents are strong. BAD JUDGEMENT!\n",
      "Average Training Loss: 0.0994306633835786. Epoch time: 0:02:32\n",
      "Validation loss: 0.9854396157192461. Validation Time: 0:00:05\n",
      "Beginning epoch 30 of 50\n"
     ]
    },
    {
     "name": "stderr",
     "output_type": "stream",
     "text": [
      "Setting `pad_token_id` to `eos_token_id`:50256 for open-end generation.\n"
     ]
    },
    {
     "name": "stdout",
     "output_type": "stream",
     "text": [
      "Batch 100 of 292. Loss:0.09825412184000015. Time:0:00:51\n",
      "Example output:  clinicalCrooked Hillary Clinton is being protected by the media. She is not a talented person or politician. The dishonest media refuses to expose!\n"
     ]
    },
    {
     "name": "stderr",
     "output_type": "stream",
     "text": [
      "Setting `pad_token_id` to `eos_token_id`:50256 for open-end generation.\n"
     ]
    },
    {
     "name": "stdout",
     "output_type": "stream",
     "text": [
      "Batch 200 of 292. Loss:0.09895274043083191. Time:0:01:44\n",
      "Example output: lections.@AP has one of the worst reporters in the business -- @JeffHorwitz wouldn’t know the truth if it hit him in the face.\n",
      "Average Training Loss: 0.09797002676210992. Epoch time: 0:02:33\n",
      "Validation loss: 0.9877552769400857. Validation Time: 0:00:05\n",
      "Beginning epoch 31 of 50\n"
     ]
    },
    {
     "name": "stderr",
     "output_type": "stream",
     "text": [
      "Setting `pad_token_id` to `eos_token_id`:50256 for open-end generation.\n"
     ]
    },
    {
     "name": "stdout",
     "output_type": "stream",
     "text": [
      "Batch 100 of 292. Loss:0.09747529029846191. Time:0:00:51\n",
      "Example output: elsOur great Republican Congressman John Ratcliffe is being treated very unfairly by the LameStream Media. Rather than going through months of slander and libel I explained to John how miserable it would be for him and his family to deal with these people....\n"
     ]
    },
    {
     "name": "stderr",
     "output_type": "stream",
     "text": [
      "Setting `pad_token_id` to `eos_token_id`:50256 for open-end generation.\n"
     ]
    },
    {
     "name": "stdout",
     "output_type": "stream",
     "text": [
      "Batch 200 of 292. Loss:0.09956301003694534. Time:0:01:44\n",
      "Example output: labSo professional of @ABC news to throw out the failing @UnionLeader newspaper from their debate. Paper won't survive, highly unethical!\n",
      "Average Training Loss: 0.09697041114511555. Epoch time: 0:02:33\n",
      "Validation loss: 0.9948426430875604. Validation Time: 0:00:05\n",
      "Beginning epoch 32 of 50\n"
     ]
    },
    {
     "name": "stderr",
     "output_type": "stream",
     "text": [
      "Setting `pad_token_id` to `eos_token_id`:50256 for open-end generation.\n"
     ]
    },
    {
     "name": "stdout",
     "output_type": "stream",
     "text": [
      "Batch 100 of 292. Loss:0.09426862746477127. Time:0:00:51\n",
      "Example output:  triple....that I have done for the Evangelical community, and all I have done for the Evangelicals, is to WIN. I am not only fighting for the Evangelicals, I am fighting against the FAKE NEWS MEDIA. It is time to send a message to the world, BIG!\n"
     ]
    },
    {
     "name": "stderr",
     "output_type": "stream",
     "text": [
      "Setting `pad_token_id` to `eos_token_id`:50256 for open-end generation.\n"
     ]
    },
    {
     "name": "stdout",
     "output_type": "stream",
     "text": [
      "Batch 200 of 292. Loss:0.09660641849040985. Time:0:01:44\n",
      "Example output: 220The New York Times reporting is false. They are a true ENEMY OF THE PEOPLE!\n",
      "Average Training Loss: 0.09554255950226359. Epoch time: 0:02:33\n",
      "Validation loss: 0.9941219904206016. Validation Time: 0:00:05\n",
      "Beginning epoch 33 of 50\n"
     ]
    },
    {
     "name": "stderr",
     "output_type": "stream",
     "text": [
      "Setting `pad_token_id` to `eos_token_id`:50256 for open-end generation.\n"
     ]
    },
    {
     "name": "stdout",
     "output_type": "stream",
     "text": [
      "Batch 100 of 292. Loss:0.10004527866840363. Time:0:00:51\n",
      "Example output:  See.@KarlRove wasted $400 million + and didn’t win one race—a total loser. @FoxNews\n"
     ]
    },
    {
     "name": "stderr",
     "output_type": "stream",
     "text": [
      "Setting `pad_token_id` to `eos_token_id`:50256 for open-end generation.\n"
     ]
    },
    {
     "name": "stdout",
     "output_type": "stream",
     "text": [
      "Batch 200 of 292. Loss:0.09916558116674423. Time:0:01:44\n",
      "Example output: @@I use Social Media not because I like to, but because it is the only way to fight a VERY dishonest and unfair ‘press,’ now often referred to as Fake News Media. Phony and non-existent ‘sources’ are being used more often than ever. Many stories & reports a pure fiction!\n",
      "Average Training Loss: 0.09459646821838535. Epoch time: 0:02:33\n",
      "Validation loss: 1.0052612523237865. Validation Time: 0:00:05\n",
      "Beginning epoch 34 of 50\n"
     ]
    },
    {
     "name": "stderr",
     "output_type": "stream",
     "text": [
      "Setting `pad_token_id` to `eos_token_id`:50256 for open-end generation.\n"
     ]
    },
    {
     "name": "stdout",
     "output_type": "stream",
     "text": [
      "Batch 100 of 292. Loss:0.0918419137597084. Time:0:00:51\n",
      "Example output:  hostSo Crazy to watch Senator Blumenthal of Connecticut lecture all on morals & ethics when for 25 years he said he was a Great War Hero in Vietnam, and he was never even there. He lied & cheated right up until the day he got caught. Thank you to those in military who turned him in!\n"
     ]
    },
    {
     "name": "stderr",
     "output_type": "stream",
     "text": [
      "Setting `pad_token_id` to `eos_token_id`:50256 for open-end generation.\n"
     ]
    },
    {
     "name": "stdout",
     "output_type": "stream",
     "text": [
      "Batch 200 of 292. Loss:0.08776175230741501. Time:0:01:44\n",
      "Example output: roleThank you to our GREAT Republican Congressmen & Congresswomen on your incredibly important blockage last night of a FISA Bill that would just perpetuate the abuse that produced the Greatest Political Crime In the History of the U.S., the Russian Witch-Hunt. Fantastic Job!\n",
      "Average Training Loss: 0.09330768293815933. Epoch time: 0:02:33\n",
      "Validation loss: 1.0101035643707623. Validation Time: 0:00:05\n",
      "Beginning epoch 35 of 50\n"
     ]
    },
    {
     "name": "stderr",
     "output_type": "stream",
     "text": [
      "Setting `pad_token_id` to `eos_token_id`:50256 for open-end generation.\n"
     ]
    },
    {
     "name": "stdout",
     "output_type": "stream",
     "text": [
      "Batch 100 of 292. Loss:0.09617915004491806. Time:0:00:51\n",
      "Example output: iacCrooked Hillary Clinton likes to talk about the things she will do but she has been there for 30 years - why didn't she do them?\n"
     ]
    },
    {
     "name": "stderr",
     "output_type": "stream",
     "text": [
      "Setting `pad_token_id` to `eos_token_id`:50256 for open-end generation.\n"
     ]
    },
    {
     "name": "stdout",
     "output_type": "stream",
     "text": [
      "Batch 200 of 292. Loss:0.09951809793710709. Time:0:01:44\n",
      "Example output:  LDA so-called reporter named @JohnJHarwood, who bombed so badly in the 2016 Presidential Debates that I thought he was going to be immediately fired (a Mini Mike type performance), is now with Fake News @CNN. A total loser!\n",
      "Average Training Loss: 0.09206654700412326. Epoch time: 0:02:33\n",
      "Validation loss: 1.0041726276730045. Validation Time: 0:00:05\n",
      "Beginning epoch 36 of 50\n"
     ]
    },
    {
     "name": "stderr",
     "output_type": "stream",
     "text": [
      "Setting `pad_token_id` to `eos_token_id`:50256 for open-end generation.\n"
     ]
    },
    {
     "name": "stdout",
     "output_type": "stream",
     "text": [
      "Batch 100 of 292. Loss:0.08830983191728592. Time:0:00:51\n",
      "Example output:  ListenGreat, everyone is saying I did much better on @60Minutes last week than President Obama did tonight. I agree!\n"
     ]
    },
    {
     "name": "stderr",
     "output_type": "stream",
     "text": [
      "Setting `pad_token_id` to `eos_token_id`:50256 for open-end generation.\n"
     ]
    },
    {
     "name": "stdout",
     "output_type": "stream",
     "text": [
      "Batch 200 of 292. Loss:0.09423983097076416. Time:0:01:44\n",
      "Example output:  dyJust revealed that the Failing and Desperate New York Times was feeding false stories about me & those associated with me to the FBI. This shows the kind of unprecedented hatred I have been putting up with for years with this Crooked newspaper. Is what they have done legal?...\n",
      "Average Training Loss: 0.0911438823868967. Epoch time: 0:02:33\n",
      "Validation loss: 1.0092784256646128. Validation Time: 0:00:05\n",
      "Beginning epoch 37 of 50\n"
     ]
    },
    {
     "name": "stderr",
     "output_type": "stream",
     "text": [
      "Setting `pad_token_id` to `eos_token_id`:50256 for open-end generation.\n"
     ]
    },
    {
     "name": "stdout",
     "output_type": "stream",
     "text": [
      "Batch 100 of 292. Loss:0.08846937865018845. Time:0:00:51\n",
      "Example output:  DomesticThe FAKE NEWS media (failing @nytimes, @NBCNews, @ABC, @CBS, @CNN) is not my enemy, it is the enemy of the American People!\n"
     ]
    },
    {
     "name": "stderr",
     "output_type": "stream",
     "text": [
      "Setting `pad_token_id` to `eos_token_id`:50256 for open-end generation.\n"
     ]
    },
    {
     "name": "stdout",
     "output_type": "stream",
     "text": [
      "Batch 200 of 292. Loss:0.09442305564880371. Time:0:01:44\n",
      "Example output:  beneficiariesIt’s truly incredible that shows like Saturday Night Live, not funny/no talent, can spend all of their time knocking the same person (me), over & over, without so much of a mention of ‘the other side.’ Like an advertisement without consequences. Same with Late Night Shows......\n",
      "Average Training Loss: 0.09007650052439677. Epoch time: 0:02:32\n",
      "Validation loss: 1.0037417610486348. Validation Time: 0:00:05\n",
      "Beginning epoch 38 of 50\n"
     ]
    },
    {
     "name": "stderr",
     "output_type": "stream",
     "text": [
      "Setting `pad_token_id` to `eos_token_id`:50256 for open-end generation.\n"
     ]
    },
    {
     "name": "stdout",
     "output_type": "stream",
     "text": [
      "Batch 100 of 292. Loss:0.08910547941923141. Time:0:00:51\n",
      "Example output:  TitleI loved firing goofball atheist Penn @pennjillette on The Apprentice. He never had a chance. Wrote letter to me begging for forgiveness.\n"
     ]
    },
    {
     "name": "stderr",
     "output_type": "stream",
     "text": [
      "Setting `pad_token_id` to `eos_token_id`:50256 for open-end generation.\n"
     ]
    },
    {
     "name": "stdout",
     "output_type": "stream",
     "text": [
      "Batch 200 of 292. Loss:0.09175483882427216. Time:0:01:44\n",
      "Example output:  μThe New York Times has apologized for the terrible Anti-Semitic Cartoon, but they haven’t apologized to me for this or all of the Fake and Corrupt news they print on a daily basis. They have reached the lowest level of ‘journalism,’ and certainly a low point in @nytimes history!\n",
      "Average Training Loss: 0.08954714029415013. Epoch time: 0:02:33\n",
      "Validation loss: 1.014390227469531. Validation Time: 0:00:05\n",
      "Beginning epoch 39 of 50\n"
     ]
    },
    {
     "name": "stderr",
     "output_type": "stream",
     "text": [
      "Setting `pad_token_id` to `eos_token_id`:50256 for open-end generation.\n"
     ]
    },
    {
     "name": "stdout",
     "output_type": "stream",
     "text": [
      "Batch 100 of 292. Loss:0.0904141217470169. Time:0:00:51\n",
      "Example output:  sellingCrooked Hillary Clinton is a fraud who has put the public and country at risk by her illegal and very stupid use of e-mails. Many missing!\n"
     ]
    },
    {
     "name": "stderr",
     "output_type": "stream",
     "text": [
      "Setting `pad_token_id` to `eos_token_id`:50256 for open-end generation.\n"
     ]
    },
    {
     "name": "stdout",
     "output_type": "stream",
     "text": [
      "Batch 200 of 292. Loss:0.08584721386432648. Time:0:01:44\n",
      "Example output:  migrantThe Unsolicited Mail In Ballot Scam is a major threat to our Democracy, & the Democrats know it. Almost all recent elections using this system, even though much smaller &  with far fewer Ballots to count, have ended up being a disaster. Large numbers of missing Ballots & Fraud!\n",
      "Average Training Loss: 0.0889347648528749. Epoch time: 0:02:33\n",
      "Validation loss: 1.0203355821696194. Validation Time: 0:00:05\n",
      "Beginning epoch 40 of 50\n"
     ]
    },
    {
     "name": "stderr",
     "output_type": "stream",
     "text": [
      "Setting `pad_token_id` to `eos_token_id`:50256 for open-end generation.\n"
     ]
    },
    {
     "name": "stdout",
     "output_type": "stream",
     "text": [
      "Batch 100 of 292. Loss:0.08642459660768509. Time:0:00:51\n",
      "Example output: ively...never allow the Republicans to pass even great legislation. 8 Dems control - will rarely get 60 (vs. 51) votes. It is a Repub Death Wish!\n"
     ]
    },
    {
     "name": "stderr",
     "output_type": "stream",
     "text": [
      "Setting `pad_token_id` to `eos_token_id`:50256 for open-end generation.\n"
     ]
    },
    {
     "name": "stdout",
     "output_type": "stream",
     "text": [
      "Batch 200 of 292. Loss:0.0834810808300972. Time:0:01:44\n",
      "Example output:  orderI am right about Amazon costing the United States Post Office massive amounts of money for being their Delivery Boy. Amazon should pay these costs (plus) and not have them bourne by the American Taxpayer. Many billions of dollars. P.O. leaders don’t have a clue (or do they?)!\n",
      "Average Training Loss: 0.08803414517681893. Epoch time: 0:02:33\n",
      "Validation loss: 1.0225585662957393. Validation Time: 0:00:05\n",
      "Beginning epoch 41 of 50\n"
     ]
    },
    {
     "name": "stderr",
     "output_type": "stream",
     "text": [
      "Setting `pad_token_id` to `eos_token_id`:50256 for open-end generation.\n"
     ]
    },
    {
     "name": "stdout",
     "output_type": "stream",
     "text": [
      "Batch 100 of 292. Loss:0.08791844546794891. Time:0:00:51\n",
      "Example output:  VPNThe failing @nytimes reporters don't even call us anymore, they just write whatever they want to write, making up sources along the way!\n"
     ]
    },
    {
     "name": "stderr",
     "output_type": "stream",
     "text": [
      "Setting `pad_token_id` to `eos_token_id`:50256 for open-end generation.\n"
     ]
    },
    {
     "name": "stdout",
     "output_type": "stream",
     "text": [
      "Batch 200 of 292. Loss:0.08674675226211548. Time:0:01:44\n",
      "Example output:  explanation....Courts are bad, the FBI and “Justice” didn’t do their job, and the United States Election System looks like that of a third world country. Freedom of the press has been gone for a long time, it is Fake News, and now we have Big Tech (with Section 230) to deal with....\n",
      "Average Training Loss: 0.08727916251000477. Epoch time: 0:02:32\n",
      "Validation loss: 1.0213007683103734. Validation Time: 0:00:05\n",
      "Beginning epoch 42 of 50\n"
     ]
    },
    {
     "name": "stderr",
     "output_type": "stream",
     "text": [
      "Setting `pad_token_id` to `eos_token_id`:50256 for open-end generation.\n"
     ]
    },
    {
     "name": "stdout",
     "output_type": "stream",
     "text": [
      "Batch 100 of 292. Loss:0.0874704048037529. Time:0:00:51\n",
      "Example output:  BachA PERFECT phone call. “Can you do us (not me. Us is referring to our Country) a favor.” Then go on to talk about “Country” and “U.S. Attorney General.” The Impeachment Hoax is just a continuation of the Witch Hunt which has been going on for 3 years. We will win! #MAGAKAG #2020\n"
     ]
    },
    {
     "name": "stderr",
     "output_type": "stream",
     "text": [
      "Setting `pad_token_id` to `eos_token_id`:50256 for open-end generation.\n"
     ]
    },
    {
     "name": "stdout",
     "output_type": "stream",
     "text": [
      "Batch 200 of 292. Loss:0.08631342649459839. Time:0:01:44\n",
      "Example output:  folderThe Fake News is doing everything in their power to blame Republicans, Conservatives and me for the division and hatred that has been going on for so long in our Country. Actually, it is their Fake & Dishonest reporting which is causing problems far greater than they understand!\n",
      "Average Training Loss: 0.08644922251162464. Epoch time: 0:02:33\n",
      "Validation loss: 1.0230613459240308. Validation Time: 0:00:05\n",
      "Beginning epoch 43 of 50\n"
     ]
    },
    {
     "name": "stderr",
     "output_type": "stream",
     "text": [
      "Setting `pad_token_id` to `eos_token_id`:50256 for open-end generation.\n"
     ]
    },
    {
     "name": "stdout",
     "output_type": "stream",
     "text": [
      "Batch 100 of 292. Loss:0.08747638016939163. Time:0:00:51\n",
      "Example output:  buildingThe failing @nytimes story is so totally wrong on transition. It is going so smoothly. Also, I have spoken to many foreign leaders.\n"
     ]
    },
    {
     "name": "stderr",
     "output_type": "stream",
     "text": [
      "Setting `pad_token_id` to `eos_token_id`:50256 for open-end generation.\n"
     ]
    },
    {
     "name": "stdout",
     "output_type": "stream",
     "text": [
      "Batch 200 of 292. Loss:0.08627188950777054. Time:0:01:44\n",
      "Example output:  BabylonSo many lies by Sleepy Joe and the Do Nothing Democrats! https://t.co/MY1zkMvFQW\n",
      "Average Training Loss: 0.0859471203325546. Epoch time: 0:02:33\n",
      "Validation loss: 1.024843161756342. Validation Time: 0:00:05\n",
      "Beginning epoch 44 of 50\n"
     ]
    },
    {
     "name": "stderr",
     "output_type": "stream",
     "text": [
      "Setting `pad_token_id` to `eos_token_id`:50256 for open-end generation.\n"
     ]
    },
    {
     "name": "stdout",
     "output_type": "stream",
     "text": [
      "Batch 100 of 292. Loss:0.08284828066825867. Time:0:00:51\n",
      "Example output: perialWhy aren’t they firing no talent Samantha Bee for the horrible language used on her low ratings show? A total double standard but that’s O.K., we are Winning, and will be doing so for a long time to come!\n"
     ]
    },
    {
     "name": "stderr",
     "output_type": "stream",
     "text": [
      "Setting `pad_token_id` to `eos_token_id`:50256 for open-end generation.\n"
     ]
    },
    {
     "name": "stdout",
     "output_type": "stream",
     "text": [
      "Batch 200 of 292. Loss:0.08476652204990387. Time:0:01:44\n",
      "Example output:  rentsWe will repeal and replace disastrous #Obamacare! #TrumpPence16 https://t.co/Lx4Gdj5zGk\n",
      "Average Training Loss: 0.08531647652693808. Epoch time: 0:02:33\n",
      "Validation loss: 1.0277328924699263. Validation Time: 0:00:05\n",
      "Beginning epoch 45 of 50\n"
     ]
    },
    {
     "name": "stderr",
     "output_type": "stream",
     "text": [
      "Setting `pad_token_id` to `eos_token_id`:50256 for open-end generation.\n"
     ]
    },
    {
     "name": "stdout",
     "output_type": "stream",
     "text": [
      "Batch 100 of 292. Loss:0.0863005667924881. Time:0:00:51\n",
      "Example output:  RegJust like they don’t want to solve the DACA problem, why didn’t the Democrats pass gun control legislation when they had both the House & Senate during the Obama Administration. Because they didn’t want to, and now they just talk!\n"
     ]
    },
    {
     "name": "stderr",
     "output_type": "stream",
     "text": [
      "Setting `pad_token_id` to `eos_token_id`:50256 for open-end generation.\n"
     ]
    },
    {
     "name": "stdout",
     "output_type": "stream",
     "text": [
      "Batch 200 of 292. Loss:0.08682537078857422. Time:0:01:44\n",
      "Example output: olas....When Mitt chose Paul I told people that’s the end of that Presidential run. He quit Congress because he didn’t know how to Win. They gave me standing O’s in the Great State of Wisconsin & booed him off the stage. He promised me the Wall & failed (happening anyway!)......\n",
      "Average Training Loss: 0.08476134287576152. Epoch time: 0:02:33\n",
      "Validation loss: 1.0257604113130858. Validation Time: 0:00:05\n",
      "Beginning epoch 46 of 50\n"
     ]
    },
    {
     "name": "stderr",
     "output_type": "stream",
     "text": [
      "Setting `pad_token_id` to `eos_token_id`:50256 for open-end generation.\n"
     ]
    },
    {
     "name": "stdout",
     "output_type": "stream",
     "text": [
      "Batch 100 of 292. Loss:0.08543809503316879. Time:0:00:51\n",
      "Example output:  responses....Fake News got it wrong again, as always, and tens of thousands of lives were saved by my EARLY BAN of China into our Country. The people that we’re allowed were heavily scrutinized and tested U.S. citizens, and as such, I welcome them with open arms!\n"
     ]
    },
    {
     "name": "stderr",
     "output_type": "stream",
     "text": [
      "Setting `pad_token_id` to `eos_token_id`:50256 for open-end generation.\n"
     ]
    },
    {
     "name": "stdout",
     "output_type": "stream",
     "text": [
      "Batch 200 of 292. Loss:0.08642236888408661. Time:0:01:44\n",
      "Example output:  attendanceThe failing @nytimes was forced to apologize to its subscribers for the poor reporting it did on my election win. Now they are worse!\n",
      "Average Training Loss: 0.08415871258978158. Epoch time: 0:02:32\n",
      "Validation loss: 1.0319952269395192. Validation Time: 0:00:05\n",
      "Beginning epoch 47 of 50\n"
     ]
    },
    {
     "name": "stderr",
     "output_type": "stream",
     "text": [
      "Setting `pad_token_id` to `eos_token_id`:50256 for open-end generation.\n"
     ]
    },
    {
     "name": "stdout",
     "output_type": "stream",
     "text": [
      "Batch 100 of 292. Loss:0.08390683680772781. Time:0:00:51\n",
      "Example output:  rigidThe LameStream Media had a very bad week. They pushed numerous phony stories and got caught, especially The Failing New York Times, which has lost more money over the last 10 years than any paper in history, and The Amazon Washington Post. They are The Enemy of the People!\n"
     ]
    },
    {
     "name": "stderr",
     "output_type": "stream",
     "text": [
      "Setting `pad_token_id` to `eos_token_id`:50256 for open-end generation.\n"
     ]
    },
    {
     "name": "stdout",
     "output_type": "stream",
     "text": [
      "Batch 200 of 292. Loss:0.08368916064500809. Time:0:01:44\n",
      "Example output: groThe Democrat memo response on government surveillance abuses is a total political and legal BUST. Just confirms all of the terrible things that were done. SO ILLEGAL!\n",
      "Average Training Loss: 0.08373568020761013. Epoch time: 0:02:33\n",
      "Validation loss: 1.028709958900105. Validation Time: 0:00:05\n",
      "Beginning epoch 48 of 50\n"
     ]
    },
    {
     "name": "stderr",
     "output_type": "stream",
     "text": [
      "Setting `pad_token_id` to `eos_token_id`:50256 for open-end generation.\n"
     ]
    },
    {
     "name": "stdout",
     "output_type": "stream",
     "text": [
      "Batch 100 of 292. Loss:0.08023495227098465. Time:0:00:51\n",
      "Example output:  Gre.....there is not we can always go back to our previous very profitable position of Tariffs - But I don’t believe that will be necessary. The Failing @nytimes & ratings challenged @CNN will do anything possible to see our Country fail! They are truly The Enemy of the People!\n"
     ]
    },
    {
     "name": "stderr",
     "output_type": "stream",
     "text": [
      "Setting `pad_token_id` to `eos_token_id`:50256 for open-end generation.\n"
     ]
    },
    {
     "name": "stdout",
     "output_type": "stream",
     "text": [
      "Batch 200 of 292. Loss:0.08389464020729065. Time:0:01:44\n",
      "Example output: uraMini Mike Bloomberg, who made a fool of himself on the Dems debate stage when Elizabeth Warren & the others simply took him apart, is going “crazy” trying to buy his way back into the Liberal Democrat’s hearts. His Florida ads are lies. I am much better for SENIORS than Sleepy!\n",
      "Average Training Loss: 0.0830887050355134. Epoch time: 0:02:32\n",
      "Validation loss: 1.0330742805293112. Validation Time: 0:00:05\n",
      "Beginning epoch 49 of 50\n"
     ]
    },
    {
     "name": "stderr",
     "output_type": "stream",
     "text": [
      "Setting `pad_token_id` to `eos_token_id`:50256 for open-end generation.\n"
     ]
    },
    {
     "name": "stdout",
     "output_type": "stream",
     "text": [
      "Batch 100 of 292. Loss:0.08364282548427582. Time:0:00:51\n",
      "Example output:  2020Can you believe what’s happening!? They give Joe Hiden’ the questions, and he reads them an answer! https://t.co/ivMw6uQ2gp\n"
     ]
    },
    {
     "name": "stderr",
     "output_type": "stream",
     "text": [
      "Setting `pad_token_id` to `eos_token_id`:50256 for open-end generation.\n"
     ]
    },
    {
     "name": "stdout",
     "output_type": "stream",
     "text": [
      "Batch 200 of 292. Loss:0.0842999815940857. Time:0:01:44\n",
      "Example output:  chargingThere is great anger in our Country caused in part by inaccurate, and even fraudulent, reporting of the news. The Fake News Media, the true Enemy of the People, must stop the open & obvious hostility & report the news accurately & fairly. That will do much to put out the flame...\n",
      "Average Training Loss: 0.08228454649550458. Epoch time: 0:02:33\n",
      "Validation loss: 1.0344126856688298. Validation Time: 0:00:05\n",
      "Beginning epoch 50 of 50\n"
     ]
    },
    {
     "name": "stderr",
     "output_type": "stream",
     "text": [
      "Setting `pad_token_id` to `eos_token_id`:50256 for open-end generation.\n"
     ]
    },
    {
     "name": "stdout",
     "output_type": "stream",
     "text": [
      "Batch 100 of 292. Loss:0.08164402097463608. Time:0:00:51\n",
      "Example output:  SarMini Mike Bloomberg, who made a fool of himself on the Dems debate stage when Elizabeth Warren & the others simply took him apart, is going “crazy” trying to buy his way back into the Liberal Democrat’s hearts. His Florida ads are lies. I am much better for SENIORS than Sleepy!\n"
     ]
    },
    {
     "name": "stderr",
     "output_type": "stream",
     "text": [
      "Setting `pad_token_id` to `eos_token_id`:50256 for open-end generation.\n"
     ]
    },
    {
     "name": "stdout",
     "output_type": "stream",
     "text": [
      "Batch 200 of 292. Loss:0.08030000329017639. Time:0:01:44\n",
      "Example output:  JasWITCH HUNT! There was no Russian Collusion. Oh, I see, there was no Russian Collusion, so now they look for obstruction on the no Russian Collusion. The phony Russian Collusion was a made up Hoax. Too bad they didn’t look at Crooked Hillary like this. Double Standard!\n",
      "Average Training Loss: 0.08174768564839886. Epoch time: 0:02:33\n",
      "Validation loss: 1.0364026535641064. Validation Time: 0:00:05\n",
      "Total training took 2:11:37\n"
     ]
    }
   ],
   "source": [
    "import random\n",
    "import time\n",
    "import datetime\n",
    "\n",
    "def format_time(elapsed):\n",
    "    return str(datetime.timedelta(seconds=int(round((elapsed)))))\n",
    "\n",
    "total_t0 = time.time()\n",
    "\n",
    "training_stats = []\n",
    "\n",
    "model = model.to(device)\n",
    "\n",
    "for epoch_i in range(0, epochs):\n",
    "\n",
    "    print(f'Beginning epoch {epoch_i + 1} of {epochs}')\n",
    "\n",
    "    t0 = time.time()\n",
    "\n",
    "    total_train_loss = 0\n",
    "\n",
    "    model.train()\n",
    "\n",
    "    for step, batch in enumerate(train_dataloader):\n",
    "\n",
    "        b_input_ids = batch[0].to(device)\n",
    "        b_labels = batch[0].to(device)\n",
    "        b_masks = batch[1].to(device)\n",
    "\n",
    "        model.zero_grad()        \n",
    "\n",
    "        outputs = model(  b_input_ids,\n",
    "                          labels=b_labels, \n",
    "                          attention_mask = b_masks,\n",
    "                          token_type_ids=None\n",
    "                        )\n",
    "\n",
    "        loss = outputs[0]  \n",
    "\n",
    "        batch_loss = loss.item()\n",
    "        total_train_loss += batch_loss\n",
    "\n",
    "        # Get sample every 100 batches.\n",
    "        if step % sample_every == 0 and not step == 0:\n",
    "\n",
    "            elapsed = format_time(time.time() - t0)\n",
    "            print(f'Batch {step} of {len(train_dataloader)}. Loss:{batch_loss}. Time:{elapsed}')\n",
    "\n",
    "            model.eval()\n",
    "\n",
    "            sample_outputs = model.generate(\n",
    "                                    bos_token_id=random.randint(1,30000),\n",
    "                                    do_sample=True,   \n",
    "                                    top_k=50, \n",
    "                                    max_length = 200,\n",
    "                                    top_p=0.95, \n",
    "                                    num_return_sequences=1\n",
    "                                )\n",
    "            for i, sample_output in enumerate(sample_outputs):\n",
    "                  print(f'Example output: {tokenizer.decode(sample_output, skip_special_tokens=True)}')\n",
    "            \n",
    "            model.train()\n",
    "\n",
    "        loss.backward()\n",
    "\n",
    "        optimizer.step()\n",
    "\n",
    "        scheduler.step()\n",
    "\n",
    "    # Calculate the average loss over all of the batches.\n",
    "    avg_train_loss = total_train_loss / len(train_dataloader)       \n",
    "    \n",
    "    # Measure how long this epoch took.\n",
    "    training_time = format_time(time.time() - t0)\n",
    "\n",
    "    print(f'Average Training Loss: {avg_train_loss}. Epoch time: {training_time}')\n",
    "\n",
    "    t0 = time.time()\n",
    "\n",
    "    model.eval()\n",
    "\n",
    "    total_eval_loss = 0\n",
    "    nb_eval_steps = 0\n",
    "\n",
    "    # Evaluate data for one epoch\n",
    "    for batch in val_dataloader:\n",
    "        \n",
    "        b_input_ids = batch[0].to(device)\n",
    "        b_labels = batch[0].to(device)\n",
    "        b_masks = batch[1].to(device)\n",
    "        \n",
    "        with torch.no_grad():        \n",
    "\n",
    "            outputs  = model(b_input_ids,  \n",
    "                             attention_mask = b_masks,\n",
    "                             labels=b_labels)\n",
    "          \n",
    "            loss = outputs[0]  \n",
    "            \n",
    "        batch_loss = loss.item()\n",
    "        total_eval_loss += batch_loss        \n",
    "\n",
    "    avg_val_loss = total_eval_loss / len(val_dataloader)\n",
    "    \n",
    "    validation_time = format_time(time.time() - t0)    \n",
    "\n",
    "    print(f'Validation loss: {avg_val_loss}. Validation Time: {validation_time}')\n",
    "\n",
    "    # Record all statistics from this epoch.\n",
    "    training_stats.append(\n",
    "        {\n",
    "            'epoch': epoch_i + 1,\n",
    "            'Training Loss': avg_train_loss,\n",
    "            'Valid. Loss': avg_val_loss,\n",
    "            'Training Time': training_time,\n",
    "            'Validation Time': validation_time\n",
    "        }\n",
    "    )\n",
    "\n",
    "print(f'Total training took {format_time(time.time()-total_t0)}')"
   ]
  },
  {
   "cell_type": "code",
   "execution_count": 16,
   "id": "ce44d064",
   "metadata": {
    "execution": {
     "iopub.execute_input": "2021-07-22T22:23:28.134931Z",
     "iopub.status.busy": "2021-07-22T22:23:28.134182Z",
     "iopub.status.idle": "2021-07-22T22:23:29.035123Z",
     "shell.execute_reply": "2021-07-22T22:23:29.034665Z"
    },
    "papermill": {
     "duration": 1.041562,
     "end_time": "2021-07-22T22:23:29.035289",
     "exception": false,
     "start_time": "2021-07-22T22:23:27.993727",
     "status": "completed"
    },
    "tags": []
   },
   "outputs": [
    {
     "data": {
      "image/png": "[encoded data removed]",
      "text/plain": [
       "<Figure size 864x432 with 1 Axes>"
      ]
     },
     "metadata": {},
     "output_type": "display_data"
    }
   ],
   "source": [
    "import seaborn as sns\n",
    "import matplotlib.pyplot as plt\n",
    "\n",
    "pd.set_option('precision', 2)\n",
    "df_stats = pd.DataFrame(data=training_stats)\n",
    "df_stats = df_stats.set_index('epoch')\n",
    "\n",
    "sns.set(style='darkgrid')\n",
    "\n",
    "sns.set(font_scale=1.5)\n",
    "plt.rcParams[\"figure.figsize\"] = (12,6)\n",
    "\n",
    "plt.plot(df_stats['Training Loss'], 'b-o', label=\"Training\")\n",
    "plt.plot(df_stats['Valid. Loss'], 'g-o', label=\"Validation\")\n",
    "\n",
    "plt.title(\"Training & Validation Loss\")\n",
    "plt.xlabel(\"Epoch\")\n",
    "plt.ylabel(\"Loss\")\n",
    "plt.legend()\n",
    "xt = [i for i in range(1,epochs+1)]\n",
    "plt.xticks(xt)\n",
    "\n",
    "plt.show()"
   ]
  },
  {
   "cell_type": "code",
   "execution_count": 17,
   "id": "d0ae9a6f",
   "metadata": {
    "execution": {
     "iopub.execute_input": "2021-07-22T22:23:29.348064Z",
     "iopub.status.busy": "2021-07-22T22:23:29.347274Z",
     "iopub.status.idle": "2021-07-22T22:23:31.113796Z",
     "shell.execute_reply": "2021-07-22T22:23:31.113301Z"
    },
    "papermill": {
     "duration": 1.945709,
     "end_time": "2021-07-22T22:23:31.113949",
     "exception": false,
     "start_time": "2021-07-22T22:23:29.168240",
     "status": "completed"
    },
    "tags": []
   },
   "outputs": [
    {
     "data": {
      "text/plain": [
       "('./tokenizer_config.json',\n",
       " './special_tokens_map.json',\n",
       " './vocab.json',\n",
       " './merges.txt',\n",
       " './added_tokens.json')"
      ]
     },
     "execution_count": 17,
     "metadata": {},
     "output_type": "execute_result"
    }
   ],
   "source": [
    "import os\n",
    "out_dir = '/NIPS'\n",
    "model_to_save = model.module if hasattr(model, 'module') else model\n",
    "model_to_save.save_pretrained('./')\n",
    "tokenizer.save_pretrained('./')"
   ]
  },
  {
   "cell_type": "markdown",
   "id": "3b2adc1c",
   "metadata": {
    "papermill": {
     "duration": 0.133465,
     "end_time": "2021-07-22T22:23:31.382054",
     "exception": false,
     "start_time": "2021-07-22T22:23:31.248589",
     "status": "completed"
    },
    "tags": []
   },
   "source": [
    "**Let's see how well our model performs**"
   ]
  },
  {
   "cell_type": "code",
   "execution_count": 18,
   "id": "83cf5b72",
   "metadata": {
    "execution": {
     "iopub.execute_input": "2021-07-22T22:23:31.663453Z",
     "iopub.status.busy": "2021-07-22T22:23:31.662580Z",
     "iopub.status.idle": "2021-07-22T22:23:37.029475Z",
     "shell.execute_reply": "2021-07-22T22:23:37.030063Z"
    },
    "papermill": {
     "duration": 5.510373,
     "end_time": "2021-07-22T22:23:37.030273",
     "exception": false,
     "start_time": "2021-07-22T22:23:31.519900",
     "status": "completed"
    },
    "tags": []
   },
   "outputs": [
    {
     "name": "stderr",
     "output_type": "stream",
     "text": [
      "Setting `pad_token_id` to `eos_token_id`:50256 for open-end generation.\n"
     ]
    },
    {
     "name": "stdout",
     "output_type": "stream",
     "text": [
      "0: I believe that if people stoped using or subscribing to @ATT they would be forced to make big changes at @CNN which is dying in the ratings anyway. It is so unfair with such bad Fake News! Why wouldn’t they act. When the World watches @CNN it gets a false picture of USA. Sad!\n",
      "\n",
      "\n",
      "1: Lyin’ Brian Williams of MSDNC! https://t.co/3gtkdmoZjJ\n",
      "\n",
      "\n",
      "2: The Fake News hates me saying that they are the Enemy of the People only because they know it’s TRUE. I am providing a great service by explaining this to the American People. They purposely cause great division & distrust. They can also cause War! They are very dangerous & sick!\n",
      "\n",
      "\n",
      "3: The Wall Street Journal always “forgets” to mention that the ratings for the White House Press Briefings are “through the roof” (Monday Night Football, Bachelor Finale, according to @nytimes) & is only way for me to escape the Fake News & get my views across. WSJ is Fake News!\n",
      "\n",
      "\n",
      "4: ....for the more traditional, but not very bright, Sleepy Joe Biden. Here we go again Bernie, but this time please show a little more anger and indignation when you get screwed!\n",
      "\n",
      "\n"
     ]
    }
   ],
   "source": [
    "model.eval()\n",
    "\n",
    "prompt = \"<|sos|>\"\n",
    "\n",
    "generated = torch.tensor(tokenizer.encode(prompt)).unsqueeze(0)\n",
    "generated = generated.to(device)\n",
    "\n",
    "sample_outputs = model.generate(\n",
    "                                generated, \n",
    "                                do_sample=True,   \n",
    "                                top_k=50, \n",
    "                                max_length = 300,\n",
    "                                top_p=0.95, \n",
    "                                num_return_sequences=5\n",
    "                                )\n",
    "\n",
    "for i, sample_output in enumerate(sample_outputs):\n",
    "    print(\"{}: {}\\n\\n\".format(i, tokenizer.decode(sample_output, skip_special_tokens=True)))"
   ]
  },
  {
   "cell_type": "code",
   "execution_count": 19,
   "id": "959e0140",
   "metadata": {
    "execution": {
     "iopub.execute_input": "2021-07-22T22:23:37.289691Z",
     "iopub.status.busy": "2021-07-22T22:23:37.288887Z",
     "iopub.status.idle": "2021-07-22T22:23:39.565841Z",
     "shell.execute_reply": "2021-07-22T22:23:39.566275Z"
    },
    "papermill": {
     "duration": 2.410873,
     "end_time": "2021-07-22T22:23:39.566425",
     "exception": false,
     "start_time": "2021-07-22T22:23:37.155552",
     "status": "completed"
    },
    "tags": []
   },
   "outputs": [
    {
     "data": {
      "text/plain": [
       "GPT2LMHeadModel(\n",
       "  (transformer): GPT2Model(\n",
       "    (wte): Embedding(50260, 768)\n",
       "    (wpe): Embedding(1024, 768)\n",
       "    (drop): Dropout(p=0.1, inplace=False)\n",
       "    (h): ModuleList(\n",
       "      (0): GPT2Block(\n",
       "        (ln_1): LayerNorm((768,), eps=1e-05, elementwise_affine=True)\n",
       "        (attn): GPT2Attention(\n",
       "          (c_attn): Conv1D()\n",
       "          (c_proj): Conv1D()\n",
       "          (attn_dropout): Dropout(p=0.1, inplace=False)\n",
       "          (resid_dropout): Dropout(p=0.1, inplace=False)\n",
       "        )\n",
       "        (ln_2): LayerNorm((768,), eps=1e-05, elementwise_affine=True)\n",
       "        (mlp): GPT2MLP(\n",
       "          (c_fc): Conv1D()\n",
       "          (c_proj): Conv1D()\n",
       "          (dropout): Dropout(p=0.1, inplace=False)\n",
       "        )\n",
       "      )\n",
       "      (1): GPT2Block(\n",
       "        (ln_1): LayerNorm((768,), eps=1e-05, elementwise_affine=True)\n",
       "        (attn): GPT2Attention(\n",
       "          (c_attn): Conv1D()\n",
       "          (c_proj): Conv1D()\n",
       "          (attn_dropout): Dropout(p=0.1, inplace=False)\n",
       "          (resid_dropout): Dropout(p=0.1, inplace=False)\n",
       "        )\n",
       "        (ln_2): LayerNorm((768,), eps=1e-05, elementwise_affine=True)\n",
       "        (mlp): GPT2MLP(\n",
       "          (c_fc): Conv1D()\n",
       "          (c_proj): Conv1D()\n",
       "          (dropout): Dropout(p=0.1, inplace=False)\n",
       "        )\n",
       "      )\n",
       "      (2): GPT2Block(\n",
       "        (ln_1): LayerNorm((768,), eps=1e-05, elementwise_affine=True)\n",
       "        (attn): GPT2Attention(\n",
       "          (c_attn): Conv1D()\n",
       "          (c_proj): Conv1D()\n",
       "          (attn_dropout): Dropout(p=0.1, inplace=False)\n",
       "          (resid_dropout): Dropout(p=0.1, inplace=False)\n",
       "        )\n",
       "        (ln_2): LayerNorm((768,), eps=1e-05, elementwise_affine=True)\n",
       "        (mlp): GPT2MLP(\n",
       "          (c_fc): Conv1D()\n",
       "          (c_proj): Conv1D()\n",
       "          (dropout): Dropout(p=0.1, inplace=False)\n",
       "        )\n",
       "      )\n",
       "      (3): GPT2Block(\n",
       "        (ln_1): LayerNorm((768,), eps=1e-05, elementwise_affine=True)\n",
       "        (attn): GPT2Attention(\n",
       "          (c_attn): Conv1D()\n",
       "          (c_proj): Conv1D()\n",
       "          (attn_dropout): Dropout(p=0.1, inplace=False)\n",
       "          (resid_dropout): Dropout(p=0.1, inplace=False)\n",
       "        )\n",
       "        (ln_2): LayerNorm((768,), eps=1e-05, elementwise_affine=True)\n",
       "        (mlp): GPT2MLP(\n",
       "          (c_fc): Conv1D()\n",
       "          (c_proj): Conv1D()\n",
       "          (dropout): Dropout(p=0.1, inplace=False)\n",
       "        )\n",
       "      )\n",
       "      (4): GPT2Block(\n",
       "        (ln_1): LayerNorm((768,), eps=1e-05, elementwise_affine=True)\n",
       "        (attn): GPT2Attention(\n",
       "          (c_attn): Conv1D()\n",
       "          (c_proj): Conv1D()\n",
       "          (attn_dropout): Dropout(p=0.1, inplace=False)\n",
       "          (resid_dropout): Dropout(p=0.1, inplace=False)\n",
       "        )\n",
       "        (ln_2): LayerNorm((768,), eps=1e-05, elementwise_affine=True)\n",
       "        (mlp): GPT2MLP(\n",
       "          (c_fc): Conv1D()\n",
       "          (c_proj): Conv1D()\n",
       "          (dropout): Dropout(p=0.1, inplace=False)\n",
       "        )\n",
       "      )\n",
       "      (5): GPT2Block(\n",
       "        (ln_1): LayerNorm((768,), eps=1e-05, elementwise_affine=True)\n",
       "        (attn): GPT2Attention(\n",
       "          (c_attn): Conv1D()\n",
       "          (c_proj): Conv1D()\n",
       "          (attn_dropout): Dropout(p=0.1, inplace=False)\n",
       "          (resid_dropout): Dropout(p=0.1, inplace=False)\n",
       "        )\n",
       "        (ln_2): LayerNorm((768,), eps=1e-05, elementwise_affine=True)\n",
       "        (mlp): GPT2MLP(\n",
       "          (c_fc): Conv1D()\n",
       "          (c_proj): Conv1D()\n",
       "          (dropout): Dropout(p=0.1, inplace=False)\n",
       "        )\n",
       "      )\n",
       "      (6): GPT2Block(\n",
       "        (ln_1): LayerNorm((768,), eps=1e-05, elementwise_affine=True)\n",
       "        (attn): GPT2Attention(\n",
       "          (c_attn): Conv1D()\n",
       "          (c_proj): Conv1D()\n",
       "          (attn_dropout): Dropout(p=0.1, inplace=False)\n",
       "          (resid_dropout): Dropout(p=0.1, inplace=False)\n",
       "        )\n",
       "        (ln_2): LayerNorm((768,), eps=1e-05, elementwise_affine=True)\n",
       "        (mlp): GPT2MLP(\n",
       "          (c_fc): Conv1D()\n",
       "          (c_proj): Conv1D()\n",
       "          (dropout): Dropout(p=0.1, inplace=False)\n",
       "        )\n",
       "      )\n",
       "      (7): GPT2Block(\n",
       "        (ln_1): LayerNorm((768,), eps=1e-05, elementwise_affine=True)\n",
       "        (attn): GPT2Attention(\n",
       "          (c_attn): Conv1D()\n",
       "          (c_proj): Conv1D()\n",
       "          (attn_dropout): Dropout(p=0.1, inplace=False)\n",
       "          (resid_dropout): Dropout(p=0.1, inplace=False)\n",
       "        )\n",
       "        (ln_2): LayerNorm((768,), eps=1e-05, elementwise_affine=True)\n",
       "        (mlp): GPT2MLP(\n",
       "          (c_fc): Conv1D()\n",
       "          (c_proj): Conv1D()\n",
       "          (dropout): Dropout(p=0.1, inplace=False)\n",
       "        )\n",
       "      )\n",
       "      (8): GPT2Block(\n",
       "        (ln_1): LayerNorm((768,), eps=1e-05, elementwise_affine=True)\n",
       "        (attn): GPT2Attention(\n",
       "          (c_attn): Conv1D()\n",
       "          (c_proj): Conv1D()\n",
       "          (attn_dropout): Dropout(p=0.1, inplace=False)\n",
       "          (resid_dropout): Dropout(p=0.1, inplace=False)\n",
       "        )\n",
       "        (ln_2): LayerNorm((768,), eps=1e-05, elementwise_affine=True)\n",
       "        (mlp): GPT2MLP(\n",
       "          (c_fc): Conv1D()\n",
       "          (c_proj): Conv1D()\n",
       "          (dropout): Dropout(p=0.1, inplace=False)\n",
       "        )\n",
       "      )\n",
       "      (9): GPT2Block(\n",
       "        (ln_1): LayerNorm((768,), eps=1e-05, elementwise_affine=True)\n",
       "        (attn): GPT2Attention(\n",
       "          (c_attn): Conv1D()\n",
       "          (c_proj): Conv1D()\n",
       "          (attn_dropout): Dropout(p=0.1, inplace=False)\n",
       "          (resid_dropout): Dropout(p=0.1, inplace=False)\n",
       "        )\n",
       "        (ln_2): LayerNorm((768,), eps=1e-05, elementwise_affine=True)\n",
       "        (mlp): GPT2MLP(\n",
       "          (c_fc): Conv1D()\n",
       "          (c_proj): Conv1D()\n",
       "          (dropout): Dropout(p=0.1, inplace=False)\n",
       "        )\n",
       "      )\n",
       "      (10): GPT2Block(\n",
       "        (ln_1): LayerNorm((768,), eps=1e-05, elementwise_affine=True)\n",
       "        (attn): GPT2Attention(\n",
       "          (c_attn): Conv1D()\n",
       "          (c_proj): Conv1D()\n",
       "          (attn_dropout): Dropout(p=0.1, inplace=False)\n",
       "          (resid_dropout): Dropout(p=0.1, inplace=False)\n",
       "        )\n",
       "        (ln_2): LayerNorm((768,), eps=1e-05, elementwise_affine=True)\n",
       "        (mlp): GPT2MLP(\n",
       "          (c_fc): Conv1D()\n",
       "          (c_proj): Conv1D()\n",
       "          (dropout): Dropout(p=0.1, inplace=False)\n",
       "        )\n",
       "      )\n",
       "      (11): GPT2Block(\n",
       "        (ln_1): LayerNorm((768,), eps=1e-05, elementwise_affine=True)\n",
       "        (attn): GPT2Attention(\n",
       "          (c_attn): Conv1D()\n",
       "          (c_proj): Conv1D()\n",
       "          (attn_dropout): Dropout(p=0.1, inplace=False)\n",
       "          (resid_dropout): Dropout(p=0.1, inplace=False)\n",
       "        )\n",
       "        (ln_2): LayerNorm((768,), eps=1e-05, elementwise_affine=True)\n",
       "        (mlp): GPT2MLP(\n",
       "          (c_fc): Conv1D()\n",
       "          (c_proj): Conv1D()\n",
       "          (dropout): Dropout(p=0.1, inplace=False)\n",
       "        )\n",
       "      )\n",
       "    )\n",
       "    (ln_f): LayerNorm((768,), eps=1e-05, elementwise_affine=True)\n",
       "  )\n",
       "  (lm_head): Linear(in_features=768, out_features=50260, bias=False)\n",
       ")"
      ]
     },
     "execution_count": 19,
     "metadata": {},
     "output_type": "execute_result"
    }
   ],
   "source": [
    "#Load Saved Model\n",
    "\n",
    "model = GPT2LMHeadModel.from_pretrained('./')\n",
    "tokenizer = GPT2Tokenizer.from_pretrained('./')\n",
    "model.to(device)\n"
   ]
  },
  {
   "cell_type": "markdown",
   "id": "9ee1436b",
   "metadata": {
    "papermill": {
     "duration": 0.125016,
     "end_time": "2021-07-22T22:23:39.816736",
     "exception": false,
     "start_time": "2021-07-22T22:23:39.691720",
     "status": "completed"
    },
    "tags": []
   },
   "source": [
    "**Let's use a tweet**"
   ]
  },
  {
   "cell_type": "code",
   "execution_count": 20,
   "id": "4daa158f",
   "metadata": {
    "execution": {
     "iopub.execute_input": "2021-07-22T22:23:40.073271Z",
     "iopub.status.busy": "2021-07-22T22:23:40.072163Z",
     "iopub.status.idle": "2021-07-22T22:23:40.075024Z",
     "shell.execute_reply": "2021-07-22T22:23:40.074593Z"
    },
    "papermill": {
     "duration": 0.132326,
     "end_time": "2021-07-22T22:23:40.075137",
     "exception": false,
     "start_time": "2021-07-22T22:23:39.942811",
     "status": "completed"
    },
    "tags": []
   },
   "outputs": [],
   "source": [
    "tweet_1 = 'dysfunctional and is so selfish he'"
   ]
  },
  {
   "cell_type": "code",
   "execution_count": 21,
   "id": "e1c35fd8",
   "metadata": {
    "execution": {
     "iopub.execute_input": "2021-07-22T22:23:40.397425Z",
     "iopub.status.busy": "2021-07-22T22:23:40.396497Z",
     "iopub.status.idle": "2021-07-22T22:23:45.791569Z",
     "shell.execute_reply": "2021-07-22T22:23:45.791111Z"
    },
    "papermill": {
     "duration": 5.591112,
     "end_time": "2021-07-22T22:23:45.791698",
     "exception": false,
     "start_time": "2021-07-22T22:23:40.200586",
     "status": "completed"
    },
    "tags": []
   },
   "outputs": [
    {
     "name": "stderr",
     "output_type": "stream",
     "text": [
      "Setting `pad_token_id` to `eos_token_id`:50256 for open-end generation.\n"
     ]
    },
    {
     "name": "stdout",
     "output_type": "stream",
     "text": [
      "0: dysfunctional and is so selfish hedon’t have to sell himself to the bosses-big dollars ($700,000) for his wife’s political run from Hillary Clinton and her representatives. Dems are dumping Sleepy Joe. He’s coming home!\n",
      "\n",
      "\n",
      "1: dysfunctional and is so selfish he can’t even get the Democrat Nomination. But he can’t get the questions asked of our great First Responders. Can’t get the questions asked of Sleepy Joe! https://t.co/CxQhObvL\n",
      "\n",
      "\n",
      "2: dysfunctional and is so selfish hedon't even want to take off his mask! Phony @club4growth says I raised taxes—just another lie.\n",
      "\n",
      "\n",
      "3: dysfunctional and is so selfish hedon’t have to live with his incompetent political bosses. Many others also\n",
      " need his Tax Cuts - He is badly under siege!\n",
      "\n",
      "\n",
      "4: dysfunctional and is so selfish hedon’t have to pay exorbitant costs associated with NFL. Players take knee, raise taxes and then disrespecting our country! https://t.co/udXP5MR8BC\n",
      "\n",
      "\n"
     ]
    }
   ],
   "source": [
    "model.eval()\n",
    "\n",
    "prompt = tweet_1\n",
    "\n",
    "generated = torch.tensor(tokenizer.encode(prompt)).unsqueeze(0)\n",
    "generated = generated.to(device)\n",
    "\n",
    "sample_outputs = model.generate(\n",
    "                                generated, \n",
    "                                do_sample=True,   \n",
    "                                top_k=50, \n",
    "                                max_length = 300,\n",
    "                                top_p=0.95, \n",
    "                                num_return_sequences=5\n",
    "                                )\n",
    "\n",
    "for i, sample_output in enumerate(sample_outputs):\n",
    "    print(\"{}: {}\\n\\n\".format(i, tokenizer.decode(sample_output, skip_special_tokens=True)))"
   ]
  },
  {
   "cell_type": "code",
   "execution_count": null,
   "id": "f57bb6da",
   "metadata": {
    "_kg_hide-input": true,
    "papermill": {
     "duration": 0.126455,
     "end_time": "2021-07-22T22:23:46.047068",
     "exception": false,
     "start_time": "2021-07-22T22:23:45.920613",
     "status": "completed"
    },
    "tags": []
   },
   "outputs": [],
   "source": []
  },
  {
   "cell_type": "markdown",
   "id": "9e372208",
   "metadata": {
    "papermill": {
     "duration": 0.125926,
     "end_time": "2021-07-22T22:23:46.299872",
     "exception": false,
     "start_time": "2021-07-22T22:23:46.173946",
     "status": "completed"
    },
    "tags": []
   },
   "source": [
    "**References :**\n",
    "\n",
    "* https://huggingface.co/blog/how-to-generate\n",
    "* https://medium.com/analytics-vidhya/ai-writer-text-generation-using-gpt-2-transformers-4c33d8c52d5a"
   ]
  }
 ],
 "metadata": {
  "kernelspec": {
   "display_name": "Python 3",
   "language": "python",
   "name": "python3"
  },
  "language_info": {
   "codemirror_mode": {
    "name": "ipython",
    "version": 3
   },
   "file_extension": ".py",
   "mimetype": "text/x-python",
   "name": "python",
   "nbconvert_exporter": "python",
   "pygments_lexer": "ipython3",
   "version": "3.7.10"
  },
  "papermill": {
   "default_parameters": {},
   "duration": 7981.874291,
   "end_time": "2021-07-22T22:23:48.865716",
   "environment_variables": {},
   "exception": null,
   "input_path": "__notebook__.ipynb",
   "output_path": "__notebook__.ipynb",
   "parameters": {},
   "start_time": "2021-07-22T20:10:46.991425",
   "version": "2.3.3"
  },
  "widgets": {
   "application/vnd.jupyter.widget-state+json": {
    "state": {
     "17241a7252db42c692e54ded61e8471d": {
      "model_module": "@jupyter-widgets/controls",
      "model_module_version": "1.5.0",
      "model_name": "HBoxModel",
      "state": {
       "_dom_classes": [],
       "_model_module": "@jupyter-widgets/controls",
       "_model_module_version": "1.5.0",
       "_model_name": "HBoxModel",
       "_view_count": null,
       "_view_module": "@jupyter-widgets/controls",
       "_view_module_version": "1.5.0",
       "_view_name": "HBoxView",
       "box_style": "",
       "children": [
        "IPY_MODEL_6057e290dcee43bab653ef838b235b8d",
        "IPY_MODEL_c75cef93a5604131b20c30d410e23b71",
        "IPY_MODEL_f2c0e9a136e149de92abb7b3170e50ce"
       ],
       "layout": "IPY_MODEL_2a73c469f5bc4e3288e23b5803549808"
      }
     },
     "17d02282d6264d5591c57c14807c6f1b": {
      "model_module": "@jupyter-widgets/base",
      "model_module_version": "1.2.0",
      "model_name": "LayoutModel",
      "state": {
       "_model_module": "@jupyter-widgets/base",
       "_model_module_version": "1.2.0",
       "_model_name": "LayoutModel",
       "_view_count": null,
       "_view_module": "@jupyter-widgets/base",
       "_view_module_version": "1.2.0",
       "_view_name": "LayoutView",
       "align_content": null,
       "align_items": null,
       "align_self": null,
       "border": null,
       "bottom": null,
       "display": null,
       "flex": null,
       "flex_flow": null,
       "grid_area": null,
       "grid_auto_columns": null,
       "grid_auto_flow": null,
       "grid_auto_rows": null,
       "grid_column": null,
       "grid_gap": null,
       "grid_row": null,
       "grid_template_areas": null,
       "grid_template_columns": null,
       "grid_template_rows": null,
       "height": null,
       "justify_content": null,
       "justify_items": null,
       "left": null,
       "margin": null,
       "max_height": null,
       "max_width": null,
       "min_height": null,
       "min_width": null,
       "object_fit": null,
       "object_position": null,
       "order": null,
       "overflow": null,
       "overflow_x": null,
       "overflow_y": null,
       "padding": null,
       "right": null,
       "top": null,
       "visibility": null,
       "width": null
      }
     },
     "1d48d49abdcb49dc9c1eede7c30e0e8c": {
      "model_module": "@jupyter-widgets/base",
      "model_module_version": "1.2.0",
      "model_name": "LayoutModel",
      "state": {
       "_model_module": "@jupyter-widgets/base",
       "_model_module_version": "1.2.0",
       "_model_name": "LayoutModel",
       "_view_count": null,
       "_view_module": "@jupyter-widgets/base",
       "_view_module_version": "1.2.0",
       "_view_name": "LayoutView",
       "align_content": null,
       "align_items": null,
       "align_self": null,
       "border": null,
       "bottom": null,
       "display": null,
       "flex": null,
       "flex_flow": null,
       "grid_area": null,
       "grid_auto_columns": null,
       "grid_auto_flow": null,
       "grid_auto_rows": null,
       "grid_column": null,
       "grid_gap": null,
       "grid_row": null,
       "grid_template_areas": null,
       "grid_template_columns": null,
       "grid_template_rows": null,
       "height": null,
       "justify_content": null,
       "justify_items": null,
       "left": null,
       "margin": null,
       "max_height": null,
       "max_width": null,
       "min_height": null,
       "min_width": null,
       "object_fit": null,
       "object_position": null,
       "order": null,
       "overflow": null,
       "overflow_x": null,
       "overflow_y": null,
       "padding": null,
       "right": null,
       "top": null,
       "visibility": null,
       "width": null
      }
     },
     "1ef6a30b9362417db8d228600143489e": {
      "model_module": "@jupyter-widgets/base",
      "model_module_version": "1.2.0",
      "model_name": "LayoutModel",
      "state": {
       "_model_module": "@jupyter-widgets/base",
       "_model_module_version": "1.2.0",
       "_model_name": "LayoutModel",
       "_view_count": null,
       "_view_module": "@jupyter-widgets/base",
       "_view_module_version": "1.2.0",
       "_view_name": "LayoutView",
       "align_content": null,
       "align_items": null,
       "align_self": null,
       "border": null,
       "bottom": null,
       "display": null,
       "flex": null,
       "flex_flow": null,
       "grid_area": null,
       "grid_auto_columns": null,
       "grid_auto_flow": null,
       "grid_auto_rows": null,
       "grid_column": null,
       "grid_gap": null,
       "grid_row": null,
       "grid_template_areas": null,
       "grid_template_columns": null,
       "grid_template_rows": null,
       "height": null,
       "justify_content": null,
       "justify_items": null,
       "left": null,
       "margin": null,
       "max_height": null,
       "max_width": null,
       "min_height": null,
       "min_width": null,
       "object_fit": null,
       "object_position": null,
       "order": null,
       "overflow": null,
       "overflow_x": null,
       "overflow_y": null,
       "padding": null,
       "right": null,
       "top": null,
       "visibility": null,
       "width": null
      }
     },
     "202a7129a6f1433493cbb679f9e894ae": {
      "model_module": "@jupyter-widgets/base",
      "model_module_version": "1.2.0",
      "model_name": "LayoutModel",
      "state": {
       "_model_module": "@jupyter-widgets/base",
       "_model_module_version": "1.2.0",
       "_model_name": "LayoutModel",
       "_view_count": null,
       "_view_module": "@jupyter-widgets/base",
       "_view_module_version": "1.2.0",
       "_view_name": "LayoutView",
       "align_content": null,
       "align_items": null,
       "align_self": null,
       "border": null,
       "bottom": null,
       "display": null,
       "flex": null,
       "flex_flow": null,
       "grid_area": null,
       "grid_auto_columns": null,
       "grid_auto_flow": null,
       "grid_auto_rows": null,
       "grid_column": null,
       "grid_gap": null,
       "grid_row": null,
       "grid_template_areas": null,
       "grid_template_columns": null,
       "grid_template_rows": null,
       "height": null,
       "justify_content": null,
       "justify_items": null,
       "left": null,
       "margin": null,
       "max_height": null,
       "max_width": null,
       "min_height": null,
       "min_width": null,
       "object_fit": null,
       "object_position": null,
       "order": null,
       "overflow": null,
       "overflow_x": null,
       "overflow_y": null,
       "padding": null,
       "right": null,
       "top": null,
       "visibility": null,
       "width": null
      }
     },
     "21806341d0f840529c686d00cc592b9e": {
      "model_module": "@jupyter-widgets/controls",
      "model_module_version": "1.5.0",
      "model_name": "ProgressStyleModel",
      "state": {
       "_model_module": "@jupyter-widgets/controls",
       "_model_module_version": "1.5.0",
       "_model_name": "ProgressStyleModel",
       "_view_count": null,
       "_view_module": "@jupyter-widgets/base",
       "_view_module_version": "1.2.0",
       "_view_name": "StyleView",
       "bar_color": null,
       "description_width": ""
      }
     },
     "224960c4f682404baccaaf9dfc02b546": {
      "model_module": "@jupyter-widgets/controls",
      "model_module_version": "1.5.0",
      "model_name": "ProgressStyleModel",
      "state": {
       "_model_module": "@jupyter-widgets/controls",
       "_model_module_version": "1.5.0",
       "_model_name": "ProgressStyleModel",
       "_view_count": null,
       "_view_module": "@jupyter-widgets/base",
       "_view_module_version": "1.2.0",
       "_view_name": "StyleView",
       "bar_color": null,
       "description_width": ""
      }
     },
     "28a0ebd40f314ff7b7fe95fae5f35fb0": {
      "model_module": "@jupyter-widgets/base",
      "model_module_version": "1.2.0",
      "model_name": "LayoutModel",
      "state": {
       "_model_module": "@jupyter-widgets/base",
       "_model_module_version": "1.2.0",
       "_model_name": "LayoutModel",
       "_view_count": null,
       "_view_module": "@jupyter-widgets/base",
       "_view_module_version": "1.2.0",
       "_view_name": "LayoutView",
       "align_content": null,
       "align_items": null,
       "align_self": null,
       "border": null,
       "bottom": null,
       "display": null,
       "flex": null,
       "flex_flow": null,
       "grid_area": null,
       "grid_auto_columns": null,
       "grid_auto_flow": null,
       "grid_auto_rows": null,
       "grid_column": null,
       "grid_gap": null,
       "grid_row": null,
       "grid_template_areas": null,
       "grid_template_columns": null,
       "grid_template_rows": null,
       "height": null,
       "justify_content": null,
       "justify_items": null,
       "left": null,
       "margin": null,
       "max_height": null,
       "max_width": null,
       "min_height": null,
       "min_width": null,
       "object_fit": null,
       "object_position": null,
       "order": null,
       "overflow": null,
       "overflow_x": null,
       "overflow_y": null,
       "padding": null,
       "right": null,
       "top": null,
       "visibility": null,
       "width": null
      }
     },
     "2a73c469f5bc4e3288e23b5803549808": {
      "model_module": "@jupyter-widgets/base",
      "model_module_version": "1.2.0",
      "model_name": "LayoutModel",
      "state": {
       "_model_module": "@jupyter-widgets/base",
       "_model_module_version": "1.2.0",
       "_model_name": "LayoutModel",
       "_view_count": null,
       "_view_module": "@jupyter-widgets/base",
       "_view_module_version": "1.2.0",
       "_view_name": "LayoutView",
       "align_content": null,
       "align_items": null,
       "align_self": null,
       "border": null,
       "bottom": null,
       "display": null,
       "flex": null,
       "flex_flow": null,
       "grid_area": null,
       "grid_auto_columns": null,
       "grid_auto_flow": null,
       "grid_auto_rows": null,
       "grid_column": null,
       "grid_gap": null,
       "grid_row": null,
       "grid_template_areas": null,
       "grid_template_columns": null,
       "grid_template_rows": null,
       "height": null,
       "justify_content": null,
       "justify_items": null,
       "left": null,
       "margin": null,
       "max_height": null,
       "max_width": null,
       "min_height": null,
       "min_width": null,
       "object_fit": null,
       "object_position": null,
       "order": null,
       "overflow": null,
       "overflow_x": null,
       "overflow_y": null,
       "padding": null,
       "right": null,
       "top": null,
       "visibility": null,
       "width": null
      }
     },
     "2e03ee34dcbf43949a80d4c9f04bd501": {
      "model_module": "@jupyter-widgets/base",
      "model_module_version": "1.2.0",
      "model_name": "LayoutModel",
      "state": {
       "_model_module": "@jupyter-widgets/base",
       "_model_module_version": "1.2.0",
       "_model_name": "LayoutModel",
       "_view_count": null,
       "_view_module": "@jupyter-widgets/base",
       "_view_module_version": "1.2.0",
       "_view_name": "LayoutView",
       "align_content": null,
       "align_items": null,
       "align_self": null,
       "border": null,
       "bottom": null,
       "display": null,
       "flex": null,
       "flex_flow": null,
       "grid_area": null,
       "grid_auto_columns": null,
       "grid_auto_flow": null,
       "grid_auto_rows": null,
       "grid_column": null,
       "grid_gap": null,
       "grid_row": null,
       "grid_template_areas": null,
       "grid_template_columns": null,
       "grid_template_rows": null,
       "height": null,
       "justify_content": null,
       "justify_items": null,
       "left": null,
       "margin": null,
       "max_height": null,
       "max_width": null,
       "min_height": null,
       "min_width": null,
       "object_fit": null,
       "object_position": null,
       "order": null,
       "overflow": null,
       "overflow_x": null,
       "overflow_y": null,
       "padding": null,
       "right": null,
       "top": null,
       "visibility": null,
       "width": null
      }
     },
     "2ee52b56064d45b29044ed02aff98476": {
      "model_module": "@jupyter-widgets/controls",
      "model_module_version": "1.5.0",
      "model_name": "DescriptionStyleModel",
      "state": {
       "_model_module": "@jupyter-widgets/controls",
       "_model_module_version": "1.5.0",
       "_model_name": "DescriptionStyleModel",
       "_view_count": null,
       "_view_module": "@jupyter-widgets/base",
       "_view_module_version": "1.2.0",
       "_view_name": "StyleView",
       "description_width": ""
      }
     },
     "333e9cead5004a8491f0851cc4ec9bb4": {
      "model_module": "@jupyter-widgets/controls",
      "model_module_version": "1.5.0",
      "model_name": "HTMLModel",
      "state": {
       "_dom_classes": [],
       "_model_module": "@jupyter-widgets/controls",
       "_model_module_version": "1.5.0",
       "_model_name": "HTMLModel",
       "_view_count": null,
       "_view_module": "@jupyter-widgets/controls",
       "_view_module_version": "1.5.0",
       "_view_name": "HTMLView",
       "description": "",
       "description_tooltip": null,
       "layout": "IPY_MODEL_1d48d49abdcb49dc9c1eede7c30e0e8c",
       "placeholder": "​",
       "style": "IPY_MODEL_2ee52b56064d45b29044ed02aff98476",
       "value": "Downloading: 100%"
      }
     },
     "3b3c22c460954d1b913a6b6d7c20189e": {
      "model_module": "@jupyter-widgets/controls",
      "model_module_version": "1.5.0",
      "model_name": "HBoxModel",
      "state": {
       "_dom_classes": [],
       "_model_module": "@jupyter-widgets/controls",
       "_model_module_version": "1.5.0",
       "_model_name": "HBoxModel",
       "_view_count": null,
       "_view_module": "@jupyter-widgets/controls",
       "_view_module_version": "1.5.0",
       "_view_name": "HBoxView",
       "box_style": "",
       "children": [
        "IPY_MODEL_ac0edfd705e44e289630512556827a70",
        "IPY_MODEL_f67c409f04f646c99cc4b72897be6a32",
        "IPY_MODEL_9ae16bd62e7f4bcb98d00a6fb3cc2275"
       ],
       "layout": "IPY_MODEL_a0e44d62cd3042908074dbdf7466ddf1"
      }
     },
     "3d7ff96e49574916a4c5cca6ecd69f1b": {
      "model_module": "@jupyter-widgets/controls",
      "model_module_version": "1.5.0",
      "model_name": "HTMLModel",
      "state": {
       "_dom_classes": [],
       "_model_module": "@jupyter-widgets/controls",
       "_model_module_version": "1.5.0",
       "_model_name": "HTMLModel",
       "_view_count": null,
       "_view_module": "@jupyter-widgets/controls",
       "_view_module_version": "1.5.0",
       "_view_name": "HTMLView",
       "description": "",
       "description_tooltip": null,
       "layout": "IPY_MODEL_6b64b1699ded40cc8250e9a5475b60a3",
       "placeholder": "​",
       "style": "IPY_MODEL_b203d39927e04457b13fe74914aadba0",
       "value": " 456k/456k [00:00&lt;00:00, 1.37MB/s]"
      }
     },
     "3db113818f9c4dd6a7f6475d3574ec1f": {
      "model_module": "@jupyter-widgets/controls",
      "model_module_version": "1.5.0",
      "model_name": "HTMLModel",
      "state": {
       "_dom_classes": [],
       "_model_module": "@jupyter-widgets/controls",
       "_model_module_version": "1.5.0",
       "_model_name": "HTMLModel",
       "_view_count": null,
       "_view_module": "@jupyter-widgets/controls",
       "_view_module_version": "1.5.0",
       "_view_name": "HTMLView",
       "description": "",
       "description_tooltip": null,
       "layout": "IPY_MODEL_de436770883e45d59b441db3ea4cb8e9",
       "placeholder": "​",
       "style": "IPY_MODEL_774c80ab4df040258c3af8b2a008bfdc",
       "value": "Downloading: 100%"
      }
     },
     "44867731220d4d0fa4710dde0f479ce6": {
      "model_module": "@jupyter-widgets/base",
      "model_module_version": "1.2.0",
      "model_name": "LayoutModel",
      "state": {
       "_model_module": "@jupyter-widgets/base",
       "_model_module_version": "1.2.0",
       "_model_name": "LayoutModel",
       "_view_count": null,
       "_view_module": "@jupyter-widgets/base",
       "_view_module_version": "1.2.0",
       "_view_name": "LayoutView",
       "align_content": null,
       "align_items": null,
       "align_self": null,
       "border": null,
       "bottom": null,
       "display": null,
       "flex": null,
       "flex_flow": null,
       "grid_area": null,
       "grid_auto_columns": null,
       "grid_auto_flow": null,
       "grid_auto_rows": null,
       "grid_column": null,
       "grid_gap": null,
       "grid_row": null,
       "grid_template_areas": null,
       "grid_template_columns": null,
       "grid_template_rows": null,
       "height": null,
       "justify_content": null,
       "justify_items": null,
       "left": null,
       "margin": null,
       "max_height": null,
       "max_width": null,
       "min_height": null,
       "min_width": null,
       "object_fit": null,
       "object_position": null,
       "order": null,
       "overflow": null,
       "overflow_x": null,
       "overflow_y": null,
       "padding": null,
       "right": null,
       "top": null,
       "visibility": null,
       "width": null
      }
     },
     "45b13a99b406417e9ee5176d9186d196": {
      "model_module": "@jupyter-widgets/controls",
      "model_module_version": "1.5.0",
      "model_name": "FloatProgressModel",
      "state": {
       "_dom_classes": [],
       "_model_module": "@jupyter-widgets/controls",
       "_model_module_version": "1.5.0",
       "_model_name": "FloatProgressModel",
       "_view_count": null,
       "_view_module": "@jupyter-widgets/controls",
       "_view_module_version": "1.5.0",
       "_view_name": "ProgressView",
       "bar_style": "success",
       "description": "",
       "description_tooltip": null,
       "layout": "IPY_MODEL_28a0ebd40f314ff7b7fe95fae5f35fb0",
       "max": 1355256.0,
       "min": 0.0,
       "orientation": "horizontal",
       "style": "IPY_MODEL_a88a49413f9744a4a90d37d0e42bdee2",
       "value": 1355256.0
      }
     },
     "6057e290dcee43bab653ef838b235b8d": {
      "model_module": "@jupyter-widgets/controls",
      "model_module_version": "1.5.0",
      "model_name": "HTMLModel",
      "state": {
       "_dom_classes": [],
       "_model_module": "@jupyter-widgets/controls",
       "_model_module_version": "1.5.0",
       "_model_name": "HTMLModel",
       "_view_count": null,
       "_view_module": "@jupyter-widgets/controls",
       "_view_module_version": "1.5.0",
       "_view_name": "HTMLView",
       "description": "",
       "description_tooltip": null,
       "layout": "IPY_MODEL_ab5cb44e407442a28ae9be686440eeb8",
       "placeholder": "​",
       "style": "IPY_MODEL_f26a1eb41c794d9d96848569ebcb87c0",
       "value": "Downloading: 100%"
      }
     },
     "612937c228d849b19669dafd031b37b7": {
      "model_module": "@jupyter-widgets/controls",
      "model_module_version": "1.5.0",
      "model_name": "ProgressStyleModel",
      "state": {
       "_model_module": "@jupyter-widgets/controls",
       "_model_module_version": "1.5.0",
       "_model_name": "ProgressStyleModel",
       "_view_count": null,
       "_view_module": "@jupyter-widgets/base",
       "_view_module_version": "1.2.0",
       "_view_name": "StyleView",
       "bar_color": null,
       "description_width": ""
      }
     },
     "6410f706b3db408a8b431feed664149e": {
      "model_module": "@jupyter-widgets/controls",
      "model_module_version": "1.5.0",
      "model_name": "HBoxModel",
      "state": {
       "_dom_classes": [],
       "_model_module": "@jupyter-widgets/controls",
       "_model_module_version": "1.5.0",
       "_model_name": "HBoxModel",
       "_view_count": null,
       "_view_module": "@jupyter-widgets/controls",
       "_view_module_version": "1.5.0",
       "_view_name": "HBoxView",
       "box_style": "",
       "children": [
        "IPY_MODEL_b2823e5c971d493c8f07600d847536d6",
        "IPY_MODEL_45b13a99b406417e9ee5176d9186d196",
        "IPY_MODEL_caafad0194164246ac1c37881bcb7fbc"
       ],
       "layout": "IPY_MODEL_17d02282d6264d5591c57c14807c6f1b"
      }
     },
     "65655f4678f14ba7a4533539593d09f0": {
      "model_module": "@jupyter-widgets/controls",
      "model_module_version": "1.5.0",
      "model_name": "FloatProgressModel",
      "state": {
       "_dom_classes": [],
       "_model_module": "@jupyter-widgets/controls",
       "_model_module_version": "1.5.0",
       "_model_name": "FloatProgressModel",
       "_view_count": null,
       "_view_module": "@jupyter-widgets/controls",
       "_view_module_version": "1.5.0",
       "_view_name": "ProgressView",
       "bar_style": "success",
       "description": "",
       "description_tooltip": null,
       "layout": "IPY_MODEL_8935034c0d1d4723be774fcbf9c75dbf",
       "max": 1042301.0,
       "min": 0.0,
       "orientation": "horizontal",
       "style": "IPY_MODEL_21806341d0f840529c686d00cc592b9e",
       "value": 1042301.0
      }
     },
     "6b64b1699ded40cc8250e9a5475b60a3": {
      "model_module": "@jupyter-widgets/base",
      "model_module_version": "1.2.0",
      "model_name": "LayoutModel",
      "state": {
       "_model_module": "@jupyter-widgets/base",
       "_model_module_version": "1.2.0",
       "_model_name": "LayoutModel",
       "_view_count": null,
       "_view_module": "@jupyter-widgets/base",
       "_view_module_version": "1.2.0",
       "_view_name": "LayoutView",
       "align_content": null,
       "align_items": null,
       "align_self": null,
       "border": null,
       "bottom": null,
       "display": null,
       "flex": null,
       "flex_flow": null,
       "grid_area": null,
       "grid_auto_columns": null,
       "grid_auto_flow": null,
       "grid_auto_rows": null,
       "grid_column": null,
       "grid_gap": null,
       "grid_row": null,
       "grid_template_areas": null,
       "grid_template_columns": null,
       "grid_template_rows": null,
       "height": null,
       "justify_content": null,
       "justify_items": null,
       "left": null,
       "margin": null,
       "max_height": null,
       "max_width": null,
       "min_height": null,
       "min_width": null,
       "object_fit": null,
       "object_position": null,
       "order": null,
       "overflow": null,
       "overflow_x": null,
       "overflow_y": null,
       "padding": null,
       "right": null,
       "top": null,
       "visibility": null,
       "width": null
      }
     },
     "72dcdc1c4a7d4537b9506b7f8f60d10a": {
      "model_module": "@jupyter-widgets/base",
      "model_module_version": "1.2.0",
      "model_name": "LayoutModel",
      "state": {
       "_model_module": "@jupyter-widgets/base",
       "_model_module_version": "1.2.0",
       "_model_name": "LayoutModel",
       "_view_count": null,
       "_view_module": "@jupyter-widgets/base",
       "_view_module_version": "1.2.0",
       "_view_name": "LayoutView",
       "align_content": null,
       "align_items": null,
       "align_self": null,
       "border": null,
       "bottom": null,
       "display": null,
       "flex": null,
       "flex_flow": null,
       "grid_area": null,
       "grid_auto_columns": null,
       "grid_auto_flow": null,
       "grid_auto_rows": null,
       "grid_column": null,
       "grid_gap": null,
       "grid_row": null,
       "grid_template_areas": null,
       "grid_template_columns": null,
       "grid_template_rows": null,
       "height": null,
       "justify_content": null,
       "justify_items": null,
       "left": null,
       "margin": null,
       "max_height": null,
       "max_width": null,
       "min_height": null,
       "min_width": null,
       "object_fit": null,
       "object_position": null,
       "order": null,
       "overflow": null,
       "overflow_x": null,
       "overflow_y": null,
       "padding": null,
       "right": null,
       "top": null,
       "visibility": null,
       "width": null
      }
     },
     "774c80ab4df040258c3af8b2a008bfdc": {
      "model_module": "@jupyter-widgets/controls",
      "model_module_version": "1.5.0",
      "model_name": "DescriptionStyleModel",
      "state": {
       "_model_module": "@jupyter-widgets/controls",
       "_model_module_version": "1.5.0",
       "_model_name": "DescriptionStyleModel",
       "_view_count": null,
       "_view_module": "@jupyter-widgets/base",
       "_view_module_version": "1.2.0",
       "_view_name": "StyleView",
       "description_width": ""
      }
     },
     "7b9bc390f69241f99a2157ad6a9d96a1": {
      "model_module": "@jupyter-widgets/controls",
      "model_module_version": "1.5.0",
      "model_name": "DescriptionStyleModel",
      "state": {
       "_model_module": "@jupyter-widgets/controls",
       "_model_module_version": "1.5.0",
       "_model_name": "DescriptionStyleModel",
       "_view_count": null,
       "_view_module": "@jupyter-widgets/base",
       "_view_module_version": "1.2.0",
       "_view_name": "StyleView",
       "description_width": ""
      }
     },
     "868a3119b864416bac87d8bdcfe37a86": {
      "model_module": "@jupyter-widgets/controls",
      "model_module_version": "1.5.0",
      "model_name": "DescriptionStyleModel",
      "state": {
       "_model_module": "@jupyter-widgets/controls",
       "_model_module_version": "1.5.0",
       "_model_name": "DescriptionStyleModel",
       "_view_count": null,
       "_view_module": "@jupyter-widgets/base",
       "_view_module_version": "1.2.0",
       "_view_name": "StyleView",
       "description_width": ""
      }
     },
     "8935034c0d1d4723be774fcbf9c75dbf": {
      "model_module": "@jupyter-widgets/base",
      "model_module_version": "1.2.0",
      "model_name": "LayoutModel",
      "state": {
       "_model_module": "@jupyter-widgets/base",
       "_model_module_version": "1.2.0",
       "_model_name": "LayoutModel",
       "_view_count": null,
       "_view_module": "@jupyter-widgets/base",
       "_view_module_version": "1.2.0",
       "_view_name": "LayoutView",
       "align_content": null,
       "align_items": null,
       "align_self": null,
       "border": null,
       "bottom": null,
       "display": null,
       "flex": null,
       "flex_flow": null,
       "grid_area": null,
       "grid_auto_columns": null,
       "grid_auto_flow": null,
       "grid_auto_rows": null,
       "grid_column": null,
       "grid_gap": null,
       "grid_row": null,
       "grid_template_areas": null,
       "grid_template_columns": null,
       "grid_template_rows": null,
       "height": null,
       "justify_content": null,
       "justify_items": null,
       "left": null,
       "margin": null,
       "max_height": null,
       "max_width": null,
       "min_height": null,
       "min_width": null,
       "object_fit": null,
       "object_position": null,
       "order": null,
       "overflow": null,
       "overflow_x": null,
       "overflow_y": null,
       "padding": null,
       "right": null,
       "top": null,
       "visibility": null,
       "width": null
      }
     },
     "96de347345ba46d283c34bf2d04331d3": {
      "model_module": "@jupyter-widgets/controls",
      "model_module_version": "1.5.0",
      "model_name": "DescriptionStyleModel",
      "state": {
       "_model_module": "@jupyter-widgets/controls",
       "_model_module_version": "1.5.0",
       "_model_name": "DescriptionStyleModel",
       "_view_count": null,
       "_view_module": "@jupyter-widgets/base",
       "_view_module_version": "1.2.0",
       "_view_name": "StyleView",
       "description_width": ""
      }
     },
     "9a40486569cc405e8243d7aa1570ca89": {
      "model_module": "@jupyter-widgets/controls",
      "model_module_version": "1.5.0",
      "model_name": "FloatProgressModel",
      "state": {
       "_dom_classes": [],
       "_model_module": "@jupyter-widgets/controls",
       "_model_module_version": "1.5.0",
       "_model_name": "FloatProgressModel",
       "_view_count": null,
       "_view_module": "@jupyter-widgets/controls",
       "_view_module_version": "1.5.0",
       "_view_name": "ProgressView",
       "bar_style": "success",
       "description": "",
       "description_tooltip": null,
       "layout": "IPY_MODEL_fe23a1568b734565b4d84ff42fabea00",
       "max": 456318.0,
       "min": 0.0,
       "orientation": "horizontal",
       "style": "IPY_MODEL_612937c228d849b19669dafd031b37b7",
       "value": 456318.0
      }
     },
     "9ae16bd62e7f4bcb98d00a6fb3cc2275": {
      "model_module": "@jupyter-widgets/controls",
      "model_module_version": "1.5.0",
      "model_name": "HTMLModel",
      "state": {
       "_dom_classes": [],
       "_model_module": "@jupyter-widgets/controls",
       "_model_module_version": "1.5.0",
       "_model_name": "HTMLModel",
       "_view_count": null,
       "_view_module": "@jupyter-widgets/controls",
       "_view_module_version": "1.5.0",
       "_view_name": "HTMLView",
       "description": "",
       "description_tooltip": null,
       "layout": "IPY_MODEL_b4665554b2f1493983f12fc4351b8f26",
       "placeholder": "​",
       "style": "IPY_MODEL_a4f26e7a718148628c5e7bd72e78aa7b",
       "value": " 548M/548M [00:24&lt;00:00, 23.1MB/s]"
      }
     },
     "9b9d7011fcc242ce851d568204ca9f0b": {
      "model_module": "@jupyter-widgets/controls",
      "model_module_version": "1.5.0",
      "model_name": "HBoxModel",
      "state": {
       "_dom_classes": [],
       "_model_module": "@jupyter-widgets/controls",
       "_model_module_version": "1.5.0",
       "_model_name": "HBoxModel",
       "_view_count": null,
       "_view_module": "@jupyter-widgets/controls",
       "_view_module_version": "1.5.0",
       "_view_name": "HBoxView",
       "box_style": "",
       "children": [
        "IPY_MODEL_3db113818f9c4dd6a7f6475d3574ec1f",
        "IPY_MODEL_9a40486569cc405e8243d7aa1570ca89",
        "IPY_MODEL_3d7ff96e49574916a4c5cca6ecd69f1b"
       ],
       "layout": "IPY_MODEL_a2be5298813d4240bd2620b4e66ba7d2"
      }
     },
     "a0e44d62cd3042908074dbdf7466ddf1": {
      "model_module": "@jupyter-widgets/base",
      "model_module_version": "1.2.0",
      "model_name": "LayoutModel",
      "state": {
       "_model_module": "@jupyter-widgets/base",
       "_model_module_version": "1.2.0",
       "_model_name": "LayoutModel",
       "_view_count": null,
       "_view_module": "@jupyter-widgets/base",
       "_view_module_version": "1.2.0",
       "_view_name": "LayoutView",
       "align_content": null,
       "align_items": null,
       "align_self": null,
       "border": null,
       "bottom": null,
       "display": null,
       "flex": null,
       "flex_flow": null,
       "grid_area": null,
       "grid_auto_columns": null,
       "grid_auto_flow": null,
       "grid_auto_rows": null,
       "grid_column": null,
       "grid_gap": null,
       "grid_row": null,
       "grid_template_areas": null,
       "grid_template_columns": null,
       "grid_template_rows": null,
       "height": null,
       "justify_content": null,
       "justify_items": null,
       "left": null,
       "margin": null,
       "max_height": null,
       "max_width": null,
       "min_height": null,
       "min_width": null,
       "object_fit": null,
       "object_position": null,
       "order": null,
       "overflow": null,
       "overflow_x": null,
       "overflow_y": null,
       "padding": null,
       "right": null,
       "top": null,
       "visibility": null,
       "width": null
      }
     },
     "a23c44868a154f6889467230a1c3b7b9": {
      "model_module": "@jupyter-widgets/controls",
      "model_module_version": "1.5.0",
      "model_name": "DescriptionStyleModel",
      "state": {
       "_model_module": "@jupyter-widgets/controls",
       "_model_module_version": "1.5.0",
       "_model_name": "DescriptionStyleModel",
       "_view_count": null,
       "_view_module": "@jupyter-widgets/base",
       "_view_module_version": "1.2.0",
       "_view_name": "StyleView",
       "description_width": ""
      }
     },
     "a2be5298813d4240bd2620b4e66ba7d2": {
      "model_module": "@jupyter-widgets/base",
      "model_module_version": "1.2.0",
      "model_name": "LayoutModel",
      "state": {
       "_model_module": "@jupyter-widgets/base",
       "_model_module_version": "1.2.0",
       "_model_name": "LayoutModel",
       "_view_count": null,
       "_view_module": "@jupyter-widgets/base",
       "_view_module_version": "1.2.0",
       "_view_name": "LayoutView",
       "align_content": null,
       "align_items": null,
       "align_self": null,
       "border": null,
       "bottom": null,
       "display": null,
       "flex": null,
       "flex_flow": null,
       "grid_area": null,
       "grid_auto_columns": null,
       "grid_auto_flow": null,
       "grid_auto_rows": null,
       "grid_column": null,
       "grid_gap": null,
       "grid_row": null,
       "grid_template_areas": null,
       "grid_template_columns": null,
       "grid_template_rows": null,
       "height": null,
       "justify_content": null,
       "justify_items": null,
       "left": null,
       "margin": null,
       "max_height": null,
       "max_width": null,
       "min_height": null,
       "min_width": null,
       "object_fit": null,
       "object_position": null,
       "order": null,
       "overflow": null,
       "overflow_x": null,
       "overflow_y": null,
       "padding": null,
       "right": null,
       "top": null,
       "visibility": null,
       "width": null
      }
     },
     "a4f26e7a718148628c5e7bd72e78aa7b": {
      "model_module": "@jupyter-widgets/controls",
      "model_module_version": "1.5.0",
      "model_name": "DescriptionStyleModel",
      "state": {
       "_model_module": "@jupyter-widgets/controls",
       "_model_module_version": "1.5.0",
       "_model_name": "DescriptionStyleModel",
       "_view_count": null,
       "_view_module": "@jupyter-widgets/base",
       "_view_module_version": "1.2.0",
       "_view_name": "StyleView",
       "description_width": ""
      }
     },
     "a88a49413f9744a4a90d37d0e42bdee2": {
      "model_module": "@jupyter-widgets/controls",
      "model_module_version": "1.5.0",
      "model_name": "ProgressStyleModel",
      "state": {
       "_model_module": "@jupyter-widgets/controls",
       "_model_module_version": "1.5.0",
       "_model_name": "ProgressStyleModel",
       "_view_count": null,
       "_view_module": "@jupyter-widgets/base",
       "_view_module_version": "1.2.0",
       "_view_name": "StyleView",
       "bar_color": null,
       "description_width": ""
      }
     },
     "ab5cb44e407442a28ae9be686440eeb8": {
      "model_module": "@jupyter-widgets/base",
      "model_module_version": "1.2.0",
      "model_name": "LayoutModel",
      "state": {
       "_model_module": "@jupyter-widgets/base",
       "_model_module_version": "1.2.0",
       "_model_name": "LayoutModel",
       "_view_count": null,
       "_view_module": "@jupyter-widgets/base",
       "_view_module_version": "1.2.0",
       "_view_name": "LayoutView",
       "align_content": null,
       "align_items": null,
       "align_self": null,
       "border": null,
       "bottom": null,
       "display": null,
       "flex": null,
       "flex_flow": null,
       "grid_area": null,
       "grid_auto_columns": null,
       "grid_auto_flow": null,
       "grid_auto_rows": null,
       "grid_column": null,
       "grid_gap": null,
       "grid_row": null,
       "grid_template_areas": null,
       "grid_template_columns": null,
       "grid_template_rows": null,
       "height": null,
       "justify_content": null,
       "justify_items": null,
       "left": null,
       "margin": null,
       "max_height": null,
       "max_width": null,
       "min_height": null,
       "min_width": null,
       "object_fit": null,
       "object_position": null,
       "order": null,
       "overflow": null,
       "overflow_x": null,
       "overflow_y": null,
       "padding": null,
       "right": null,
       "top": null,
       "visibility": null,
       "width": null
      }
     },
     "ac0edfd705e44e289630512556827a70": {
      "model_module": "@jupyter-widgets/controls",
      "model_module_version": "1.5.0",
      "model_name": "HTMLModel",
      "state": {
       "_dom_classes": [],
       "_model_module": "@jupyter-widgets/controls",
       "_model_module_version": "1.5.0",
       "_model_name": "HTMLModel",
       "_view_count": null,
       "_view_module": "@jupyter-widgets/controls",
       "_view_module_version": "1.5.0",
       "_view_name": "HTMLView",
       "description": "",
       "description_tooltip": null,
       "layout": "IPY_MODEL_44867731220d4d0fa4710dde0f479ce6",
       "placeholder": "​",
       "style": "IPY_MODEL_7b9bc390f69241f99a2157ad6a9d96a1",
       "value": "Downloading: 100%"
      }
     },
     "ad9dd8b7b5c34032bea9d4017dccb364": {
      "model_module": "@jupyter-widgets/controls",
      "model_module_version": "1.5.0",
      "model_name": "HTMLModel",
      "state": {
       "_dom_classes": [],
       "_model_module": "@jupyter-widgets/controls",
       "_model_module_version": "1.5.0",
       "_model_name": "HTMLModel",
       "_view_count": null,
       "_view_module": "@jupyter-widgets/controls",
       "_view_module_version": "1.5.0",
       "_view_name": "HTMLView",
       "description": "",
       "description_tooltip": null,
       "layout": "IPY_MODEL_ce696a62812d49f8b834efe19d00a2d2",
       "placeholder": "​",
       "style": "IPY_MODEL_a23c44868a154f6889467230a1c3b7b9",
       "value": " 1.04M/1.04M [00:00&lt;00:00, 3.43MB/s]"
      }
     },
     "b1db94f83a9f4ef082eedaefcc15ac23": {
      "model_module": "@jupyter-widgets/base",
      "model_module_version": "1.2.0",
      "model_name": "LayoutModel",
      "state": {
       "_model_module": "@jupyter-widgets/base",
       "_model_module_version": "1.2.0",
       "_model_name": "LayoutModel",
       "_view_count": null,
       "_view_module": "@jupyter-widgets/base",
       "_view_module_version": "1.2.0",
       "_view_name": "LayoutView",
       "align_content": null,
       "align_items": null,
       "align_self": null,
       "border": null,
       "bottom": null,
       "display": null,
       "flex": null,
       "flex_flow": null,
       "grid_area": null,
       "grid_auto_columns": null,
       "grid_auto_flow": null,
       "grid_auto_rows": null,
       "grid_column": null,
       "grid_gap": null,
       "grid_row": null,
       "grid_template_areas": null,
       "grid_template_columns": null,
       "grid_template_rows": null,
       "height": null,
       "justify_content": null,
       "justify_items": null,
       "left": null,
       "margin": null,
       "max_height": null,
       "max_width": null,
       "min_height": null,
       "min_width": null,
       "object_fit": null,
       "object_position": null,
       "order": null,
       "overflow": null,
       "overflow_x": null,
       "overflow_y": null,
       "padding": null,
       "right": null,
       "top": null,
       "visibility": null,
       "width": null
      }
     },
     "b203d39927e04457b13fe74914aadba0": {
      "model_module": "@jupyter-widgets/controls",
      "model_module_version": "1.5.0",
      "model_name": "DescriptionStyleModel",
      "state": {
       "_model_module": "@jupyter-widgets/controls",
       "_model_module_version": "1.5.0",
       "_model_name": "DescriptionStyleModel",
       "_view_count": null,
       "_view_module": "@jupyter-widgets/base",
       "_view_module_version": "1.2.0",
       "_view_name": "StyleView",
       "description_width": ""
      }
     },
     "b2823e5c971d493c8f07600d847536d6": {
      "model_module": "@jupyter-widgets/controls",
      "model_module_version": "1.5.0",
      "model_name": "HTMLModel",
      "state": {
       "_dom_classes": [],
       "_model_module": "@jupyter-widgets/controls",
       "_model_module_version": "1.5.0",
       "_model_name": "HTMLModel",
       "_view_count": null,
       "_view_module": "@jupyter-widgets/controls",
       "_view_module_version": "1.5.0",
       "_view_name": "HTMLView",
       "description": "",
       "description_tooltip": null,
       "layout": "IPY_MODEL_202a7129a6f1433493cbb679f9e894ae",
       "placeholder": "​",
       "style": "IPY_MODEL_c3b171e620cf484a90a7c375a9df1e73",
       "value": "Downloading: 100%"
      }
     },
     "b4665554b2f1493983f12fc4351b8f26": {
      "model_module": "@jupyter-widgets/base",
      "model_module_version": "1.2.0",
      "model_name": "LayoutModel",
      "state": {
       "_model_module": "@jupyter-widgets/base",
       "_model_module_version": "1.2.0",
       "_model_name": "LayoutModel",
       "_view_count": null,
       "_view_module": "@jupyter-widgets/base",
       "_view_module_version": "1.2.0",
       "_view_name": "LayoutView",
       "align_content": null,
       "align_items": null,
       "align_self": null,
       "border": null,
       "bottom": null,
       "display": null,
       "flex": null,
       "flex_flow": null,
       "grid_area": null,
       "grid_auto_columns": null,
       "grid_auto_flow": null,
       "grid_auto_rows": null,
       "grid_column": null,
       "grid_gap": null,
       "grid_row": null,
       "grid_template_areas": null,
       "grid_template_columns": null,
       "grid_template_rows": null,
       "height": null,
       "justify_content": null,
       "justify_items": null,
       "left": null,
       "margin": null,
       "max_height": null,
       "max_width": null,
       "min_height": null,
       "min_width": null,
       "object_fit": null,
       "object_position": null,
       "order": null,
       "overflow": null,
       "overflow_x": null,
       "overflow_y": null,
       "padding": null,
       "right": null,
       "top": null,
       "visibility": null,
       "width": null
      }
     },
     "c3b171e620cf484a90a7c375a9df1e73": {
      "model_module": "@jupyter-widgets/controls",
      "model_module_version": "1.5.0",
      "model_name": "DescriptionStyleModel",
      "state": {
       "_model_module": "@jupyter-widgets/controls",
       "_model_module_version": "1.5.0",
       "_model_name": "DescriptionStyleModel",
       "_view_count": null,
       "_view_module": "@jupyter-widgets/base",
       "_view_module_version": "1.2.0",
       "_view_name": "StyleView",
       "description_width": ""
      }
     },
     "c75cef93a5604131b20c30d410e23b71": {
      "model_module": "@jupyter-widgets/controls",
      "model_module_version": "1.5.0",
      "model_name": "FloatProgressModel",
      "state": {
       "_dom_classes": [],
       "_model_module": "@jupyter-widgets/controls",
       "_model_module_version": "1.5.0",
       "_model_name": "FloatProgressModel",
       "_view_count": null,
       "_view_module": "@jupyter-widgets/controls",
       "_view_module_version": "1.5.0",
       "_view_name": "ProgressView",
       "bar_style": "success",
       "description": "",
       "description_tooltip": null,
       "layout": "IPY_MODEL_b1db94f83a9f4ef082eedaefcc15ac23",
       "max": 665.0,
       "min": 0.0,
       "orientation": "horizontal",
       "style": "IPY_MODEL_224960c4f682404baccaaf9dfc02b546",
       "value": 665.0
      }
     },
     "caafad0194164246ac1c37881bcb7fbc": {
      "model_module": "@jupyter-widgets/controls",
      "model_module_version": "1.5.0",
      "model_name": "HTMLModel",
      "state": {
       "_dom_classes": [],
       "_model_module": "@jupyter-widgets/controls",
       "_model_module_version": "1.5.0",
       "_model_name": "HTMLModel",
       "_view_count": null,
       "_view_module": "@jupyter-widgets/controls",
       "_view_module_version": "1.5.0",
       "_view_name": "HTMLView",
       "description": "",
       "description_tooltip": null,
       "layout": "IPY_MODEL_2e03ee34dcbf43949a80d4c9f04bd501",
       "placeholder": "​",
       "style": "IPY_MODEL_868a3119b864416bac87d8bdcfe37a86",
       "value": " 1.36M/1.36M [00:00&lt;00:00, 4.45MB/s]"
      }
     },
     "ce696a62812d49f8b834efe19d00a2d2": {
      "model_module": "@jupyter-widgets/base",
      "model_module_version": "1.2.0",
      "model_name": "LayoutModel",
      "state": {
       "_model_module": "@jupyter-widgets/base",
       "_model_module_version": "1.2.0",
       "_model_name": "LayoutModel",
       "_view_count": null,
       "_view_module": "@jupyter-widgets/base",
       "_view_module_version": "1.2.0",
       "_view_name": "LayoutView",
       "align_content": null,
       "align_items": null,
       "align_self": null,
       "border": null,
       "bottom": null,
       "display": null,
       "flex": null,
       "flex_flow": null,
       "grid_area": null,
       "grid_auto_columns": null,
       "grid_auto_flow": null,
       "grid_auto_rows": null,
       "grid_column": null,
       "grid_gap": null,
       "grid_row": null,
       "grid_template_areas": null,
       "grid_template_columns": null,
       "grid_template_rows": null,
       "height": null,
       "justify_content": null,
       "justify_items": null,
       "left": null,
       "margin": null,
       "max_height": null,
       "max_width": null,
       "min_height": null,
       "min_width": null,
       "object_fit": null,
       "object_position": null,
       "order": null,
       "overflow": null,
       "overflow_x": null,
       "overflow_y": null,
       "padding": null,
       "right": null,
       "top": null,
       "visibility": null,
       "width": null
      }
     },
     "de29b7bd07024167a79050d5ca768a6e": {
      "model_module": "@jupyter-widgets/base",
      "model_module_version": "1.2.0",
      "model_name": "LayoutModel",
      "state": {
       "_model_module": "@jupyter-widgets/base",
       "_model_module_version": "1.2.0",
       "_model_name": "LayoutModel",
       "_view_count": null,
       "_view_module": "@jupyter-widgets/base",
       "_view_module_version": "1.2.0",
       "_view_name": "LayoutView",
       "align_content": null,
       "align_items": null,
       "align_self": null,
       "border": null,
       "bottom": null,
       "display": null,
       "flex": null,
       "flex_flow": null,
       "grid_area": null,
       "grid_auto_columns": null,
       "grid_auto_flow": null,
       "grid_auto_rows": null,
       "grid_column": null,
       "grid_gap": null,
       "grid_row": null,
       "grid_template_areas": null,
       "grid_template_columns": null,
       "grid_template_rows": null,
       "height": null,
       "justify_content": null,
       "justify_items": null,
       "left": null,
       "margin": null,
       "max_height": null,
       "max_width": null,
       "min_height": null,
       "min_width": null,
       "object_fit": null,
       "object_position": null,
       "order": null,
       "overflow": null,
       "overflow_x": null,
       "overflow_y": null,
       "padding": null,
       "right": null,
       "top": null,
       "visibility": null,
       "width": null
      }
     },
     "de436770883e45d59b441db3ea4cb8e9": {
      "model_module": "@jupyter-widgets/base",
      "model_module_version": "1.2.0",
      "model_name": "LayoutModel",
      "state": {
       "_model_module": "@jupyter-widgets/base",
       "_model_module_version": "1.2.0",
       "_model_name": "LayoutModel",
       "_view_count": null,
       "_view_module": "@jupyter-widgets/base",
       "_view_module_version": "1.2.0",
       "_view_name": "LayoutView",
       "align_content": null,
       "align_items": null,
       "align_self": null,
       "border": null,
       "bottom": null,
       "display": null,
       "flex": null,
       "flex_flow": null,
       "grid_area": null,
       "grid_auto_columns": null,
       "grid_auto_flow": null,
       "grid_auto_rows": null,
       "grid_column": null,
       "grid_gap": null,
       "grid_row": null,
       "grid_template_areas": null,
       "grid_template_columns": null,
       "grid_template_rows": null,
       "height": null,
       "justify_content": null,
       "justify_items": null,
       "left": null,
       "margin": null,
       "max_height": null,
       "max_width": null,
       "min_height": null,
       "min_width": null,
       "object_fit": null,
       "object_position": null,
       "order": null,
       "overflow": null,
       "overflow_x": null,
       "overflow_y": null,
       "padding": null,
       "right": null,
       "top": null,
       "visibility": null,
       "width": null
      }
     },
     "e221953374834d959725ffdb7983667f": {
      "model_module": "@jupyter-widgets/controls",
      "model_module_version": "1.5.0",
      "model_name": "HBoxModel",
      "state": {
       "_dom_classes": [],
       "_model_module": "@jupyter-widgets/controls",
       "_model_module_version": "1.5.0",
       "_model_name": "HBoxModel",
       "_view_count": null,
       "_view_module": "@jupyter-widgets/controls",
       "_view_module_version": "1.5.0",
       "_view_name": "HBoxView",
       "box_style": "",
       "children": [
        "IPY_MODEL_333e9cead5004a8491f0851cc4ec9bb4",
        "IPY_MODEL_65655f4678f14ba7a4533539593d09f0",
        "IPY_MODEL_ad9dd8b7b5c34032bea9d4017dccb364"
       ],
       "layout": "IPY_MODEL_de29b7bd07024167a79050d5ca768a6e"
      }
     },
     "ef4a74c77a45408e9e3eb4c2aedcfabb": {
      "model_module": "@jupyter-widgets/controls",
      "model_module_version": "1.5.0",
      "model_name": "ProgressStyleModel",
      "state": {
       "_model_module": "@jupyter-widgets/controls",
       "_model_module_version": "1.5.0",
       "_model_name": "ProgressStyleModel",
       "_view_count": null,
       "_view_module": "@jupyter-widgets/base",
       "_view_module_version": "1.2.0",
       "_view_name": "StyleView",
       "bar_color": null,
       "description_width": ""
      }
     },
     "f26a1eb41c794d9d96848569ebcb87c0": {
      "model_module": "@jupyter-widgets/controls",
      "model_module_version": "1.5.0",
      "model_name": "DescriptionStyleModel",
      "state": {
       "_model_module": "@jupyter-widgets/controls",
       "_model_module_version": "1.5.0",
       "_model_name": "DescriptionStyleModel",
       "_view_count": null,
       "_view_module": "@jupyter-widgets/base",
       "_view_module_version": "1.2.0",
       "_view_name": "StyleView",
       "description_width": ""
      }
     },
     "f2c0e9a136e149de92abb7b3170e50ce": {
      "model_module": "@jupyter-widgets/controls",
      "model_module_version": "1.5.0",
      "model_name": "HTMLModel",
      "state": {
       "_dom_classes": [],
       "_model_module": "@jupyter-widgets/controls",
       "_model_module_version": "1.5.0",
       "_model_name": "HTMLModel",
       "_view_count": null,
       "_view_module": "@jupyter-widgets/controls",
       "_view_module_version": "1.5.0",
       "_view_name": "HTMLView",
       "description": "",
       "description_tooltip": null,
       "layout": "IPY_MODEL_72dcdc1c4a7d4537b9506b7f8f60d10a",
       "placeholder": "​",
       "style": "IPY_MODEL_96de347345ba46d283c34bf2d04331d3",
       "value": " 665/665 [00:00&lt;00:00, 23.7kB/s]"
      }
     },
     "f67c409f04f646c99cc4b72897be6a32": {
      "model_module": "@jupyter-widgets/controls",
      "model_module_version": "1.5.0",
      "model_name": "FloatProgressModel",
      "state": {
       "_dom_classes": [],
       "_model_module": "@jupyter-widgets/controls",
       "_model_module_version": "1.5.0",
       "_model_name": "FloatProgressModel",
       "_view_count": null,
       "_view_module": "@jupyter-widgets/controls",
       "_view_module_version": "1.5.0",
       "_view_name": "ProgressView",
       "bar_style": "success",
       "description": "",
       "description_tooltip": null,
       "layout": "IPY_MODEL_1ef6a30b9362417db8d228600143489e",
       "max": 548118077.0,
       "min": 0.0,
       "orientation": "horizontal",
       "style": "IPY_MODEL_ef4a74c77a45408e9e3eb4c2aedcfabb",
       "value": 548118077.0
      }
     },
     "fe23a1568b734565b4d84ff42fabea00": {
      "model_module": "@jupyter-widgets/base",
      "model_module_version": "1.2.0",
      "model_name": "LayoutModel",
      "state": {
       "_model_module": "@jupyter-widgets/base",
       "_model_module_version": "1.2.0",
       "_model_name": "LayoutModel",
       "_view_count": null,
       "_view_module": "@jupyter-widgets/base",
       "_view_module_version": "1.2.0",
       "_view_name": "LayoutView",
       "align_content": null,
       "align_items": null,
       "align_self": null,
       "border": null,
       "bottom": null,
       "display": null,
       "flex": null,
       "flex_flow": null,
       "grid_area": null,
       "grid_auto_columns": null,
       "grid_auto_flow": null,
       "grid_auto_rows": null,
       "grid_column": null,
       "grid_gap": null,
       "grid_row": null,
       "grid_template_areas": null,
       "grid_template_columns": null,
       "grid_template_rows": null,
       "height": null,
       "justify_content": null,
       "justify_items": null,
       "left": null,
       "margin": null,
       "max_height": null,
       "max_width": null,
       "min_height": null,
       "min_width": null,
       "object_fit": null,
       "object_position": null,
       "order": null,
       "overflow": null,
       "overflow_x": null,
       "overflow_y": null,
       "padding": null,
       "right": null,
       "top": null,
       "visibility": null,
       "width": null
      }
     }
    },
    "version_major": 2,
    "version_minor": 0
   }
  }
 },
 "nbformat": 4,
 "nbformat_minor": 5
}
