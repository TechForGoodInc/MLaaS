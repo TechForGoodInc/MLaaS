{
  "nbformat": 4,
  "nbformat_minor": 0,
  "metadata": {
    "colab": {
      "name": "Traffic Signs Classification.ipynb",
      "provenance": [],
      "collapsed_sections": []
    },
    "kernelspec": {
      "name": "python3",
      "display_name": "Python 3"
    },
    "accelerator": "GPU"
  },
  "cells": [
    {
      "cell_type": "markdown",
      "metadata": {
        "id": "c9JdYuaik6pc"
      },
      "source": [
        "# Import the necessary dependencies "
      ]
    },
    {
      "cell_type": "markdown",
      "metadata": {
        "id": "V08WnIZG446_"
      },
      "source": [
        "### Setting TensorFlow 2.x as default version "
      ]
    },
    {
      "cell_type": "code",
      "metadata": {
        "id": "Lzzsza-ylniV"
      },
      "source": [
        "try:\n",
        "    %tensorflow_version 2.x\n",
        "except Exception:\n",
        "    pass\n",
        "\n",
        "import tensorflow as tf"
      ],
      "execution_count": 1,
      "outputs": []
    },
    {
      "cell_type": "markdown",
      "metadata": {
        "id": "V8_o8BrZ5Hna"
      },
      "source": [
        "### Importing the Visualisation and Preprocessing packages"
      ]
    },
    {
      "cell_type": "code",
      "metadata": {
        "id": "PM-bq2prNTeq"
      },
      "source": [
        "%matplotlib inline\n",
        "import matplotlib.pyplot as plt\n",
        "import matplotlib.image as mpimg\n",
        "\n",
        "import os\n",
        "import cv2\n",
        "\n",
        "import numpy as np\n",
        "import pandas as pd\n",
        "import pickle\n",
        "\n",
        "import random\n"
      ],
      "execution_count": 2,
      "outputs": []
    },
    {
      "cell_type": "markdown",
      "metadata": {
        "id": "4s24Ooy07DNB"
      },
      "source": [
        "### Importing the TensorFlow dependencies"
      ]
    },
    {
      "cell_type": "code",
      "metadata": {
        "id": "TvGg5k5oNWIT"
      },
      "source": [
        "from tensorflow.keras.models import Sequential \n",
        "from tensorflow.keras.layers import Dense,Dropout,Flatten\n",
        "from tensorflow.keras.layers import BatchNormalization,Conv2D,MaxPooling2D\n",
        "from tensorflow.keras.utils import to_categorical \n",
        "from tensorflow.keras.optimizers import Adam\n",
        "from tensorflow.keras.callbacks import ModelCheckpoint\n",
        "from tensorflow.keras.regularizers import l2\n",
        "from tensorflow.keras.preprocessing.image import ImageDataGenerator "
      ],
      "execution_count": 3,
      "outputs": []
    },
    {
      "cell_type": "markdown",
      "metadata": {
        "id": "kT2r-te9kyDE"
      },
      "source": [
        "# Data loading and Visualisation "
      ]
    },
    {
      "cell_type": "markdown",
      "metadata": {
        "id": "Rw3x3K3VlXbC"
      },
      "source": [
        "### Loading the data"
      ]
    },
    {
      "cell_type": "code",
      "metadata": {
        "colab": {
          "base_uri": "https://localhost:8080/"
        },
        "id": "uqDLqv4EJwoN",
        "outputId": "ebe1e899-6479-4f88-cafd-59503b99e3d5"
      },
      "source": [
        "from google.colab import drive\n",
        "drive.mount('/content/drive')"
      ],
      "execution_count": 4,
      "outputs": [
        {
          "output_type": "stream",
          "text": [
            "Drive already mounted at /content/drive; to attempt to forcibly remount, call drive.mount(\"/content/drive\", force_remount=True).\n"
          ],
          "name": "stdout"
        }
      ]
    },
    {
      "cell_type": "code",
      "metadata": {
        "id": "ratYoPLONYND",
        "colab": {
          "base_uri": "https://localhost:8080/"
        },
        "outputId": "a1c75727-9a55-423c-937f-2df986ff707c"
      },
      "source": [
        "#data = pd.read_csv(\"german-traffic-signs / signnames.csv\") \n",
        "  \n",
        "with open('/content/drive/My Drive/Image Classification/train.pickle', 'rb') as f: \n",
        "    train_data = pickle.load(f) \n",
        "with open('/content/drive/My Drive/Image Classification/valid.pickle', 'rb') as f: \n",
        "    val_data = pickle.load(f) \n",
        "with open('/content/drive/My Drive/Image Classification/test.pickle', 'rb') as f: \n",
        "    test_data = pickle.load(f) \n",
        "\n",
        "# Extracting the labels from the dictionaries \n",
        "x_train, y_train = train_data['features'], train_data['labels'] \n",
        "x_val, y_val = val_data['features'], val_data['labels'] \n",
        "x_test, y_test = test_data['features'], test_data['labels'] \n",
        "\n",
        "print(x_train.shape) \n",
        "print(x_val.shape) \n",
        "print(x_test.shape) "
      ],
      "execution_count": 5,
      "outputs": [
        {
          "output_type": "stream",
          "text": [
            "(34799, 32, 32, 3)\n",
            "(4410, 32, 32, 3)\n",
            "(12630, 32, 32, 3)\n"
          ],
          "name": "stdout"
        }
      ]
    },
    {
      "cell_type": "markdown",
      "metadata": {
        "id": "TfYNP0v54w4I"
      },
      "source": [
        "# Image Processing & Image Augmentation"
      ]
    },
    {
      "cell_type": "markdown",
      "metadata": {
        "id": "AjGV9p6vl47S"
      },
      "source": [
        "### Pre-processing the images using OpenCV"
      ]
    },
    {
      "cell_type": "code",
      "metadata": {
        "id": "mHM2g4w9NcqR"
      },
      "source": [
        "def preprocessing(img): \n",
        "    img = cv2.cvtColor(img, cv2.COLOR_BGR2GRAY) \n",
        "    img = cv2.equalizeHist(img) \n",
        "    img = img / 255\n",
        "    return img \n",
        "  \n",
        "x_train_final = np.array(list(map(preprocessing, x_train))) \n",
        "x_val_final = np.array(list(map(preprocessing, x_val))) \n",
        "x_test_final = np.array(list(map(preprocessing, x_test))) \n",
        "  \n",
        "x_train_final = x_train_final.reshape(34799, 32, 32, 1) \n",
        "x_val_final = x_val_final.reshape(4410, 32, 32, 1) \n",
        "x_test_final = x_test_final.reshape(12630, 32, 32, 1) \n"
      ],
      "execution_count": 7,
      "outputs": []
    },
    {
      "cell_type": "markdown",
      "metadata": {
        "id": "iPxFmAwhmAiB"
      },
      "source": [
        "### Image Augmentation using ImageDataGenerator"
      ]
    },
    {
      "cell_type": "code",
      "metadata": {
        "id": "FzFRYvCXNekZ",
        "colab": {
          "base_uri": "https://localhost:8080/",
          "height": 192
        },
        "outputId": "6f99c30b-7ecc-4825-9dcc-0c965d5ca599"
      },
      "source": [
        "\n",
        "datagen = ImageDataGenerator(width_shift_range = 0.1,  \n",
        "                  height_shift_range = 0.1,  \n",
        "                  zoom_range = 0.2,  \n",
        "                  shear_range = 0.1,  \n",
        "                  rotation_range = 10) \n",
        "\n",
        "datagen.fit(x_train_final) \n",
        "\n",
        "#os.makedirs('/content/drive/My Drive/Image Classification/images')\n",
        "\n",
        "for x_batch,y_batch in datagen.flow(x_train_final,y_train,batch_size=6,save_to_dir='/content/drive/My Drive/Image Classification/images',save_prefix='img', save_format='jpg'):\n",
        "    for i in range(0, 6):\n",
        "        plt.subplot(330 + 1 + i)\n",
        "        plt.imshow(x_batch[i].reshape(32, 32), cmap=plt.get_cmap('gray'))\n",
        "\n",
        "    plt.show()\n",
        "    break\n",
        "\n",
        "y_train = to_categorical(y_train, 43) \n",
        "y_val = to_categorical(y_val, 43) \n",
        "y_test = to_categorical(y_test, 43) \n"
      ],
      "execution_count": 8,
      "outputs": [
        {
          "output_type": "display_data",
          "data": {
            "image/png": "[encoded data removed]",
            "text/plain": [
              "<Figure size 432x288 with 6 Axes>"
            ]
          },
          "metadata": {
            "needs_background": "light"
          }
        }
      ]
    },
    {
      "cell_type": "markdown",
      "metadata": {
        "id": "2RzYgcur4qyK"
      },
      "source": [
        "# Model Building and Testing "
      ]
    },
    {
      "cell_type": "markdown",
      "metadata": {
        "id": "DYp8FoCtmRO7"
      },
      "source": [
        "### Implementing the CNN Model "
      ]
    },
    {
      "cell_type": "code",
      "metadata": {
        "id": "TAmuD6XvNn9S"
      },
      "source": [
        "def build_model(hp):\n",
        "    model = Sequential()\n",
        "\n",
        "    # Layer 1 \n",
        "    model.add(Conv2D(filters=hp.Int('CONV_1_FILTER',min_value=32, max_value=64),\n",
        "                     kernel_size=hp.Choice('KERNEL_1_FILTER', values=[3,5]),\n",
        "                     activation='relu',\n",
        "                     input_shape=(32,32,1), \n",
        "                     padding='same',\n",
        "                     kernel_regularizer = l2(0.0005)\n",
        "                     ))\n",
        "    model.add(MaxPooling2D(pool_size=(2, 2)))\n",
        "    model.add(Dropout(hp.Float('DROPOUT_1', min_value=0.0,max_value=0.5,default=0.25,step=0.05)))\n",
        "\n",
        "    \n",
        "    # Layer 2 \n",
        "    model.add(Conv2D(filters=hp.Int('CONV_2_FILTER',min_value=32, max_value=128),\n",
        "                     kernel_size=hp.Choice('KERNEL_2_FILTER', values=[3,5]),\n",
        "                     activation='relu',\n",
        "                     padding='same',\n",
        "                     kernel_regularizer = l2(0.0005)\n",
        "                     ))\n",
        "    model.add(MaxPooling2D(pool_size=(2, 2)))\n",
        "    model.add(Dropout(hp.Float('DROPOUT_2', min_value=0.0,max_value=0.5,default=0.25,step=0.05)))\n",
        "\n",
        "\n",
        "    # Layer 3\n",
        "    model.add(Conv2D(filters=hp.Int('CONV_3_FILTER',min_value=32, max_value=128),\n",
        "                     kernel_size=hp.Choice('KERNEL_3_FILTER', values=[3,5]),\n",
        "                     activation='relu',\n",
        "                     padding='same',\n",
        "                     kernel_regularizer = l2(0.0005)\n",
        "                     ))\n",
        "    model.add(MaxPooling2D(pool_size=(2, 2)))\n",
        "    model.add(Dropout(hp.Float('DROPOUT_3', min_value=0.0,max_value=0.5,default=0.25,step=0.05)))\n",
        "\n",
        "    \n",
        "    model.add(Flatten())\n",
        "\n",
        "    \n",
        "    model.add(Dense(hp.Int('DENSE_1_LAYER', \n",
        "                           min_value=32, \n",
        "                           max_value=512),\n",
        "                    \n",
        "                    activation = hp.Choice(\n",
        "                    'dense_activation',\n",
        "                    values=['relu', 'tanh', 'sigmoid'],\n",
        "                    default='relu')\n",
        "    ))\n",
        "    model.add(Dropout(hp.Float('DROPOUT_2', min_value=0.0,max_value=0.5,default=0.25,step=0.05)))\n",
        "\n",
        "    model.add(Dense(43, activation='softmax'))\n",
        "\n",
        "    # Learning Rate set between 0.0001 to 0.01\n",
        "    model.compile(Adam(hp.Float(\n",
        "                    'learning_rate',\n",
        "                    min_value=1e-4,\n",
        "                    max_value=1e-2,\n",
        "                    sampling='LOG')),\n",
        "                    loss='categorical_crossentropy', metrics=['accuracy'])\n",
        "    \n",
        "    return model\n",
        "    "
      ],
      "execution_count": 9,
      "outputs": []
    },
    {
      "cell_type": "markdown",
      "metadata": {
        "id": "_iAy7irdmXnE"
      },
      "source": [
        "### Install Keras-tuner"
      ]
    },
    {
      "cell_type": "code",
      "metadata": {
        "id": "0NOnz_nWej7m",
        "colab": {
          "base_uri": "https://localhost:8080/"
        },
        "outputId": "67fb2f4c-f9aa-4a32-a9ab-559307805255"
      },
      "source": [
        "!pip install keras-tuner"
      ],
      "execution_count": 10,
      "outputs": [
        {
          "output_type": "stream",
          "text": [
            "Requirement already satisfied: keras-tuner in /usr/local/lib/python3.7/dist-packages (1.0.3)\n",
            "Requirement already satisfied: numpy in /usr/local/lib/python3.7/dist-packages (from keras-tuner) (1.19.5)\n",
            "Requirement already satisfied: requests in /usr/local/lib/python3.7/dist-packages (from keras-tuner) (2.23.0)\n",
            "Requirement already satisfied: tensorboard in /usr/local/lib/python3.7/dist-packages (from keras-tuner) (2.6.0)\n",
            "Requirement already satisfied: kt-legacy in /usr/local/lib/python3.7/dist-packages (from keras-tuner) (1.0.4)\n",
            "Requirement already satisfied: packaging in /usr/local/lib/python3.7/dist-packages (from keras-tuner) (21.0)\n",
            "Requirement already satisfied: scipy in /usr/local/lib/python3.7/dist-packages (from keras-tuner) (1.4.1)\n",
            "Requirement already satisfied: ipython in /usr/local/lib/python3.7/dist-packages (from keras-tuner) (5.5.0)\n",
            "Requirement already satisfied: pexpect in /usr/local/lib/python3.7/dist-packages (from ipython->keras-tuner) (4.8.0)\n",
            "Requirement already satisfied: traitlets>=4.2 in /usr/local/lib/python3.7/dist-packages (from ipython->keras-tuner) (5.0.5)\n",
            "Requirement already satisfied: prompt-toolkit<2.0.0,>=1.0.4 in /usr/local/lib/python3.7/dist-packages (from ipython->keras-tuner) (1.0.18)\n",
            "Requirement already satisfied: pickleshare in /usr/local/lib/python3.7/dist-packages (from ipython->keras-tuner) (0.7.5)\n",
            "Requirement already satisfied: decorator in /usr/local/lib/python3.7/dist-packages (from ipython->keras-tuner) (4.4.2)\n",
            "Requirement already satisfied: simplegeneric>0.8 in /usr/local/lib/python3.7/dist-packages (from ipython->keras-tuner) (0.8.1)\n",
            "Requirement already satisfied: setuptools>=18.5 in /usr/local/lib/python3.7/dist-packages (from ipython->keras-tuner) (57.4.0)\n",
            "Requirement already satisfied: pygments in /usr/local/lib/python3.7/dist-packages (from ipython->keras-tuner) (2.6.1)\n",
            "Requirement already satisfied: six>=1.9.0 in /usr/local/lib/python3.7/dist-packages (from prompt-toolkit<2.0.0,>=1.0.4->ipython->keras-tuner) (1.15.0)\n",
            "Requirement already satisfied: wcwidth in /usr/local/lib/python3.7/dist-packages (from prompt-toolkit<2.0.0,>=1.0.4->ipython->keras-tuner) (0.2.5)\n",
            "Requirement already satisfied: ipython-genutils in /usr/local/lib/python3.7/dist-packages (from traitlets>=4.2->ipython->keras-tuner) (0.2.0)\n",
            "Requirement already satisfied: pyparsing>=2.0.2 in /usr/local/lib/python3.7/dist-packages (from packaging->keras-tuner) (2.4.7)\n",
            "Requirement already satisfied: ptyprocess>=0.5 in /usr/local/lib/python3.7/dist-packages (from pexpect->ipython->keras-tuner) (0.7.0)\n",
            "Requirement already satisfied: urllib3!=1.25.0,!=1.25.1,<1.26,>=1.21.1 in /usr/local/lib/python3.7/dist-packages (from requests->keras-tuner) (1.24.3)\n",
            "Requirement already satisfied: idna<3,>=2.5 in /usr/local/lib/python3.7/dist-packages (from requests->keras-tuner) (2.10)\n",
            "Requirement already satisfied: certifi>=2017.4.17 in /usr/local/lib/python3.7/dist-packages (from requests->keras-tuner) (2021.5.30)\n",
            "Requirement already satisfied: chardet<4,>=3.0.2 in /usr/local/lib/python3.7/dist-packages (from requests->keras-tuner) (3.0.4)\n",
            "Requirement already satisfied: grpcio>=1.24.3 in /usr/local/lib/python3.7/dist-packages (from tensorboard->keras-tuner) (1.39.0)\n",
            "Requirement already satisfied: tensorboard-data-server<0.7.0,>=0.6.0 in /usr/local/lib/python3.7/dist-packages (from tensorboard->keras-tuner) (0.6.1)\n",
            "Requirement already satisfied: tensorboard-plugin-wit>=1.6.0 in /usr/local/lib/python3.7/dist-packages (from tensorboard->keras-tuner) (1.8.0)\n",
            "Requirement already satisfied: markdown>=2.6.8 in /usr/local/lib/python3.7/dist-packages (from tensorboard->keras-tuner) (3.3.4)\n",
            "Requirement already satisfied: absl-py>=0.4 in /usr/local/lib/python3.7/dist-packages (from tensorboard->keras-tuner) (0.12.0)\n",
            "Requirement already satisfied: google-auth-oauthlib<0.5,>=0.4.1 in /usr/local/lib/python3.7/dist-packages (from tensorboard->keras-tuner) (0.4.5)\n",
            "Requirement already satisfied: google-auth<2,>=1.6.3 in /usr/local/lib/python3.7/dist-packages (from tensorboard->keras-tuner) (1.34.0)\n",
            "Requirement already satisfied: protobuf>=3.6.0 in /usr/local/lib/python3.7/dist-packages (from tensorboard->keras-tuner) (3.17.3)\n",
            "Requirement already satisfied: werkzeug>=0.11.15 in /usr/local/lib/python3.7/dist-packages (from tensorboard->keras-tuner) (1.0.1)\n",
            "Requirement already satisfied: wheel>=0.26 in /usr/local/lib/python3.7/dist-packages (from tensorboard->keras-tuner) (0.37.0)\n",
            "Requirement already satisfied: cachetools<5.0,>=2.0.0 in /usr/local/lib/python3.7/dist-packages (from google-auth<2,>=1.6.3->tensorboard->keras-tuner) (4.2.2)\n",
            "Requirement already satisfied: pyasn1-modules>=0.2.1 in /usr/local/lib/python3.7/dist-packages (from google-auth<2,>=1.6.3->tensorboard->keras-tuner) (0.2.8)\n",
            "Requirement already satisfied: rsa<5,>=3.1.4 in /usr/local/lib/python3.7/dist-packages (from google-auth<2,>=1.6.3->tensorboard->keras-tuner) (4.7.2)\n",
            "Requirement already satisfied: requests-oauthlib>=0.7.0 in /usr/local/lib/python3.7/dist-packages (from google-auth-oauthlib<0.5,>=0.4.1->tensorboard->keras-tuner) (1.3.0)\n",
            "Requirement already satisfied: importlib-metadata in /usr/local/lib/python3.7/dist-packages (from markdown>=2.6.8->tensorboard->keras-tuner) (4.6.4)\n",
            "Requirement already satisfied: pyasn1<0.5.0,>=0.4.6 in /usr/local/lib/python3.7/dist-packages (from pyasn1-modules>=0.2.1->google-auth<2,>=1.6.3->tensorboard->keras-tuner) (0.4.8)\n",
            "Requirement already satisfied: oauthlib>=3.0.0 in /usr/local/lib/python3.7/dist-packages (from requests-oauthlib>=0.7.0->google-auth-oauthlib<0.5,>=0.4.1->tensorboard->keras-tuner) (3.1.1)\n",
            "Requirement already satisfied: zipp>=0.5 in /usr/local/lib/python3.7/dist-packages (from importlib-metadata->markdown>=2.6.8->tensorboard->keras-tuner) (3.5.0)\n",
            "Requirement already satisfied: typing-extensions>=3.6.4 in /usr/local/lib/python3.7/dist-packages (from importlib-metadata->markdown>=2.6.8->tensorboard->keras-tuner) (3.7.4.3)\n"
          ],
          "name": "stdout"
        }
      ]
    },
    {
      "cell_type": "markdown",
      "metadata": {
        "id": "Yt4Sbm9QmbzE"
      },
      "source": [
        "### Use RandomSearch using kerastuner to find the best hyperparameters"
      ]
    },
    {
      "cell_type": "code",
      "metadata": {
        "id": "sf0qjmbaec12",
        "colab": {
          "base_uri": "https://localhost:8080/"
        },
        "outputId": "d6fa5a97-dba1-4859-b2d9-ba5d475a3103"
      },
      "source": [
        "from kerastuner import RandomSearch"
      ],
      "execution_count": 11,
      "outputs": [
        {
          "output_type": "stream",
          "text": [
            "/usr/local/lib/python3.7/dist-packages/ipykernel_launcher.py:1: DeprecationWarning: `import kerastuner` is deprecated, please use `import keras_tuner`.\n",
            "  \"\"\"Entry point for launching an IPython kernel.\n"
          ],
          "name": "stderr"
        }
      ]
    },
    {
      "cell_type": "code",
      "metadata": {
        "id": "gsRJmmZheopH",
        "colab": {
          "base_uri": "https://localhost:8080/"
        },
        "outputId": "dff81b15-8103-49ac-8bd6-955585828a60"
      },
      "source": [
        "tuner = RandomSearch(build_model, objective='val_accuracy',\n",
        "                     max_trials = 10, \n",
        "                     directory='/content/drive/My Drive/Image Classification',\n",
        "                     project_name=\"Image Classification\")"
      ],
      "execution_count": 12,
      "outputs": [
        {
          "output_type": "stream",
          "text": [
            "INFO:tensorflow:Reloading Oracle from existing project /content/drive/My Drive/Image Classification/Image Classification/oracle.json\n"
          ],
          "name": "stdout"
        }
      ]
    },
    {
      "cell_type": "code",
      "metadata": {
        "id": "vyB3qo7Nh15E",
        "colab": {
          "base_uri": "https://localhost:8080/"
        },
        "outputId": "195cb2b8-fbef-42a7-e9ba-d15ba2288378"
      },
      "source": [
        "tuner.search_space_summary()"
      ],
      "execution_count": 13,
      "outputs": [
        {
          "output_type": "stream",
          "text": [
            "Search space summary\n",
            "Default search space size: 12\n",
            "CONV_1_FILTER (Int)\n",
            "{'default': None, 'conditions': [], 'min_value': 32, 'max_value': 64, 'step': 1, 'sampling': None}\n",
            "KERNEL_1_FILTER (Choice)\n",
            "{'default': 3, 'conditions': [], 'values': [3, 5], 'ordered': True}\n",
            "DROPOUT_1 (Float)\n",
            "{'default': 0.25, 'conditions': [], 'min_value': 0.0, 'max_value': 0.5, 'step': 0.05, 'sampling': None}\n",
            "CONV_2_FILTER (Int)\n",
            "{'default': None, 'conditions': [], 'min_value': 32, 'max_value': 128, 'step': 1, 'sampling': None}\n",
            "KERNEL_2_FILTER (Choice)\n",
            "{'default': 3, 'conditions': [], 'values': [3, 5], 'ordered': True}\n",
            "DROPOUT_2 (Float)\n",
            "{'default': 0.25, 'conditions': [], 'min_value': 0.0, 'max_value': 0.5, 'step': 0.05, 'sampling': None}\n",
            "CONV_3_FILTER (Int)\n",
            "{'default': None, 'conditions': [], 'min_value': 32, 'max_value': 128, 'step': 1, 'sampling': None}\n",
            "KERNEL_3_FILTER (Choice)\n",
            "{'default': 3, 'conditions': [], 'values': [3, 5], 'ordered': True}\n",
            "DROPOUT_3 (Float)\n",
            "{'default': 0.25, 'conditions': [], 'min_value': 0.0, 'max_value': 0.5, 'step': 0.05, 'sampling': None}\n",
            "DENSE_1_LAYER (Int)\n",
            "{'default': None, 'conditions': [], 'min_value': 32, 'max_value': 512, 'step': 1, 'sampling': None}\n",
            "dense_activation (Choice)\n",
            "{'default': 'relu', 'conditions': [], 'values': ['relu', 'tanh', 'sigmoid'], 'ordered': False}\n",
            "learning_rate (Float)\n",
            "{'default': 0.0001, 'conditions': [], 'min_value': 0.0001, 'max_value': 0.01, 'step': None, 'sampling': 'log'}\n"
          ],
          "name": "stdout"
        }
      ]
    },
    {
      "cell_type": "code",
      "metadata": {
        "id": "3Jo_89zTfyWK",
        "colab": {
          "base_uri": "https://localhost:8080/"
        },
        "outputId": "11e18110-259d-4db5-92dc-2f184956fcc9"
      },
      "source": [
        "tuner.search(x_train_final,y_train,epochs=50, validation_data=(x_val_final,y_val))"
      ],
      "execution_count": 14,
      "outputs": [
        {
          "output_type": "stream",
          "text": [
            "Trial 10 Complete [00h 11m 23s]\n",
            "val_accuracy: 0.054421767592430115\n",
            "\n",
            "Best val_accuracy So Far: 0.982086181640625\n",
            "Total elapsed time: 01h 38m 42s\n",
            "INFO:tensorflow:Oracle triggered exit\n"
          ],
          "name": "stdout"
        }
      ]
    },
    {
      "cell_type": "markdown",
      "metadata": {
        "id": "YXaYxv7ImoB0"
      },
      "source": [
        "### Get the best model"
      ]
    },
    {
      "cell_type": "code",
      "metadata": {
        "id": "TTZsL2SoiPm4"
      },
      "source": [
        "final_model = tuner.get_best_models(num_models=1)[0]"
      ],
      "execution_count": 15,
      "outputs": []
    },
    {
      "cell_type": "code",
      "metadata": {
        "id": "x--itczLkUzm",
        "colab": {
          "base_uri": "https://localhost:8080/"
        },
        "outputId": "6812f362-b318-46fd-bad3-14bdef1db002"
      },
      "source": [
        "final_model.summary()"
      ],
      "execution_count": 16,
      "outputs": [
        {
          "output_type": "stream",
          "text": [
            "Model: \"sequential\"\n",
            "_________________________________________________________________\n",
            "Layer (type)                 Output Shape              Param #   \n",
            "=================================================================\n",
            "conv2d (Conv2D)              (None, 32, 32, 50)        500       \n",
            "_________________________________________________________________\n",
            "max_pooling2d (MaxPooling2D) (None, 16, 16, 50)        0         \n",
            "_________________________________________________________________\n",
            "dropout (Dropout)            (None, 16, 16, 50)        0         \n",
            "_________________________________________________________________\n",
            "conv2d_1 (Conv2D)            (None, 16, 16, 108)       48708     \n",
            "_________________________________________________________________\n",
            "max_pooling2d_1 (MaxPooling2 (None, 8, 8, 108)         0         \n",
            "_________________________________________________________________\n",
            "dropout_1 (Dropout)          (None, 8, 8, 108)         0         \n",
            "_________________________________________________________________\n",
            "conv2d_2 (Conv2D)            (None, 8, 8, 41)          39893     \n",
            "_________________________________________________________________\n",
            "max_pooling2d_2 (MaxPooling2 (None, 4, 4, 41)          0         \n",
            "_________________________________________________________________\n",
            "dropout_2 (Dropout)          (None, 4, 4, 41)          0         \n",
            "_________________________________________________________________\n",
            "flatten (Flatten)            (None, 656)               0         \n",
            "_________________________________________________________________\n",
            "dense (Dense)                (None, 232)               152424    \n",
            "_________________________________________________________________\n",
            "dropout_3 (Dropout)          (None, 232)               0         \n",
            "_________________________________________________________________\n",
            "dense_1 (Dense)              (None, 43)                10019     \n",
            "=================================================================\n",
            "Total params: 251,544\n",
            "Trainable params: 251,544\n",
            "Non-trainable params: 0\n",
            "_________________________________________________________________\n"
          ],
          "name": "stdout"
        }
      ]
    },
    {
      "cell_type": "markdown",
      "metadata": {
        "id": "E4GNcwTamsYS"
      },
      "source": [
        "### Creating a Model Checkpoint"
      ]
    },
    {
      "cell_type": "code",
      "metadata": {
        "id": "lLQ5vs52k44x"
      },
      "source": [
        "filepath=\"/content/drive/My Drive/Image Classification/Model_CNN.hdf5\"\n",
        "checkpoint_conv = ModelCheckpoint(filepath, monitor='val_accuracy', verbose=1, save_best_only=True, mode='max')\n",
        "callbacks_list_conv = [checkpoint_conv]"
      ],
      "execution_count": 17,
      "outputs": []
    },
    {
      "cell_type": "markdown",
      "metadata": {
        "id": "lQeDIaB3m_Ld"
      },
      "source": [
        "### Fit the model"
      ]
    },
    {
      "cell_type": "code",
      "metadata": {
        "id": "PI3l1opFHPCG"
      },
      "source": [
        "BATCH_SIZE = 100\n",
        "EPOCHS = 40"
      ],
      "execution_count": 18,
      "outputs": []
    },
    {
      "cell_type": "code",
      "metadata": {
        "id": "FVrscWrJkZfp",
        "colab": {
          "base_uri": "https://localhost:8080/"
        },
        "outputId": "fc721c95-22e9-4549-95fb-0ac3c25feb04"
      },
      "source": [
        "history = final_model.fit(\n",
        "                            datagen.flow(x_train_final, y_train, batch_size=BATCH_SIZE), \n",
        "                            steps_per_epoch = int(np.ceil(len(x_train_final)/float(BATCH_SIZE))), \n",
        "                            epochs = EPOCHS, \n",
        "                            validation_data =(x_val_final, y_val),\n",
        "                            shuffle = True,\n",
        "                            callbacks=callbacks_list_conv\n",
        "                          )\n"
      ],
      "execution_count": 19,
      "outputs": [
        {
          "output_type": "stream",
          "text": [
            "Epoch 1/40\n",
            "348/348 [==============================] - 19s 52ms/step - loss: 0.7775 - accuracy: 0.8038 - val_loss: 0.1638 - val_accuracy: 0.9798\n",
            "\n",
            "Epoch 00001: val_accuracy improved from -inf to 0.97982, saving model to /content/drive/My Drive/Image Classification/Model_CNN.hdf5\n",
            "Epoch 2/40\n",
            "348/348 [==============================] - 18s 51ms/step - loss: 0.5612 - accuracy: 0.8572 - val_loss: 0.1546 - val_accuracy: 0.9850\n",
            "\n",
            "Epoch 00002: val_accuracy improved from 0.97982 to 0.98503, saving model to /content/drive/My Drive/Image Classification/Model_CNN.hdf5\n",
            "Epoch 3/40\n",
            "348/348 [==============================] - 18s 52ms/step - loss: 0.4879 - accuracy: 0.8811 - val_loss: 0.1516 - val_accuracy: 0.9878\n",
            "\n",
            "Epoch 00003: val_accuracy improved from 0.98503 to 0.98776, saving model to /content/drive/My Drive/Image Classification/Model_CNN.hdf5\n",
            "Epoch 4/40\n",
            "348/348 [==============================] - 18s 52ms/step - loss: 0.4497 - accuracy: 0.8914 - val_loss: 0.1545 - val_accuracy: 0.9864\n",
            "\n",
            "Epoch 00004: val_accuracy did not improve from 0.98776\n",
            "Epoch 5/40\n",
            "348/348 [==============================] - 17s 50ms/step - loss: 0.4135 - accuracy: 0.9011 - val_loss: 0.1573 - val_accuracy: 0.9859\n",
            "\n",
            "Epoch 00005: val_accuracy did not improve from 0.98776\n",
            "Epoch 6/40\n",
            "348/348 [==============================] - 18s 51ms/step - loss: 0.3941 - accuracy: 0.9063 - val_loss: 0.1522 - val_accuracy: 0.9864\n",
            "\n",
            "Epoch 00006: val_accuracy did not improve from 0.98776\n",
            "Epoch 7/40\n",
            "348/348 [==============================] - 18s 51ms/step - loss: 0.3780 - accuracy: 0.9112 - val_loss: 0.1659 - val_accuracy: 0.9805\n",
            "\n",
            "Epoch 00007: val_accuracy did not improve from 0.98776\n",
            "Epoch 8/40\n",
            "348/348 [==============================] - 17s 50ms/step - loss: 0.3660 - accuracy: 0.9168 - val_loss: 0.1475 - val_accuracy: 0.9873\n",
            "\n",
            "Epoch 00008: val_accuracy did not improve from 0.98776\n",
            "Epoch 9/40\n",
            "348/348 [==============================] - 17s 49ms/step - loss: 0.3521 - accuracy: 0.9204 - val_loss: 0.1461 - val_accuracy: 0.9878\n",
            "\n",
            "Epoch 00009: val_accuracy did not improve from 0.98776\n",
            "Epoch 10/40\n",
            "348/348 [==============================] - 17s 50ms/step - loss: 0.3442 - accuracy: 0.9243 - val_loss: 0.1514 - val_accuracy: 0.9864\n",
            "\n",
            "Epoch 00010: val_accuracy did not improve from 0.98776\n",
            "Epoch 11/40\n",
            "348/348 [==============================] - 17s 49ms/step - loss: 0.3415 - accuracy: 0.9244 - val_loss: 0.1462 - val_accuracy: 0.9884\n",
            "\n",
            "Epoch 00011: val_accuracy improved from 0.98776 to 0.98844, saving model to /content/drive/My Drive/Image Classification/Model_CNN.hdf5\n",
            "Epoch 12/40\n",
            "348/348 [==============================] - 17s 50ms/step - loss: 0.3379 - accuracy: 0.9253 - val_loss: 0.1491 - val_accuracy: 0.9887\n",
            "\n",
            "Epoch 00012: val_accuracy improved from 0.98844 to 0.98866, saving model to /content/drive/My Drive/Image Classification/Model_CNN.hdf5\n",
            "Epoch 13/40\n",
            "348/348 [==============================] - 17s 49ms/step - loss: 0.3289 - accuracy: 0.9300 - val_loss: 0.1488 - val_accuracy: 0.9884\n",
            "\n",
            "Epoch 00013: val_accuracy did not improve from 0.98866\n",
            "Epoch 14/40\n",
            "348/348 [==============================] - 17s 50ms/step - loss: 0.3314 - accuracy: 0.9268 - val_loss: 0.1438 - val_accuracy: 0.9893\n",
            "\n",
            "Epoch 00014: val_accuracy improved from 0.98866 to 0.98934, saving model to /content/drive/My Drive/Image Classification/Model_CNN.hdf5\n",
            "Epoch 15/40\n",
            "348/348 [==============================] - 18s 51ms/step - loss: 0.3198 - accuracy: 0.9310 - val_loss: 0.1498 - val_accuracy: 0.9887\n",
            "\n",
            "Epoch 00015: val_accuracy did not improve from 0.98934\n",
            "Epoch 16/40\n",
            "348/348 [==============================] - 18s 52ms/step - loss: 0.3141 - accuracy: 0.9340 - val_loss: 0.1522 - val_accuracy: 0.9859\n",
            "\n",
            "Epoch 00016: val_accuracy did not improve from 0.98934\n",
            "Epoch 17/40\n",
            "348/348 [==============================] - 19s 53ms/step - loss: 0.3115 - accuracy: 0.9338 - val_loss: 0.1463 - val_accuracy: 0.9898\n",
            "\n",
            "Epoch 00017: val_accuracy improved from 0.98934 to 0.98980, saving model to /content/drive/My Drive/Image Classification/Model_CNN.hdf5\n",
            "Epoch 18/40\n",
            "348/348 [==============================] - 18s 53ms/step - loss: 0.3141 - accuracy: 0.9326 - val_loss: 0.1439 - val_accuracy: 0.9900\n",
            "\n",
            "Epoch 00018: val_accuracy improved from 0.98980 to 0.99002, saving model to /content/drive/My Drive/Image Classification/Model_CNN.hdf5\n",
            "Epoch 19/40\n",
            "348/348 [==============================] - 19s 53ms/step - loss: 0.3089 - accuracy: 0.9330 - val_loss: 0.1527 - val_accuracy: 0.9866\n",
            "\n",
            "Epoch 00019: val_accuracy did not improve from 0.99002\n",
            "Epoch 20/40\n",
            "348/348 [==============================] - 18s 53ms/step - loss: 0.3057 - accuracy: 0.9362 - val_loss: 0.1562 - val_accuracy: 0.9839\n",
            "\n",
            "Epoch 00020: val_accuracy did not improve from 0.99002\n",
            "Epoch 21/40\n",
            "348/348 [==============================] - 18s 52ms/step - loss: 0.3033 - accuracy: 0.9349 - val_loss: 0.1457 - val_accuracy: 0.9873\n",
            "\n",
            "Epoch 00021: val_accuracy did not improve from 0.99002\n",
            "Epoch 22/40\n",
            "348/348 [==============================] - 18s 52ms/step - loss: 0.2929 - accuracy: 0.9401 - val_loss: 0.1418 - val_accuracy: 0.9896\n",
            "\n",
            "Epoch 00022: val_accuracy did not improve from 0.99002\n",
            "Epoch 23/40\n",
            "348/348 [==============================] - 18s 52ms/step - loss: 0.2980 - accuracy: 0.9373 - val_loss: 0.1494 - val_accuracy: 0.9855\n",
            "\n",
            "Epoch 00023: val_accuracy did not improve from 0.99002\n",
            "Epoch 24/40\n",
            "348/348 [==============================] - 18s 52ms/step - loss: 0.2927 - accuracy: 0.9400 - val_loss: 0.1464 - val_accuracy: 0.9884\n",
            "\n",
            "Epoch 00024: val_accuracy did not improve from 0.99002\n",
            "Epoch 25/40\n",
            "348/348 [==============================] - 18s 51ms/step - loss: 0.2961 - accuracy: 0.9368 - val_loss: 0.1424 - val_accuracy: 0.9871\n",
            "\n",
            "Epoch 00025: val_accuracy did not improve from 0.99002\n",
            "Epoch 26/40\n",
            "348/348 [==============================] - 18s 52ms/step - loss: 0.2881 - accuracy: 0.9418 - val_loss: 0.1468 - val_accuracy: 0.9891\n",
            "\n",
            "Epoch 00026: val_accuracy did not improve from 0.99002\n",
            "Epoch 27/40\n",
            "348/348 [==============================] - 18s 51ms/step - loss: 0.2863 - accuracy: 0.9425 - val_loss: 0.1476 - val_accuracy: 0.9873\n",
            "\n",
            "Epoch 00027: val_accuracy did not improve from 0.99002\n",
            "Epoch 28/40\n",
            "348/348 [==============================] - 18s 52ms/step - loss: 0.2867 - accuracy: 0.9401 - val_loss: 0.1430 - val_accuracy: 0.9884\n",
            "\n",
            "Epoch 00028: val_accuracy did not improve from 0.99002\n",
            "Epoch 29/40\n",
            "348/348 [==============================] - 18s 52ms/step - loss: 0.2850 - accuracy: 0.9422 - val_loss: 0.1394 - val_accuracy: 0.9887\n",
            "\n",
            "Epoch 00029: val_accuracy did not improve from 0.99002\n",
            "Epoch 30/40\n",
            "348/348 [==============================] - 18s 52ms/step - loss: 0.2775 - accuracy: 0.9441 - val_loss: 0.1496 - val_accuracy: 0.9875\n",
            "\n",
            "Epoch 00030: val_accuracy did not improve from 0.99002\n",
            "Epoch 31/40\n",
            "348/348 [==============================] - 18s 51ms/step - loss: 0.2775 - accuracy: 0.9443 - val_loss: 0.1450 - val_accuracy: 0.9896\n",
            "\n",
            "Epoch 00031: val_accuracy did not improve from 0.99002\n",
            "Epoch 32/40\n",
            "348/348 [==============================] - 18s 52ms/step - loss: 0.2756 - accuracy: 0.9453 - val_loss: 0.1421 - val_accuracy: 0.9875\n",
            "\n",
            "Epoch 00032: val_accuracy did not improve from 0.99002\n",
            "Epoch 33/40\n",
            "348/348 [==============================] - 19s 54ms/step - loss: 0.2797 - accuracy: 0.9421 - val_loss: 0.1458 - val_accuracy: 0.9866\n",
            "\n",
            "Epoch 00033: val_accuracy did not improve from 0.99002\n",
            "Epoch 34/40\n",
            "348/348 [==============================] - 19s 53ms/step - loss: 0.2781 - accuracy: 0.9438 - val_loss: 0.1417 - val_accuracy: 0.9882\n",
            "\n",
            "Epoch 00034: val_accuracy did not improve from 0.99002\n",
            "Epoch 35/40\n",
            "348/348 [==============================] - 18s 53ms/step - loss: 0.2753 - accuracy: 0.9444 - val_loss: 0.1422 - val_accuracy: 0.9878\n",
            "\n",
            "Epoch 00035: val_accuracy did not improve from 0.99002\n",
            "Epoch 36/40\n",
            "348/348 [==============================] - 18s 52ms/step - loss: 0.2799 - accuracy: 0.9439 - val_loss: 0.1387 - val_accuracy: 0.9905\n",
            "\n",
            "Epoch 00036: val_accuracy improved from 0.99002 to 0.99048, saving model to /content/drive/My Drive/Image Classification/Model_CNN.hdf5\n",
            "Epoch 37/40\n",
            "348/348 [==============================] - 18s 53ms/step - loss: 0.2771 - accuracy: 0.9429 - val_loss: 0.1469 - val_accuracy: 0.9862\n",
            "\n",
            "Epoch 00037: val_accuracy did not improve from 0.99048\n",
            "Epoch 38/40\n",
            "348/348 [==============================] - 18s 52ms/step - loss: 0.2665 - accuracy: 0.9468 - val_loss: 0.1440 - val_accuracy: 0.9880\n",
            "\n",
            "Epoch 00038: val_accuracy did not improve from 0.99048\n",
            "Epoch 39/40\n",
            "348/348 [==============================] - 19s 53ms/step - loss: 0.2753 - accuracy: 0.9444 - val_loss: 0.1354 - val_accuracy: 0.9896\n",
            "\n",
            "Epoch 00039: val_accuracy did not improve from 0.99048\n",
            "Epoch 40/40\n",
            "348/348 [==============================] - 19s 54ms/step - loss: 0.2737 - accuracy: 0.9454 - val_loss: 0.1441 - val_accuracy: 0.9878\n",
            "\n",
            "Epoch 00040: val_accuracy did not improve from 0.99048\n"
          ],
          "name": "stdout"
        }
      ]
    },
    {
      "cell_type": "code",
      "metadata": {
        "id": "gHNIDh_ScyAH",
        "colab": {
          "base_uri": "https://localhost:8080/",
          "height": 499
        },
        "outputId": "6bc03764-7be1-434e-cde3-c79c64145021"
      },
      "source": [
        "acc = history.history['accuracy']\n",
        "val_acc = history.history['val_accuracy']\n",
        "\n",
        "loss = history.history['loss']\n",
        "val_loss = history.history['val_loss']\n",
        "\n",
        "epochs_range = range(EPOCHS)\n",
        "\n",
        "plt.figure(figsize=(8, 8))\n",
        "plt.subplot(1, 2, 1)\n",
        "plt.plot(epochs_range, acc, label='Training Accuracy')\n",
        "plt.plot(epochs_range, val_acc, label='Validation Accuracy')\n",
        "plt.legend(loc='lower right')\n",
        "plt.title('Training and Validation Accuracy')\n",
        "\n",
        "plt.subplot(1, 2, 2)\n",
        "plt.plot(epochs_range, loss, label='Training Loss')\n",
        "plt.plot(epochs_range, val_loss, label='Validation Loss')\n",
        "plt.legend(loc='upper right')\n",
        "plt.title('Training and Validation Loss')\n",
        "plt.show()"
      ],
      "execution_count": 20,
      "outputs": [
        {
          "output_type": "display_data",
          "data": {
            "image/png": "[encoded data removed]",
            "text/plain": [
              "<Figure size 576x576 with 2 Axes>"
            ]
          },
          "metadata": {
            "needs_background": "light"
          }
        }
      ]
    },
    {
      "cell_type": "markdown",
      "metadata": {
        "id": "--iQkw_ynDl5"
      },
      "source": [
        "### Load the model's weights and biases for evaluation on Test set"
      ]
    },
    {
      "cell_type": "code",
      "metadata": {
        "id": "BMMCe9iWmva5"
      },
      "source": [
        "final_model.load_weights(\"/content/drive/My Drive/Image Classification/Model_CNN.hdf5\")\n",
        "final_model.compile(loss='categorical_crossentropy', optimizer='adam', metrics=['accuracy'])"
      ],
      "execution_count": 21,
      "outputs": []
    },
    {
      "cell_type": "code",
      "metadata": {
        "id": "kZ1wzyHCm00z",
        "colab": {
          "base_uri": "https://localhost:8080/"
        },
        "outputId": "45093ab6-ecc3-40ce-935e-f685dc1034ad"
      },
      "source": [
        "Pred_conv = final_model.evaluate(x_test_final, y_test, verbose=0)\n",
        "print(\"Results on the test data\")\n",
        "print(\" \")\n",
        "print(\"%s- %.2f\" % (final_model.metrics_names[0], Pred_conv[0]))\n",
        "print(\"%s- %.2f\" % (final_model.metrics_names[1], Pred_conv[1]))"
      ],
      "execution_count": 22,
      "outputs": [
        {
          "output_type": "stream",
          "text": [
            "Results on the test data\n",
            " \n",
            "loss- 0.20\n",
            "accuracy- 0.97\n"
          ],
          "name": "stdout"
        }
      ]
    },
    {
      "cell_type": "markdown",
      "metadata": {
        "id": "vel7XAkunRuw"
      },
      "source": [
        "### Testing the model on the test dataset"
      ]
    },
    {
      "cell_type": "code",
      "metadata": {
        "id": "lfqA1LFem4z5",
        "colab": {
          "base_uri": "https://localhost:8080/",
          "height": 657
        },
        "outputId": "b9d111ca-297f-4cf4-ca2e-1e9b326237fb"
      },
      "source": [
        "\n",
        "plt.imshow(x_test[990]) \n",
        "print(\"Predicted sign: \"+ str( \n",
        "        final_model.predict(x_test_final[1700].reshape(1, 32, 32, 1))))\n",
        "\n",
        "print('---------------------------------------------------------------------------')\n",
        "\n",
        "print(\"Predicted Sign\" + str(final_model.predict(x_test_final[990].reshape(1, 32, 32, 1))))\n"
      ],
      "execution_count": 29,
      "outputs": [
        {
          "output_type": "stream",
          "text": [
            "Predicted sign: [[3.73254969e-11 1.55776688e-05 1.56375457e-09 6.48966081e-09\n",
            "  1.61142662e-11 2.36373944e-06 9.99969840e-01 3.85586396e-10\n",
            "  7.94638552e-13 8.40514588e-14 2.11972020e-11 1.57016691e-11\n",
            "  2.99622306e-13 6.50864432e-11 8.37654666e-14 5.02504895e-12\n",
            "  9.11926534e-10 3.34239709e-15 9.77660769e-13 2.76983785e-13\n",
            "  3.46889103e-13 3.72449298e-14 3.47349916e-13 5.00484474e-13\n",
            "  6.35445852e-13 3.31955088e-11 7.02899026e-15 9.84272993e-13\n",
            "  2.71280177e-12 3.00932846e-12 6.85950574e-10 1.95450494e-13\n",
            "  1.38566945e-08 2.77597025e-11 3.67685130e-13 1.54643551e-13\n",
            "  4.64037500e-13 7.44419717e-12 4.74125357e-11 2.77368545e-10\n",
            "  7.50485174e-10 1.19079857e-07 1.20255099e-05]]\n",
            "---------------------------------------------------------------------------\n",
            "Predicted Sign[[9.85855520e-01 1.76757414e-04 2.09822872e-07 1.27807070e-07\n",
            "  1.02818805e-04 1.36508629e-06 1.23647581e-08 9.88352781e-07\n",
            "  1.38620529e-02 7.17299165e-10 4.51670212e-12 6.09224924e-14\n",
            "  6.97686199e-14 9.29678494e-14 5.66180880e-09 4.35470362e-08\n",
            "  3.29263550e-09 1.70269174e-14 1.94013677e-11 4.51207649e-09\n",
            "  6.26107388e-10 2.80293323e-12 3.67546216e-10 1.14443042e-08\n",
            "  1.26785187e-08 1.93755949e-11 3.15947879e-10 3.17158011e-09\n",
            "  1.62135052e-08 1.67550311e-08 7.87456489e-10 1.17185900e-10\n",
            "  5.46273526e-10 2.80089710e-12 1.03926199e-13 6.50299042e-14\n",
            "  4.94066017e-14 7.06431644e-14 7.21182489e-11 2.30281723e-12\n",
            "  5.57577151e-10 1.03164569e-11 1.70787147e-12]]\n"
          ],
          "name": "stdout"
        },
        {
          "output_type": "display_data",
          "data": {
            "image/png": "[encoded data removed]",
            "text/plain": [
              "<Figure size 432x288 with 1 Axes>"
            ]
          },
          "metadata": {
            "needs_background": "light"
          }
        }
      ]
    },
    {
      "cell_type": "markdown",
      "metadata": {
        "id": "mrbxLqyovv0f"
      },
      "source": [
        "### Save the model"
      ]
    },
    {
      "cell_type": "code",
      "metadata": {
        "id": "ygfiDJ0pnVxv"
      },
      "source": [
        "final_model.save('/content/drive/My Drive/Image Classification/Model_CNN.hdf5')"
      ],
      "execution_count": 30,
      "outputs": []
    },
    {
      "cell_type": "markdown",
      "metadata": {
        "id": "DN7YN0GwvyoA"
      },
      "source": [
        "### Loading the saved model "
      ]
    },
    {
      "cell_type": "code",
      "metadata": {
        "id": "UdkbTnFqncvc",
        "colab": {
          "base_uri": "https://localhost:8080/"
        },
        "outputId": "5800f64a-8272-4570-d589-f0d01fdfc633"
      },
      "source": [
        "loaded_model = tf.keras.models.load_model('/content/drive/My Drive/Image Classification/Model_CNN.hdf5')\n",
        "\n",
        "loaded_model.summary()"
      ],
      "execution_count": 31,
      "outputs": [
        {
          "output_type": "stream",
          "text": [
            "Model: \"sequential\"\n",
            "_________________________________________________________________\n",
            "Layer (type)                 Output Shape              Param #   \n",
            "=================================================================\n",
            "conv2d (Conv2D)              (None, 32, 32, 50)        500       \n",
            "_________________________________________________________________\n",
            "max_pooling2d (MaxPooling2D) (None, 16, 16, 50)        0         \n",
            "_________________________________________________________________\n",
            "dropout (Dropout)            (None, 16, 16, 50)        0         \n",
            "_________________________________________________________________\n",
            "conv2d_1 (Conv2D)            (None, 16, 16, 108)       48708     \n",
            "_________________________________________________________________\n",
            "max_pooling2d_1 (MaxPooling2 (None, 8, 8, 108)         0         \n",
            "_________________________________________________________________\n",
            "dropout_1 (Dropout)          (None, 8, 8, 108)         0         \n",
            "_________________________________________________________________\n",
            "conv2d_2 (Conv2D)            (None, 8, 8, 41)          39893     \n",
            "_________________________________________________________________\n",
            "max_pooling2d_2 (MaxPooling2 (None, 4, 4, 41)          0         \n",
            "_________________________________________________________________\n",
            "dropout_2 (Dropout)          (None, 4, 4, 41)          0         \n",
            "_________________________________________________________________\n",
            "flatten (Flatten)            (None, 656)               0         \n",
            "_________________________________________________________________\n",
            "dense (Dense)                (None, 232)               152424    \n",
            "_________________________________________________________________\n",
            "dropout_3 (Dropout)          (None, 232)               0         \n",
            "_________________________________________________________________\n",
            "dense_1 (Dense)              (None, 43)                10019     \n",
            "=================================================================\n",
            "Total params: 251,544\n",
            "Trainable params: 251,544\n",
            "Non-trainable params: 0\n",
            "_________________________________________________________________\n"
          ],
          "name": "stdout"
        }
      ]
    },
    {
      "cell_type": "markdown",
      "metadata": {
        "id": "T02omtWWv22P"
      },
      "source": [
        "### Making predictions with the loaded model "
      ]
    },
    {
      "cell_type": "code",
      "metadata": {
        "id": "eH6japacnc1B",
        "colab": {
          "base_uri": "https://localhost:8080/",
          "height": 589
        },
        "outputId": "9ab58d4e-3b53-4e9b-cc98-bb2c18333193"
      },
      "source": [
        "plt.imshow(x_test[1832]) \n",
        "print(\"Predicted sign: \"+ str( \n",
        "        loaded_model.predict(x_test_final[1832].reshape(1, 32, 32, 1))))\n",
        "\n",
        "print('---------------------------------------------------------------------------')\n",
        "\n",
        "print(\"Predicted Sign\" + str(loaded_model.predict(x_test_final[1832].reshape(1, 32, 32, 1))))"
      ],
      "execution_count": 32,
      "outputs": [
        {
          "output_type": "stream",
          "text": [
            "Predicted sign: [[9.8710196e-09 6.2009720e-05 6.8093481e-04 4.8590275e-05 6.5635533e-08\n",
            "  9.9893981e-01 6.0154929e-07 2.6758516e-04 2.6459901e-07 4.2070200e-10\n",
            "  4.4142499e-08 2.1236918e-12 4.7395959e-11 2.0905239e-12 9.6591166e-11\n",
            "  9.8574731e-09 1.1827411e-08 1.5549336e-11 2.2984633e-15 7.8816199e-14\n",
            "  1.2860215e-13 2.9954570e-12 4.6155483e-14 1.2959053e-13 3.0852992e-13\n",
            "  6.7757367e-13 3.5113757e-15 5.0763670e-14 9.0866214e-13 5.5509760e-11\n",
            "  2.7943450e-10 1.6059550e-11 5.4384192e-12 2.3468923e-11 2.3928759e-10\n",
            "  9.5990512e-13 5.0066528e-14 4.9450808e-13 2.1673210e-09 2.1366567e-12\n",
            "  5.5936582e-08 4.0188673e-12 1.8592539e-09]]\n",
            "---------------------------------------------------------------------------\n",
            "Predicted Sign[[9.8710196e-09 6.2009720e-05 6.8093481e-04 4.8590275e-05 6.5635533e-08\n",
            "  9.9893981e-01 6.0154929e-07 2.6758516e-04 2.6459901e-07 4.2070200e-10\n",
            "  4.4142499e-08 2.1236918e-12 4.7395959e-11 2.0905239e-12 9.6591166e-11\n",
            "  9.8574731e-09 1.1827411e-08 1.5549336e-11 2.2984633e-15 7.8816199e-14\n",
            "  1.2860215e-13 2.9954570e-12 4.6155483e-14 1.2959053e-13 3.0852992e-13\n",
            "  6.7757367e-13 3.5113757e-15 5.0763670e-14 9.0866214e-13 5.5509760e-11\n",
            "  2.7943450e-10 1.6059550e-11 5.4384192e-12 2.3468923e-11 2.3928759e-10\n",
            "  9.5990512e-13 5.0066528e-14 4.9450808e-13 2.1673210e-09 2.1366567e-12\n",
            "  5.5936582e-08 4.0188673e-12 1.8592539e-09]]\n"
          ],
          "name": "stdout"
        },
        {
          "output_type": "display_data",
          "data": {
            "image/png": "[encoded data removed]",
            "text/plain": [
              "<Figure size 432x288 with 1 Axes>"
            ]
          },
          "metadata": {
            "needs_background": "light"
          }
        }
      ]
    },
    {
      "cell_type": "markdown",
      "metadata": {
        "id": "qPc0G00_v7wW"
      },
      "source": [
        "### Testing our saved model on random traffic sign images\n",
        "\n",
        "\n",
        "\n"
      ]
    },
    {
      "cell_type": "code",
      "metadata": {
        "id": "29o5hhOLnwCa",
        "colab": {
          "base_uri": "https://localhost:8080/"
        },
        "outputId": "55b96a40-0583-4b0e-e50e-8857d0ee2486"
      },
      "source": [
        "from tensorflow.keras.models import load_model\n",
        "\n",
        "import cv2\n",
        "\n",
        "import numpy as np\n",
        "\n",
        "final_model = load_model('/content/drive/My Drive/Image Classification/Model_CNN.hdf5')\n",
        "\n",
        "img = cv2.imread('/content/drive/My Drive/Image Classification/Test Images/test.png')\n",
        "\n",
        "img = cv2.cvtColor(img, cv2.COLOR_BGR2GRAY) \n",
        "\n",
        "img = img / 255\n",
        "\n",
        "img = cv2.resize(img,(32,32))\n",
        "\n",
        "img = np.reshape(img,[1,32,32,1])\n",
        "\n",
        "classes = final_model.predict(img)\n",
        "\n",
        "print(classes)"
      ],
      "execution_count": 35,
      "outputs": [
        {
          "output_type": "stream",
          "text": [
            "WARNING:tensorflow:5 out of the last 8 calls to <function Model.make_predict_function.<locals>.predict_function at 0x7f3ae2eabef0> triggered tf.function retracing. Tracing is expensive and the excessive number of tracings could be due to (1) creating @tf.function repeatedly in a loop, (2) passing tensors with different shapes, (3) passing Python objects instead of tensors. For (1), please define your @tf.function outside of the loop. For (2), @tf.function has experimental_relax_shapes=True option that relaxes argument shapes that can avoid unnecessary retracing. For (3), please refer to https://www.tensorflow.org/guide/function#controlling_retracing and https://www.tensorflow.org/api_docs/python/tf/function for  more details.\n",
            "[[2.9919073e-17 4.2742503e-16 8.7884028e-18 1.0080345e-15 3.8167071e-13\n",
            "  1.2312493e-16 3.6642674e-16 2.8086236e-16 4.3267601e-17 6.0730019e-19\n",
            "  1.4663606e-14 2.0676923e-07 1.4355930e-17 2.1696641e-17 3.2200902e-16\n",
            "  2.6628690e-14 1.1325290e-16 6.0689522e-18 9.9998772e-01 2.0248693e-10\n",
            "  2.3120708e-11 1.2408301e-09 6.9628155e-14 1.8876763e-11 1.0656869e-06\n",
            "  2.0467946e-12 2.7110227e-06 8.2146007e-06 3.8611603e-09 1.6418446e-11\n",
            "  3.1609316e-11 3.5084600e-12 7.2502453e-17 3.8135215e-16 6.6794969e-16\n",
            "  1.5598836e-12 1.6166906e-13 3.2690254e-14 3.1421524e-15 1.6951465e-17\n",
            "  1.7852783e-14 8.7530419e-17 1.3297398e-16]]\n"
          ],
          "name": "stdout"
        }
      ]
    },
    {
      "cell_type": "code",
      "metadata": {
        "id": "hBPbatbDRj4x"
      },
      "source": [
        ""
      ],
      "execution_count": null,
      "outputs": []
    }
  ]
}
