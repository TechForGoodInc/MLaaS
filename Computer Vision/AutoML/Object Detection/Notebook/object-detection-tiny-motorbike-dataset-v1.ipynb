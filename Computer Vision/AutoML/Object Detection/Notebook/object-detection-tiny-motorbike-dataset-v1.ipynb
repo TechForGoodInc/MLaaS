{
 "cells": [
  {
   "cell_type": "markdown",
   "id": "ed61ff42",
   "metadata": {
    "papermill": {
     "duration": 0.01109,
     "end_time": "2021-07-22T05:25:17.523293",
     "exception": false,
     "start_time": "2021-07-22T05:25:17.512203",
     "status": "completed"
    },
    "tags": []
   },
   "source": [
    "# Object Detection \n",
    "\n",
    "Author: Siti Khotijah\n",
    "\n",
    "Created on: 7/22/2021\n",
    "\n",
    "\n"
   ]
  },
  {
   "cell_type": "markdown",
   "id": "1c715706",
   "metadata": {
    "papermill": {
     "duration": 0.009393,
     "end_time": "2021-07-22T05:25:17.543889",
     "exception": false,
     "start_time": "2021-07-22T05:25:17.534496",
     "status": "completed"
    },
    "tags": []
   },
   "source": [
    "# Object Detection - AutoGluon"
   ]
  },
  {
   "cell_type": "markdown",
   "id": "c406bc16",
   "metadata": {
    "papermill": {
     "duration": 0.009416,
     "end_time": "2021-07-22T05:25:17.563301",
     "exception": false,
     "start_time": "2021-07-22T05:25:17.553885",
     "status": "completed"
    },
    "tags": []
   },
   "source": [
    "Object detection is the process of identifying and localizing objects in an image and is an important task in computer vision. \n",
    "\n",
    "Our goal is to detect motorbike in images by [YOLOv3](https://pjreddie.com/media/files/papers/YOLOv3.pdf) model. A tiny dataset is collected from VOC dataset, which only contains the motorbike category. The model pretrained on the COCO dataset is used to fine-tune our small dataset. With the help of AutoGluon, we are able to try many models with different hyperparameters automatically, and return the best one as our final model.\n",
    "\n",
    "To start, import autogluon.vision and ObjectDetector:"
   ]
  },
  {
   "cell_type": "code",
   "execution_count": 1,
   "id": "a9ee57c8",
   "metadata": {
    "execution": {
     "iopub.execute_input": "2021-07-22T05:25:17.598208Z",
     "iopub.status.busy": "2021-07-22T05:25:17.597392Z",
     "iopub.status.idle": "2021-07-22T05:29:06.226703Z",
     "shell.execute_reply": "2021-07-22T05:29:06.225965Z"
    },
    "papermill": {
     "duration": 228.653754,
     "end_time": "2021-07-22T05:29:06.226947",
     "exception": false,
     "start_time": "2021-07-22T05:25:17.573193",
     "status": "completed"
    },
    "tags": []
   },
   "outputs": [
    {
     "name": "stdout",
     "output_type": "stream",
     "text": [
      "Collecting autogluon\r\n",
      "  Downloading autogluon-0.2.1b20210721-py3-none-any.whl (6.0 kB)\r\n",
      "Collecting autogluon.tabular[all]==0.2.1b20210721\r\n",
      "  Downloading autogluon.tabular-0.2.1b20210721-py3-none-any.whl (268 kB)\r\n",
      "\u001b[K     |████████████████████████████████| 268 kB 1.2 MB/s \r\n",
      "\u001b[?25hCollecting autogluon.core==0.2.1b20210721\r\n",
      "  Downloading autogluon.core-0.2.1b20210721-py3-none-any.whl (341 kB)\r\n",
      "\u001b[K     |████████████████████████████████| 341 kB 7.7 MB/s \r\n",
      "\u001b[?25hCollecting autogluon.features==0.2.1b20210721\r\n",
      "  Downloading autogluon.features-0.2.1b20210721-py3-none-any.whl (52 kB)\r\n",
      "\u001b[K     |████████████████████████████████| 52 kB 589 kB/s \r\n",
      "\u001b[?25hCollecting autogluon.text==0.2.1b20210721\r\n",
      "  Downloading autogluon.text-0.2.1b20210721-py3-none-any.whl (49 kB)\r\n",
      "\u001b[K     |████████████████████████████████| 49 kB 3.7 MB/s \r\n",
      "\u001b[?25hCollecting autogluon.extra==0.2.1b20210721\r\n",
      "  Downloading autogluon.extra-0.2.1b20210721-py3-none-any.whl (24 kB)\r\n",
      "Collecting autogluon.mxnet==0.2.1b20210721\r\n",
      "  Downloading autogluon.mxnet-0.2.1b20210721-py3-none-any.whl (29 kB)\r\n",
      "Collecting autogluon.vision==0.2.1b20210721\r\n",
      "  Downloading autogluon.vision-0.2.1b20210721-py3-none-any.whl (33 kB)\r\n",
      "Collecting ConfigSpace==0.4.18\r\n",
      "  Downloading ConfigSpace-0.4.18.tar.gz (950 kB)\r\n",
      "\u001b[K     |████████████████████████████████| 950 kB 19.8 MB/s \r\n",
      "\u001b[?25h  Installing build dependencies ... \u001b[?25l-\b \b\\\b \b|\b \b/\b \b-\b \b\\\b \b|\b \b/\b \bdone\r\n",
      "\u001b[?25h  Getting requirements to build wheel ... \u001b[?25l-\b \bdone\r\n",
      "\u001b[?25h    Preparing wheel metadata ... \u001b[?25l-\b \b\\\b \b|\b \b/\b \b-\b \b\\\b \bdone\r\n",
      "\u001b[?25hRequirement already satisfied: matplotlib in /opt/conda/lib/python3.7/site-packages (from autogluon.core==0.2.1b20210721->autogluon) (3.4.2)\r\n",
      "Requirement already satisfied: distributed>=2.6.0 in /opt/conda/lib/python3.7/site-packages (from autogluon.core==0.2.1b20210721->autogluon) (2021.6.2)\r\n",
      "Requirement already satisfied: boto3 in /opt/conda/lib/python3.7/site-packages (from autogluon.core==0.2.1b20210721->autogluon) (1.17.105)\r\n",
      "Requirement already satisfied: dask>=2.6.0 in /opt/conda/lib/python3.7/site-packages (from autogluon.core==0.2.1b20210721->autogluon) (2021.6.2)\r\n",
      "Requirement already satisfied: cython in /opt/conda/lib/python3.7/site-packages (from autogluon.core==0.2.1b20210721->autogluon) (0.29.23)\r\n",
      "Collecting paramiko>=2.4\r\n",
      "  Downloading paramiko-2.7.2-py2.py3-none-any.whl (206 kB)\r\n",
      "\u001b[K     |████████████████████████████████| 206 kB 39.8 MB/s \r\n",
      "\u001b[?25hCollecting autograd>=1.3\r\n",
      "  Downloading autograd-1.3.tar.gz (38 kB)\r\n",
      "Requirement already satisfied: scipy<1.7,>=1.5.4 in /opt/conda/lib/python3.7/site-packages (from autogluon.core==0.2.1b20210721->autogluon) (1.6.3)\r\n",
      "Requirement already satisfied: tqdm>=4.38.0 in /opt/conda/lib/python3.7/site-packages (from autogluon.core==0.2.1b20210721->autogluon) (4.61.1)\r\n",
      "Requirement already satisfied: requests in /opt/conda/lib/python3.7/site-packages (from autogluon.core==0.2.1b20210721->autogluon) (2.25.1)\r\n",
      "Requirement already satisfied: numpy==1.19.5 in /opt/conda/lib/python3.7/site-packages (from autogluon.core==0.2.1b20210721->autogluon) (1.19.5)\r\n",
      "Requirement already satisfied: tornado>=5.0.1 in /opt/conda/lib/python3.7/site-packages (from autogluon.core==0.2.1b20210721->autogluon) (6.1)\r\n",
      "Requirement already satisfied: graphviz<0.9.0,>=0.8.1 in /opt/conda/lib/python3.7/site-packages (from autogluon.core==0.2.1b20210721->autogluon) (0.8.4)\r\n",
      "Requirement already satisfied: pandas<1.3,>=1.0.0 in /opt/conda/lib/python3.7/site-packages (from autogluon.core==0.2.1b20210721->autogluon) (1.2.4)\r\n",
      "Requirement already satisfied: scikit-learn<0.25,>=0.23.2 in /opt/conda/lib/python3.7/site-packages (from autogluon.core==0.2.1b20210721->autogluon) (0.23.2)\r\n",
      "Collecting dill==0.3.3\r\n",
      "  Downloading dill-0.3.3-py2.py3-none-any.whl (81 kB)\r\n",
      "\u001b[K     |████████████████████████████████| 81 kB 5.8 MB/s \r\n",
      "\u001b[?25hRequirement already satisfied: pytest in /opt/conda/lib/python3.7/site-packages (from autogluon.extra==0.2.1b20210721->autogluon) (6.2.4)\r\n",
      "Collecting openml\r\n",
      "  Downloading openml-0.12.2.tar.gz (119 kB)\r\n",
      "\u001b[K     |████████████████████████████████| 119 kB 36.7 MB/s \r\n",
      "\u001b[?25hRequirement already satisfied: gluoncv<0.10.4,>=0.10.3 in /opt/conda/lib/python3.7/site-packages (from autogluon.extra==0.2.1b20210721->autogluon) (0.10.3)\r\n",
      "Collecting Pillow<=8.1\r\n",
      "  Downloading Pillow-8.1.0-cp37-cp37m-manylinux1_x86_64.whl (2.2 MB)\r\n",
      "\u001b[K     |████████████████████████████████| 2.2 MB 41.8 MB/s \r\n",
      "\u001b[?25hRequirement already satisfied: psutil<5.9,>=5.7.3 in /opt/conda/lib/python3.7/site-packages (from autogluon.tabular[all]==0.2.1b20210721->autogluon) (5.8.0)\r\n",
      "Requirement already satisfied: networkx<3.0,>=2.3 in /opt/conda/lib/python3.7/site-packages (from autogluon.tabular[all]==0.2.1b20210721->autogluon) (2.5)\r\n",
      "Collecting fastai<3.0,>=2.3.1\r\n",
      "  Downloading fastai-2.4.1-py3-none-any.whl (188 kB)\r\n",
      "\u001b[K     |████████████████████████████████| 188 kB 61.8 MB/s \r\n",
      "\u001b[?25hRequirement already satisfied: torch<2.0,>=1.0 in /opt/conda/lib/python3.7/site-packages (from autogluon.tabular[all]==0.2.1b20210721->autogluon) (1.7.0)\r\n",
      "Requirement already satisfied: lightgbm<4.0,>=3.0 in /opt/conda/lib/python3.7/site-packages (from autogluon.tabular[all]==0.2.1b20210721->autogluon) (3.2.1)\r\n",
      "Collecting catboost<0.26,>=0.24.0\r\n",
      "  Downloading catboost-0.25.1-cp37-none-manylinux1_x86_64.whl (67.3 MB)\r\n",
      "\u001b[K     |████████████████████████████████| 67.3 MB 63.9 MB/s \r\n",
      "\u001b[?25hRequirement already satisfied: xgboost<1.5,>=1.4 in /opt/conda/lib/python3.7/site-packages (from autogluon.tabular[all]==0.2.1b20210721->autogluon) (1.4.2)\r\n",
      "Collecting autogluon-contrib-nlp==0.0.1b20210201\r\n",
      "  Downloading autogluon_contrib_nlp-0.0.1b20210201-py3-none-any.whl (157 kB)\r\n",
      "\u001b[K     |████████████████████████████████| 157 kB 57.7 MB/s \r\n",
      "\u001b[?25hRequirement already satisfied: pyarrow in /opt/conda/lib/python3.7/site-packages (from autogluon-contrib-nlp==0.0.1b20210201->autogluon.text==0.2.1b20210721->autogluon) (4.0.0)\r\n",
      "Requirement already satisfied: protobuf in /opt/conda/lib/python3.7/site-packages (from autogluon-contrib-nlp==0.0.1b20210201->autogluon.text==0.2.1b20210721->autogluon) (3.17.3)\r\n",
      "Collecting sacrebleu\r\n",
      "  Downloading sacrebleu-1.5.1-py3-none-any.whl (54 kB)\r\n",
      "\u001b[K     |████████████████████████████████| 54 kB 1.8 MB/s \r\n",
      "\u001b[?25hCollecting tokenizers==0.9.4\r\n",
      "  Downloading tokenizers-0.9.4-cp37-cp37m-manylinux2010_x86_64.whl (2.9 MB)\r\n",
      "\u001b[K     |████████████████████████████████| 2.9 MB 48.6 MB/s \r\n",
      "\u001b[?25hRequirement already satisfied: flake8 in /opt/conda/lib/python3.7/site-packages (from autogluon-contrib-nlp==0.0.1b20210201->autogluon.text==0.2.1b20210721->autogluon) (3.9.2)\r\n",
      "Requirement already satisfied: sacremoses>=0.0.38 in /opt/conda/lib/python3.7/site-packages (from autogluon-contrib-nlp==0.0.1b20210201->autogluon.text==0.2.1b20210721->autogluon) (0.0.45)\r\n",
      "Collecting sentencepiece==0.1.95\r\n",
      "  Downloading sentencepiece-0.1.95-cp37-cp37m-manylinux2014_x86_64.whl (1.2 MB)\r\n",
      "\u001b[K     |████████████████████████████████| 1.2 MB 46.0 MB/s \r\n",
      "\u001b[?25hRequirement already satisfied: regex in /opt/conda/lib/python3.7/site-packages (from autogluon-contrib-nlp==0.0.1b20210201->autogluon.text==0.2.1b20210721->autogluon) (2021.4.4)\r\n",
      "Collecting contextvars\r\n",
      "  Downloading contextvars-2.4.tar.gz (9.6 kB)\r\n",
      "Requirement already satisfied: yacs>=0.1.6 in /opt/conda/lib/python3.7/site-packages (from autogluon-contrib-nlp==0.0.1b20210201->autogluon.text==0.2.1b20210721->autogluon) (0.1.8)\r\n",
      "Collecting d8<1.0,>=0.0.2\r\n",
      "  Downloading d8-0.0.2.post0-py3-none-any.whl (28 kB)\r\n",
      "Requirement already satisfied: pyparsing in /opt/conda/lib/python3.7/site-packages (from ConfigSpace==0.4.18->autogluon.core==0.2.1b20210721->autogluon) (2.4.7)\r\n",
      "Requirement already satisfied: future>=0.15.2 in /opt/conda/lib/python3.7/site-packages (from autograd>=1.3->autogluon.core==0.2.1b20210721->autogluon) (0.18.2)\r\n",
      "Requirement already satisfied: six in /opt/conda/lib/python3.7/site-packages (from catboost<0.26,>=0.24.0->autogluon.tabular[all]==0.2.1b20210721->autogluon) (1.15.0)\r\n",
      "Requirement already satisfied: plotly in /opt/conda/lib/python3.7/site-packages (from catboost<0.26,>=0.24.0->autogluon.tabular[all]==0.2.1b20210721->autogluon) (5.1.0)\r\n",
      "Collecting xxhash\r\n",
      "  Downloading xxhash-2.0.2-cp37-cp37m-manylinux2010_x86_64.whl (243 kB)\r\n",
      "\u001b[K     |████████████████████████████████| 243 kB 46.5 MB/s \r\n",
      "\u001b[?25hRequirement already satisfied: kaggle in /opt/conda/lib/python3.7/site-packages (from d8<1.0,>=0.0.2->autogluon.vision==0.2.1b20210721->autogluon) (1.5.12)\r\n",
      "Requirement already satisfied: toolz>=0.8.2 in /opt/conda/lib/python3.7/site-packages (from dask>=2.6.0->autogluon.core==0.2.1b20210721->autogluon) (0.11.1)\r\n",
      "Requirement already satisfied: partd>=0.3.10 in /opt/conda/lib/python3.7/site-packages (from dask>=2.6.0->autogluon.core==0.2.1b20210721->autogluon) (1.2.0)\r\n",
      "Requirement already satisfied: cloudpickle>=1.1.1 in /opt/conda/lib/python3.7/site-packages (from dask>=2.6.0->autogluon.core==0.2.1b20210721->autogluon) (1.6.0)\r\n",
      "Requirement already satisfied: fsspec>=0.6.0 in /opt/conda/lib/python3.7/site-packages (from dask>=2.6.0->autogluon.core==0.2.1b20210721->autogluon) (2021.6.1)\r\n",
      "Requirement already satisfied: pyyaml in /opt/conda/lib/python3.7/site-packages (from dask>=2.6.0->autogluon.core==0.2.1b20210721->autogluon) (5.4.1)\r\n",
      "Requirement already satisfied: click>=6.6 in /opt/conda/lib/python3.7/site-packages (from distributed>=2.6.0->autogluon.core==0.2.1b20210721->autogluon) (7.1.2)\r\n",
      "Requirement already satisfied: tblib>=1.6.0 in /opt/conda/lib/python3.7/site-packages (from distributed>=2.6.0->autogluon.core==0.2.1b20210721->autogluon) (1.7.0)\r\n",
      "Requirement already satisfied: zict>=0.1.3 in /opt/conda/lib/python3.7/site-packages (from distributed>=2.6.0->autogluon.core==0.2.1b20210721->autogluon) (2.0.0)\r\n",
      "Requirement already satisfied: sortedcontainers!=2.0.0,!=2.0.1 in /opt/conda/lib/python3.7/site-packages (from distributed>=2.6.0->autogluon.core==0.2.1b20210721->autogluon) (2.4.0)\r\n",
      "Requirement already satisfied: setuptools in /opt/conda/lib/python3.7/site-packages (from distributed>=2.6.0->autogluon.core==0.2.1b20210721->autogluon) (49.6.0.post20210108)\r\n",
      "Requirement already satisfied: msgpack>=0.6.0 in /opt/conda/lib/python3.7/site-packages (from distributed>=2.6.0->autogluon.core==0.2.1b20210721->autogluon) (1.0.2)\r\n",
      "Requirement already satisfied: packaging in /opt/conda/lib/python3.7/site-packages (from fastai<3.0,>=2.3.1->autogluon.tabular[all]==0.2.1b20210721->autogluon) (20.9)\r\n",
      "Requirement already satisfied: fastcore<1.4,>=1.3.8 in /opt/conda/lib/python3.7/site-packages (from fastai<3.0,>=2.3.1->autogluon.tabular[all]==0.2.1b20210721->autogluon) (1.3.20)\r\n",
      "Requirement already satisfied: fastprogress>=0.2.4 in /opt/conda/lib/python3.7/site-packages (from fastai<3.0,>=2.3.1->autogluon.tabular[all]==0.2.1b20210721->autogluon) (1.0.0)\r\n",
      "Collecting torchvision>=0.8.2\r\n",
      "  Downloading torchvision-0.10.0-cp37-cp37m-manylinux1_x86_64.whl (22.1 MB)\r\n",
      "\u001b[K     |████████████████████████████████| 22.1 MB 49.4 MB/s \r\n",
      "\u001b[?25hRequirement already satisfied: spacy<4 in /opt/conda/lib/python3.7/site-packages (from fastai<3.0,>=2.3.1->autogluon.tabular[all]==0.2.1b20210721->autogluon) (2.3.7)\r\n",
      "Requirement already satisfied: pip in /opt/conda/lib/python3.7/site-packages (from fastai<3.0,>=2.3.1->autogluon.tabular[all]==0.2.1b20210721->autogluon) (21.1.2)\r\n",
      "Requirement already satisfied: portalocker in /opt/conda/lib/python3.7/site-packages (from gluoncv<0.10.4,>=0.10.3->autogluon.extra==0.2.1b20210721->autogluon) (2.3.0)\r\n",
      "Requirement already satisfied: opencv-python in /opt/conda/lib/python3.7/site-packages (from gluoncv<0.10.4,>=0.10.3->autogluon.extra==0.2.1b20210721->autogluon) (4.5.2.54)\r\n",
      "Requirement already satisfied: autocfg in /opt/conda/lib/python3.7/site-packages (from gluoncv<0.10.4,>=0.10.3->autogluon.extra==0.2.1b20210721->autogluon) (0.0.8)\r\n",
      "Requirement already satisfied: wheel in /opt/conda/lib/python3.7/site-packages (from lightgbm<4.0,>=3.0->autogluon.tabular[all]==0.2.1b20210721->autogluon) (0.36.2)\r\n",
      "Requirement already satisfied: decorator>=4.3.0 in /opt/conda/lib/python3.7/site-packages (from networkx<3.0,>=2.3->autogluon.tabular[all]==0.2.1b20210721->autogluon) (5.0.9)\r\n",
      "Requirement already satisfied: python-dateutil>=2.7.3 in /opt/conda/lib/python3.7/site-packages (from pandas<1.3,>=1.0.0->autogluon.core==0.2.1b20210721->autogluon) (2.8.1)\r\n",
      "Requirement already satisfied: pytz>=2017.3 in /opt/conda/lib/python3.7/site-packages (from pandas<1.3,>=1.0.0->autogluon.core==0.2.1b20210721->autogluon) (2021.1)\r\n",
      "Collecting pynacl>=1.0.1\r\n",
      "  Downloading PyNaCl-1.4.0-cp35-abi3-manylinux1_x86_64.whl (961 kB)\r\n",
      "\u001b[K     |████████████████████████████████| 961 kB 45.1 MB/s \r\n",
      "\u001b[?25hCollecting bcrypt>=3.1.3\r\n",
      "  Downloading bcrypt-3.2.0-cp36-abi3-manylinux2010_x86_64.whl (63 kB)\r\n",
      "\u001b[K     |████████████████████████████████| 63 kB 1.7 MB/s \r\n",
      "\u001b[?25hRequirement already satisfied: cryptography>=2.5 in /opt/conda/lib/python3.7/site-packages (from paramiko>=2.4->autogluon.core==0.2.1b20210721->autogluon) (3.4.7)\r\n",
      "Requirement already satisfied: cffi>=1.1 in /opt/conda/lib/python3.7/site-packages (from bcrypt>=3.1.3->paramiko>=2.4->autogluon.core==0.2.1b20210721->autogluon) (1.14.5)\r\n",
      "Requirement already satisfied: pycparser in /opt/conda/lib/python3.7/site-packages (from cffi>=1.1->bcrypt>=3.1.3->paramiko>=2.4->autogluon.core==0.2.1b20210721->autogluon) (2.20)\r\n",
      "Requirement already satisfied: locket in /opt/conda/lib/python3.7/site-packages (from partd>=0.3.10->dask>=2.6.0->autogluon.core==0.2.1b20210721->autogluon) (0.2.1)\r\n",
      "Requirement already satisfied: joblib in /opt/conda/lib/python3.7/site-packages (from sacremoses>=0.0.38->autogluon-contrib-nlp==0.0.1b20210201->autogluon.text==0.2.1b20210721->autogluon) (1.0.1)\r\n",
      "Requirement already satisfied: threadpoolctl>=2.0.0 in /opt/conda/lib/python3.7/site-packages (from scikit-learn<0.25,>=0.23.2->autogluon.core==0.2.1b20210721->autogluon) (2.1.0)\r\n",
      "Requirement already satisfied: catalogue<1.1.0,>=0.0.7 in /opt/conda/lib/python3.7/site-packages (from spacy<4->fastai<3.0,>=2.3.1->autogluon.tabular[all]==0.2.1b20210721->autogluon) (1.0.0)\r\n",
      "Requirement already satisfied: cymem<2.1.0,>=2.0.2 in /opt/conda/lib/python3.7/site-packages (from spacy<4->fastai<3.0,>=2.3.1->autogluon.tabular[all]==0.2.1b20210721->autogluon) (2.0.5)\r\n",
      "Requirement already satisfied: srsly<1.1.0,>=1.0.2 in /opt/conda/lib/python3.7/site-packages (from spacy<4->fastai<3.0,>=2.3.1->autogluon.tabular[all]==0.2.1b20210721->autogluon) (1.0.5)\r\n",
      "Requirement already satisfied: wasabi<1.1.0,>=0.4.0 in /opt/conda/lib/python3.7/site-packages (from spacy<4->fastai<3.0,>=2.3.1->autogluon.tabular[all]==0.2.1b20210721->autogluon) (0.8.2)\r\n",
      "Requirement already satisfied: blis<0.8.0,>=0.4.0 in /opt/conda/lib/python3.7/site-packages (from spacy<4->fastai<3.0,>=2.3.1->autogluon.tabular[all]==0.2.1b20210721->autogluon) (0.7.4)\r\n",
      "Requirement already satisfied: thinc<7.5.0,>=7.4.1 in /opt/conda/lib/python3.7/site-packages (from spacy<4->fastai<3.0,>=2.3.1->autogluon.tabular[all]==0.2.1b20210721->autogluon) (7.4.5)\r\n",
      "Requirement already satisfied: plac<1.2.0,>=0.9.6 in /opt/conda/lib/python3.7/site-packages (from spacy<4->fastai<3.0,>=2.3.1->autogluon.tabular[all]==0.2.1b20210721->autogluon) (1.1.3)\r\n",
      "Requirement already satisfied: murmurhash<1.1.0,>=0.28.0 in /opt/conda/lib/python3.7/site-packages (from spacy<4->fastai<3.0,>=2.3.1->autogluon.tabular[all]==0.2.1b20210721->autogluon) (1.0.5)\r\n",
      "Requirement already satisfied: preshed<3.1.0,>=3.0.2 in /opt/conda/lib/python3.7/site-packages (from spacy<4->fastai<3.0,>=2.3.1->autogluon.tabular[all]==0.2.1b20210721->autogluon) (3.0.5)\r\n",
      "Requirement already satisfied: importlib-metadata>=0.20 in /opt/conda/lib/python3.7/site-packages (from catalogue<1.1.0,>=0.0.7->spacy<4->fastai<3.0,>=2.3.1->autogluon.tabular[all]==0.2.1b20210721->autogluon) (3.4.0)\r\n",
      "Requirement already satisfied: typing-extensions>=3.6.4 in /opt/conda/lib/python3.7/site-packages (from importlib-metadata>=0.20->catalogue<1.1.0,>=0.0.7->spacy<4->fastai<3.0,>=2.3.1->autogluon.tabular[all]==0.2.1b20210721->autogluon) (3.7.4.3)\r\n",
      "Requirement already satisfied: zipp>=0.5 in /opt/conda/lib/python3.7/site-packages (from importlib-metadata>=0.20->catalogue<1.1.0,>=0.0.7->spacy<4->fastai<3.0,>=2.3.1->autogluon.tabular[all]==0.2.1b20210721->autogluon) (3.4.1)\r\n",
      "Requirement already satisfied: urllib3<1.27,>=1.21.1 in /opt/conda/lib/python3.7/site-packages (from requests->autogluon.core==0.2.1b20210721->autogluon) (1.26.5)\r\n",
      "Requirement already satisfied: idna<3,>=2.5 in /opt/conda/lib/python3.7/site-packages (from requests->autogluon.core==0.2.1b20210721->autogluon) (2.10)\r\n",
      "Requirement already satisfied: certifi>=2017.4.17 in /opt/conda/lib/python3.7/site-packages (from requests->autogluon.core==0.2.1b20210721->autogluon) (2021.5.30)\r\n",
      "Requirement already satisfied: chardet<5,>=3.0.2 in /opt/conda/lib/python3.7/site-packages (from requests->autogluon.core==0.2.1b20210721->autogluon) (4.0.0)\r\n",
      "Requirement already satisfied: dataclasses in /opt/conda/lib/python3.7/site-packages (from torch<2.0,>=1.0->autogluon.tabular[all]==0.2.1b20210721->autogluon) (0.6)\r\n",
      "Collecting torch<2.0,>=1.0\r\n",
      "  Downloading torch-1.9.0-cp37-cp37m-manylinux1_x86_64.whl (831.4 MB)\r\n",
      "\u001b[K     |████████████████████████████████| 831.4 MB 1.4 kB/s \r\n",
      "\u001b[?25hRequirement already satisfied: heapdict in /opt/conda/lib/python3.7/site-packages (from zict>=0.1.3->distributed>=2.6.0->autogluon.core==0.2.1b20210721->autogluon) (1.0.1)\r\n",
      "Requirement already satisfied: jmespath<1.0.0,>=0.7.1 in /opt/conda/lib/python3.7/site-packages (from boto3->autogluon.core==0.2.1b20210721->autogluon) (0.10.0)\r\n",
      "Requirement already satisfied: botocore<1.21.0,>=1.20.105 in /opt/conda/lib/python3.7/site-packages (from boto3->autogluon.core==0.2.1b20210721->autogluon) (1.20.105)\r\n",
      "Requirement already satisfied: s3transfer<0.5.0,>=0.4.0 in /opt/conda/lib/python3.7/site-packages (from boto3->autogluon.core==0.2.1b20210721->autogluon) (0.4.2)\r\n",
      "Collecting immutables>=0.9\r\n",
      "  Downloading immutables-0.15-cp37-cp37m-manylinux1_x86_64.whl (101 kB)\r\n",
      "\u001b[K     |████████████████████████████████| 101 kB 7.4 MB/s \r\n",
      "\u001b[?25hRequirement already satisfied: pycodestyle<2.8.0,>=2.7.0 in /opt/conda/lib/python3.7/site-packages (from flake8->autogluon-contrib-nlp==0.0.1b20210201->autogluon.text==0.2.1b20210721->autogluon) (2.7.0)\r\n",
      "Requirement already satisfied: mccabe<0.7.0,>=0.6.0 in /opt/conda/lib/python3.7/site-packages (from flake8->autogluon-contrib-nlp==0.0.1b20210201->autogluon.text==0.2.1b20210721->autogluon) (0.6.1)\r\n",
      "Requirement already satisfied: pyflakes<2.4.0,>=2.3.0 in /opt/conda/lib/python3.7/site-packages (from flake8->autogluon-contrib-nlp==0.0.1b20210201->autogluon.text==0.2.1b20210721->autogluon) (2.3.1)\r\n",
      "Requirement already satisfied: python-slugify in /opt/conda/lib/python3.7/site-packages (from kaggle->d8<1.0,>=0.0.2->autogluon.vision==0.2.1b20210721->autogluon) (5.0.2)\r\n",
      "Requirement already satisfied: cycler>=0.10 in /opt/conda/lib/python3.7/site-packages (from matplotlib->autogluon.core==0.2.1b20210721->autogluon) (0.10.0)\r\n",
      "Requirement already satisfied: kiwisolver>=1.0.1 in /opt/conda/lib/python3.7/site-packages (from matplotlib->autogluon.core==0.2.1b20210721->autogluon) (1.3.1)\r\n",
      "Collecting liac-arff>=2.4.0\r\n",
      "  Downloading liac-arff-2.5.0.tar.gz (13 kB)\r\n",
      "Collecting xmltodict\r\n",
      "  Downloading xmltodict-0.12.0-py2.py3-none-any.whl (9.2 kB)\r\n",
      "Collecting minio\r\n",
      "  Downloading minio-7.1.0-py3-none-any.whl (75 kB)\r\n",
      "\u001b[K     |████████████████████████████████| 75 kB 2.9 MB/s \r\n",
      "\u001b[?25hRequirement already satisfied: tenacity>=6.2.0 in /opt/conda/lib/python3.7/site-packages (from plotly->catboost<0.26,>=0.24.0->autogluon.tabular[all]==0.2.1b20210721->autogluon) (7.0.0)\r\n",
      "Requirement already satisfied: py>=1.8.2 in /opt/conda/lib/python3.7/site-packages (from pytest->autogluon.extra==0.2.1b20210721->autogluon) (1.10.0)\r\n",
      "Requirement already satisfied: iniconfig in /opt/conda/lib/python3.7/site-packages (from pytest->autogluon.extra==0.2.1b20210721->autogluon) (1.1.1)\r\n",
      "Requirement already satisfied: pluggy<1.0.0a1,>=0.12 in /opt/conda/lib/python3.7/site-packages (from pytest->autogluon.extra==0.2.1b20210721->autogluon) (0.13.1)\r\n",
      "Requirement already satisfied: attrs>=19.2.0 in /opt/conda/lib/python3.7/site-packages (from pytest->autogluon.extra==0.2.1b20210721->autogluon) (21.2.0)\r\n",
      "Requirement already satisfied: toml in /opt/conda/lib/python3.7/site-packages (from pytest->autogluon.extra==0.2.1b20210721->autogluon) (0.10.2)\r\n",
      "Requirement already satisfied: text-unidecode>=1.3 in /opt/conda/lib/python3.7/site-packages (from python-slugify->kaggle->d8<1.0,>=0.0.2->autogluon.vision==0.2.1b20210721->autogluon) (1.3)\r\n",
      "Collecting portalocker\r\n",
      "  Downloading portalocker-2.0.0-py2.py3-none-any.whl (11 kB)\r\n",
      "Building wheels for collected packages: ConfigSpace, autograd, contextvars, openml, liac-arff\r\n",
      "  Building wheel for ConfigSpace (PEP 517) ... \u001b[?25l-\b \b\\\b \b|\b \b/\b \b-\b \b\\\b \b|\b \b/\b \b-\b \b\\\b \b|\b \b/\b \b-\b \b\\\b \b|\b \b/\b \bdone\r\n",
      "\u001b[?25h  Created wheel for ConfigSpace: filename=ConfigSpace-0.4.18-cp37-cp37m-linux_x86_64.whl size=3260793 sha256=c05b1b6b924b97e8b66489cafd45899c793c4a7719c86e1f2d456c206059e7de\r\n",
      "  Stored in directory: /root/.cache/pip/wheels/36/f7/0f/36f368c419ea1a8024fc3d6c078c3111dfef43fa1d14cfebe0\r\n",
      "  Building wheel for autograd (setup.py) ... \u001b[?25l-\b \b\\\b \bdone\r\n",
      "\u001b[?25h  Created wheel for autograd: filename=autograd-1.3-py3-none-any.whl size=47989 sha256=af23fef08673400b14731829428b15075116b120dbc8f82a579808be00761e34\r\n",
      "  Stored in directory: /root/.cache/pip/wheels/ef/32/31/0e87227cd0ca1d99ad51fbe4b54c6fa02afccf7e483d045e04\r\n",
      "  Building wheel for contextvars (setup.py) ... \u001b[?25l-\b \b\\\b \bdone\r\n",
      "\u001b[?25h  Created wheel for contextvars: filename=contextvars-2.4-py3-none-any.whl size=7665 sha256=dab518b52b44dfbe32699ec8b1f7d1ec03d708e1fbec363bbf0970f58d417663\r\n",
      "  Stored in directory: /root/.cache/pip/wheels/0a/11/79/e70e668095c0bb1f94718af672ef2d35ee7a023fee56ef54d9\r\n",
      "  Building wheel for openml (setup.py) ... \u001b[?25l-\b \b\\\b \bdone\r\n",
      "\u001b[?25h  Created wheel for openml: filename=openml-0.12.2-py3-none-any.whl size=137326 sha256=9496953479f4f2291cfba9eb02d21d6de39bce6de66ddb3ef6ad9382343c3594\r\n",
      "  Stored in directory: /root/.cache/pip/wheels/6a/20/88/cf4ac86aa18e2cd647ed16ebe274a5dacee9d0075fa02af250\r\n",
      "  Building wheel for liac-arff (setup.py) ... \u001b[?25l-\b \b\\\b \bdone\r\n",
      "\u001b[?25h  Created wheel for liac-arff: filename=liac_arff-2.5.0-py3-none-any.whl size=11731 sha256=c0175cda05481ade939f626e7364561bea4243e860e2fcb086daa0000347fa7b\r\n",
      "  Stored in directory: /root/.cache/pip/wheels/1f/0f/15/332ca86cbebf25ddf98518caaf887945fbe1712b97a0f2493b\r\n",
      "Successfully built ConfigSpace autograd contextvars openml liac-arff\r\n",
      "Installing collected packages: pynacl, Pillow, bcrypt, paramiko, dill, ConfigSpace, autograd, xmltodict, torch, portalocker, minio, liac-arff, immutables, autogluon.core, xxhash, torchvision, tokenizers, sentencepiece, sacrebleu, openml, contextvars, autogluon.features, fastai, d8, catboost, autogluon.tabular, autogluon.mxnet, autogluon-contrib-nlp, autogluon.vision, autogluon.text, autogluon.extra, autogluon\r\n",
      "  Attempting uninstall: Pillow\r\n",
      "    Found existing installation: Pillow 8.2.0\r\n",
      "    Uninstalling Pillow-8.2.0:\r\n",
      "      Successfully uninstalled Pillow-8.2.0\r\n",
      "  Attempting uninstall: dill\r\n",
      "    Found existing installation: dill 0.3.4\r\n",
      "    Uninstalling dill-0.3.4:\r\n",
      "      Successfully uninstalled dill-0.3.4\r\n",
      "  Attempting uninstall: torch\r\n",
      "    Found existing installation: torch 1.7.0\r\n",
      "    Uninstalling torch-1.7.0:\r\n",
      "      Successfully uninstalled torch-1.7.0\r\n",
      "  Attempting uninstall: portalocker\r\n",
      "    Found existing installation: portalocker 2.3.0\r\n",
      "    Uninstalling portalocker-2.3.0:\r\n",
      "      Successfully uninstalled portalocker-2.3.0\r\n",
      "  Attempting uninstall: torchvision\r\n",
      "    Found existing installation: torchvision 0.8.1\r\n",
      "    Uninstalling torchvision-0.8.1:\r\n",
      "      Successfully uninstalled torchvision-0.8.1\r\n",
      "  Attempting uninstall: tokenizers\r\n",
      "    Found existing installation: tokenizers 0.10.3\r\n",
      "    Uninstalling tokenizers-0.10.3:\r\n",
      "      Successfully uninstalled tokenizers-0.10.3\r\n",
      "  Attempting uninstall: sentencepiece\r\n",
      "    Found existing installation: sentencepiece 0.1.96\r\n",
      "    Uninstalling sentencepiece-0.1.96:\r\n",
      "      Successfully uninstalled sentencepiece-0.1.96\r\n",
      "  Attempting uninstall: fastai\r\n",
      "    Found existing installation: fastai 2.2.7\r\n",
      "    Uninstalling fastai-2.2.7:\r\n",
      "      Successfully uninstalled fastai-2.2.7\r\n",
      "  Attempting uninstall: catboost\r\n",
      "    Found existing installation: catboost 0.26\r\n",
      "    Uninstalling catboost-0.26:\r\n",
      "      Successfully uninstalled catboost-0.26\r\n",
      "\u001b[31mERROR: pip's dependency resolver does not currently take into account all the packages that are installed. This behaviour is the source of the following dependency conflicts.\r\n",
      "transformers 4.6.1 requires tokenizers<0.11,>=0.10.1, but you have tokenizers 0.9.4 which is incompatible.\r\n",
      "pathos 0.2.8 requires dill>=0.3.4, but you have dill 0.3.3 which is incompatible.\r\n",
      "multiprocess 0.70.12.2 requires dill>=0.3.4, but you have dill 0.3.3 which is incompatible.\r\n",
      "kornia 0.5.5 requires numpy<=1.19, but you have numpy 1.19.5 which is incompatible.\r\n",
      "allennlp 2.5.0 requires torch<1.9.0,>=1.6.0, but you have torch 1.9.0 which is incompatible.\r\n",
      "allennlp 2.5.0 requires torchvision<0.10.0,>=0.8.1, but you have torchvision 0.10.0 which is incompatible.\u001b[0m\r\n",
      "Successfully installed ConfigSpace-0.4.18 Pillow-8.1.0 autogluon-0.2.1b20210721 autogluon-contrib-nlp-0.0.1b20210201 autogluon.core-0.2.1b20210721 autogluon.extra-0.2.1b20210721 autogluon.features-0.2.1b20210721 autogluon.mxnet-0.2.1b20210721 autogluon.tabular-0.2.1b20210721 autogluon.text-0.2.1b20210721 autogluon.vision-0.2.1b20210721 autograd-1.3 bcrypt-3.2.0 catboost-0.25.1 contextvars-2.4 d8-0.0.2.post0 dill-0.3.3 fastai-2.4.1 immutables-0.15 liac-arff-2.5.0 minio-7.1.0 openml-0.12.2 paramiko-2.7.2 portalocker-2.0.0 pynacl-1.4.0 sacrebleu-1.5.1 sentencepiece-0.1.95 tokenizers-0.9.4 torch-1.9.0 torchvision-0.10.0 xmltodict-0.12.0 xxhash-2.0.2\r\n",
      "\u001b[33mWARNING: Running pip as root will break packages and permissions. You should install packages reliably by using venv: https://pip.pypa.io/warnings/venv\u001b[0m\r\n",
      "Requirement already satisfied: autogluon in /opt/conda/lib/python3.7/site-packages (0.2.1b20210721)\r\n",
      "Requirement already satisfied: autogluon.tabular[all]==0.2.1b20210721 in /opt/conda/lib/python3.7/site-packages (from autogluon) (0.2.1b20210721)\r\n",
      "Requirement already satisfied: autogluon.extra==0.2.1b20210721 in /opt/conda/lib/python3.7/site-packages (from autogluon) (0.2.1b20210721)\r\n",
      "Requirement already satisfied: autogluon.mxnet==0.2.1b20210721 in /opt/conda/lib/python3.7/site-packages (from autogluon) (0.2.1b20210721)\r\n",
      "Requirement already satisfied: autogluon.text==0.2.1b20210721 in /opt/conda/lib/python3.7/site-packages (from autogluon) (0.2.1b20210721)\r\n",
      "Requirement already satisfied: autogluon.core==0.2.1b20210721 in /opt/conda/lib/python3.7/site-packages (from autogluon) (0.2.1b20210721)\r\n",
      "Requirement already satisfied: autogluon.vision==0.2.1b20210721 in /opt/conda/lib/python3.7/site-packages (from autogluon) (0.2.1b20210721)\r\n",
      "Requirement already satisfied: autogluon.features==0.2.1b20210721 in /opt/conda/lib/python3.7/site-packages (from autogluon) (0.2.1b20210721)\r\n",
      "Requirement already satisfied: tqdm>=4.38.0 in /opt/conda/lib/python3.7/site-packages (from autogluon.core==0.2.1b20210721->autogluon) (4.61.1)\r\n",
      "Requirement already satisfied: numpy==1.19.5 in /opt/conda/lib/python3.7/site-packages (from autogluon.core==0.2.1b20210721->autogluon) (1.19.5)\r\n",
      "Requirement already satisfied: paramiko>=2.4 in /opt/conda/lib/python3.7/site-packages (from autogluon.core==0.2.1b20210721->autogluon) (2.7.2)\r\n",
      "Requirement already satisfied: autograd>=1.3 in /opt/conda/lib/python3.7/site-packages (from autogluon.core==0.2.1b20210721->autogluon) (1.3)\r\n",
      "Requirement already satisfied: graphviz<0.9.0,>=0.8.1 in /opt/conda/lib/python3.7/site-packages (from autogluon.core==0.2.1b20210721->autogluon) (0.8.4)\r\n",
      "Requirement already satisfied: boto3 in /opt/conda/lib/python3.7/site-packages (from autogluon.core==0.2.1b20210721->autogluon) (1.17.105)\r\n",
      "Requirement already satisfied: scikit-learn<0.25,>=0.23.2 in /opt/conda/lib/python3.7/site-packages (from autogluon.core==0.2.1b20210721->autogluon) (0.23.2)\r\n",
      "Requirement already satisfied: dask>=2.6.0 in /opt/conda/lib/python3.7/site-packages (from autogluon.core==0.2.1b20210721->autogluon) (2021.6.2)\r\n",
      "Requirement already satisfied: cython in /opt/conda/lib/python3.7/site-packages (from autogluon.core==0.2.1b20210721->autogluon) (0.29.23)\r\n",
      "Requirement already satisfied: distributed>=2.6.0 in /opt/conda/lib/python3.7/site-packages (from autogluon.core==0.2.1b20210721->autogluon) (2021.6.2)\r\n",
      "Requirement already satisfied: ConfigSpace==0.4.18 in /opt/conda/lib/python3.7/site-packages (from autogluon.core==0.2.1b20210721->autogluon) (0.4.18)\r\n",
      "Requirement already satisfied: scipy<1.7,>=1.5.4 in /opt/conda/lib/python3.7/site-packages (from autogluon.core==0.2.1b20210721->autogluon) (1.6.3)\r\n",
      "Requirement already satisfied: requests in /opt/conda/lib/python3.7/site-packages (from autogluon.core==0.2.1b20210721->autogluon) (2.25.1)\r\n",
      "Requirement already satisfied: pandas<1.3,>=1.0.0 in /opt/conda/lib/python3.7/site-packages (from autogluon.core==0.2.1b20210721->autogluon) (1.2.4)\r\n",
      "Requirement already satisfied: matplotlib in /opt/conda/lib/python3.7/site-packages (from autogluon.core==0.2.1b20210721->autogluon) (3.4.2)\r\n",
      "Requirement already satisfied: dill==0.3.3 in /opt/conda/lib/python3.7/site-packages (from autogluon.core==0.2.1b20210721->autogluon) (0.3.3)\r\n",
      "Requirement already satisfied: tornado>=5.0.1 in /opt/conda/lib/python3.7/site-packages (from autogluon.core==0.2.1b20210721->autogluon) (6.1)\r\n",
      "Requirement already satisfied: gluoncv<0.10.4,>=0.10.3 in /opt/conda/lib/python3.7/site-packages (from autogluon.extra==0.2.1b20210721->autogluon) (0.10.3)\r\n",
      "Requirement already satisfied: pytest in /opt/conda/lib/python3.7/site-packages (from autogluon.extra==0.2.1b20210721->autogluon) (6.2.4)\r\n",
      "Requirement already satisfied: openml in /opt/conda/lib/python3.7/site-packages (from autogluon.extra==0.2.1b20210721->autogluon) (0.12.2)\r\n",
      "Requirement already satisfied: Pillow<=8.1 in /opt/conda/lib/python3.7/site-packages (from autogluon.mxnet==0.2.1b20210721->autogluon) (8.1.0)\r\n",
      "Requirement already satisfied: psutil<5.9,>=5.7.3 in /opt/conda/lib/python3.7/site-packages (from autogluon.tabular[all]==0.2.1b20210721->autogluon) (5.8.0)\r\n",
      "Requirement already satisfied: networkx<3.0,>=2.3 in /opt/conda/lib/python3.7/site-packages (from autogluon.tabular[all]==0.2.1b20210721->autogluon) (2.5)\r\n",
      "Requirement already satisfied: torch<2.0,>=1.0 in /opt/conda/lib/python3.7/site-packages (from autogluon.tabular[all]==0.2.1b20210721->autogluon) (1.9.0)\r\n",
      "Requirement already satisfied: fastai<3.0,>=2.3.1 in /opt/conda/lib/python3.7/site-packages (from autogluon.tabular[all]==0.2.1b20210721->autogluon) (2.4.1)\r\n",
      "Requirement already satisfied: catboost<0.26,>=0.24.0 in /opt/conda/lib/python3.7/site-packages (from autogluon.tabular[all]==0.2.1b20210721->autogluon) (0.25.1)\r\n",
      "Requirement already satisfied: xgboost<1.5,>=1.4 in /opt/conda/lib/python3.7/site-packages (from autogluon.tabular[all]==0.2.1b20210721->autogluon) (1.4.2)\r\n",
      "Requirement already satisfied: lightgbm<4.0,>=3.0 in /opt/conda/lib/python3.7/site-packages (from autogluon.tabular[all]==0.2.1b20210721->autogluon) (3.2.1)\r\n",
      "Requirement already satisfied: autogluon-contrib-nlp==0.0.1b20210201 in /opt/conda/lib/python3.7/site-packages (from autogluon.text==0.2.1b20210721->autogluon) (0.0.1b20210201)\r\n",
      "Requirement already satisfied: pyarrow in /opt/conda/lib/python3.7/site-packages (from autogluon-contrib-nlp==0.0.1b20210201->autogluon.text==0.2.1b20210721->autogluon) (4.0.0)\r\n",
      "Requirement already satisfied: sentencepiece==0.1.95 in /opt/conda/lib/python3.7/site-packages (from autogluon-contrib-nlp==0.0.1b20210201->autogluon.text==0.2.1b20210721->autogluon) (0.1.95)\r\n",
      "Requirement already satisfied: protobuf in /opt/conda/lib/python3.7/site-packages (from autogluon-contrib-nlp==0.0.1b20210201->autogluon.text==0.2.1b20210721->autogluon) (3.17.3)\r\n",
      "Requirement already satisfied: flake8 in /opt/conda/lib/python3.7/site-packages (from autogluon-contrib-nlp==0.0.1b20210201->autogluon.text==0.2.1b20210721->autogluon) (3.9.2)\r\n",
      "Requirement already satisfied: sacremoses>=0.0.38 in /opt/conda/lib/python3.7/site-packages (from autogluon-contrib-nlp==0.0.1b20210201->autogluon.text==0.2.1b20210721->autogluon) (0.0.45)\r\n",
      "Requirement already satisfied: contextvars in /opt/conda/lib/python3.7/site-packages (from autogluon-contrib-nlp==0.0.1b20210201->autogluon.text==0.2.1b20210721->autogluon) (2.4)\r\n",
      "Requirement already satisfied: sacrebleu in /opt/conda/lib/python3.7/site-packages (from autogluon-contrib-nlp==0.0.1b20210201->autogluon.text==0.2.1b20210721->autogluon) (1.5.1)\r\n",
      "Requirement already satisfied: yacs>=0.1.6 in /opt/conda/lib/python3.7/site-packages (from autogluon-contrib-nlp==0.0.1b20210201->autogluon.text==0.2.1b20210721->autogluon) (0.1.8)\r\n",
      "Requirement already satisfied: regex in /opt/conda/lib/python3.7/site-packages (from autogluon-contrib-nlp==0.0.1b20210201->autogluon.text==0.2.1b20210721->autogluon) (2021.4.4)\r\n",
      "Requirement already satisfied: tokenizers==0.9.4 in /opt/conda/lib/python3.7/site-packages (from autogluon-contrib-nlp==0.0.1b20210201->autogluon.text==0.2.1b20210721->autogluon) (0.9.4)\r\n",
      "Requirement already satisfied: d8<1.0,>=0.0.2 in /opt/conda/lib/python3.7/site-packages (from autogluon.vision==0.2.1b20210721->autogluon) (0.0.2.post0)\r\n",
      "Requirement already satisfied: pyparsing in /opt/conda/lib/python3.7/site-packages (from ConfigSpace==0.4.18->autogluon.core==0.2.1b20210721->autogluon) (2.4.7)\r\n",
      "Requirement already satisfied: future>=0.15.2 in /opt/conda/lib/python3.7/site-packages (from autograd>=1.3->autogluon.core==0.2.1b20210721->autogluon) (0.18.2)\r\n",
      "Requirement already satisfied: plotly in /opt/conda/lib/python3.7/site-packages (from catboost<0.26,>=0.24.0->autogluon.tabular[all]==0.2.1b20210721->autogluon) (5.1.0)\r\n",
      "Requirement already satisfied: six in /opt/conda/lib/python3.7/site-packages (from catboost<0.26,>=0.24.0->autogluon.tabular[all]==0.2.1b20210721->autogluon) (1.15.0)\r\n",
      "Requirement already satisfied: xxhash in /opt/conda/lib/python3.7/site-packages (from d8<1.0,>=0.0.2->autogluon.vision==0.2.1b20210721->autogluon) (2.0.2)\r\n",
      "Requirement already satisfied: kaggle in /opt/conda/lib/python3.7/site-packages (from d8<1.0,>=0.0.2->autogluon.vision==0.2.1b20210721->autogluon) (1.5.12)\r\n",
      "Requirement already satisfied: toolz>=0.8.2 in /opt/conda/lib/python3.7/site-packages (from dask>=2.6.0->autogluon.core==0.2.1b20210721->autogluon) (0.11.1)\r\n",
      "Requirement already satisfied: partd>=0.3.10 in /opt/conda/lib/python3.7/site-packages (from dask>=2.6.0->autogluon.core==0.2.1b20210721->autogluon) (1.2.0)\r\n",
      "Requirement already satisfied: cloudpickle>=1.1.1 in /opt/conda/lib/python3.7/site-packages (from dask>=2.6.0->autogluon.core==0.2.1b20210721->autogluon) (1.6.0)\r\n",
      "Requirement already satisfied: fsspec>=0.6.0 in /opt/conda/lib/python3.7/site-packages (from dask>=2.6.0->autogluon.core==0.2.1b20210721->autogluon) (2021.6.1)\r\n",
      "Requirement already satisfied: pyyaml in /opt/conda/lib/python3.7/site-packages (from dask>=2.6.0->autogluon.core==0.2.1b20210721->autogluon) (5.4.1)\r\n",
      "Requirement already satisfied: sortedcontainers!=2.0.0,!=2.0.1 in /opt/conda/lib/python3.7/site-packages (from distributed>=2.6.0->autogluon.core==0.2.1b20210721->autogluon) (2.4.0)\r\n",
      "Requirement already satisfied: setuptools in /opt/conda/lib/python3.7/site-packages (from distributed>=2.6.0->autogluon.core==0.2.1b20210721->autogluon) (49.6.0.post20210108)\r\n",
      "Requirement already satisfied: zict>=0.1.3 in /opt/conda/lib/python3.7/site-packages (from distributed>=2.6.0->autogluon.core==0.2.1b20210721->autogluon) (2.0.0)\r\n",
      "Requirement already satisfied: msgpack>=0.6.0 in /opt/conda/lib/python3.7/site-packages (from distributed>=2.6.0->autogluon.core==0.2.1b20210721->autogluon) (1.0.2)\r\n",
      "Requirement already satisfied: click>=6.6 in /opt/conda/lib/python3.7/site-packages (from distributed>=2.6.0->autogluon.core==0.2.1b20210721->autogluon) (7.1.2)\r\n",
      "Requirement already satisfied: tblib>=1.6.0 in /opt/conda/lib/python3.7/site-packages (from distributed>=2.6.0->autogluon.core==0.2.1b20210721->autogluon) (1.7.0)\r\n",
      "Requirement already satisfied: packaging in /opt/conda/lib/python3.7/site-packages (from fastai<3.0,>=2.3.1->autogluon.tabular[all]==0.2.1b20210721->autogluon) (20.9)\r\n",
      "Requirement already satisfied: pip in /opt/conda/lib/python3.7/site-packages (from fastai<3.0,>=2.3.1->autogluon.tabular[all]==0.2.1b20210721->autogluon) (21.1.2)\r\n",
      "Requirement already satisfied: fastprogress>=0.2.4 in /opt/conda/lib/python3.7/site-packages (from fastai<3.0,>=2.3.1->autogluon.tabular[all]==0.2.1b20210721->autogluon) (1.0.0)\r\n",
      "Requirement already satisfied: spacy<4 in /opt/conda/lib/python3.7/site-packages (from fastai<3.0,>=2.3.1->autogluon.tabular[all]==0.2.1b20210721->autogluon) (2.3.7)\r\n",
      "Requirement already satisfied: torchvision>=0.8.2 in /opt/conda/lib/python3.7/site-packages (from fastai<3.0,>=2.3.1->autogluon.tabular[all]==0.2.1b20210721->autogluon) (0.10.0)\r\n",
      "Requirement already satisfied: fastcore<1.4,>=1.3.8 in /opt/conda/lib/python3.7/site-packages (from fastai<3.0,>=2.3.1->autogluon.tabular[all]==0.2.1b20210721->autogluon) (1.3.20)\r\n",
      "Requirement already satisfied: opencv-python in /opt/conda/lib/python3.7/site-packages (from gluoncv<0.10.4,>=0.10.3->autogluon.extra==0.2.1b20210721->autogluon) (4.5.2.54)\r\n",
      "Requirement already satisfied: autocfg in /opt/conda/lib/python3.7/site-packages (from gluoncv<0.10.4,>=0.10.3->autogluon.extra==0.2.1b20210721->autogluon) (0.0.8)\r\n",
      "Requirement already satisfied: portalocker in /opt/conda/lib/python3.7/site-packages (from gluoncv<0.10.4,>=0.10.3->autogluon.extra==0.2.1b20210721->autogluon) (2.0.0)\r\n",
      "Requirement already satisfied: wheel in /opt/conda/lib/python3.7/site-packages (from lightgbm<4.0,>=3.0->autogluon.tabular[all]==0.2.1b20210721->autogluon) (0.36.2)\r\n",
      "Requirement already satisfied: decorator>=4.3.0 in /opt/conda/lib/python3.7/site-packages (from networkx<3.0,>=2.3->autogluon.tabular[all]==0.2.1b20210721->autogluon) (5.0.9)\r\n",
      "Requirement already satisfied: python-dateutil>=2.7.3 in /opt/conda/lib/python3.7/site-packages (from pandas<1.3,>=1.0.0->autogluon.core==0.2.1b20210721->autogluon) (2.8.1)\r\n",
      "Requirement already satisfied: pytz>=2017.3 in /opt/conda/lib/python3.7/site-packages (from pandas<1.3,>=1.0.0->autogluon.core==0.2.1b20210721->autogluon) (2021.1)\r\n",
      "Requirement already satisfied: cryptography>=2.5 in /opt/conda/lib/python3.7/site-packages (from paramiko>=2.4->autogluon.core==0.2.1b20210721->autogluon) (3.4.7)\r\n",
      "Requirement already satisfied: pynacl>=1.0.1 in /opt/conda/lib/python3.7/site-packages (from paramiko>=2.4->autogluon.core==0.2.1b20210721->autogluon) (1.4.0)\r\n",
      "Requirement already satisfied: bcrypt>=3.1.3 in /opt/conda/lib/python3.7/site-packages (from paramiko>=2.4->autogluon.core==0.2.1b20210721->autogluon) (3.2.0)\r\n",
      "Requirement already satisfied: cffi>=1.1 in /opt/conda/lib/python3.7/site-packages (from bcrypt>=3.1.3->paramiko>=2.4->autogluon.core==0.2.1b20210721->autogluon) (1.14.5)\r\n",
      "Requirement already satisfied: pycparser in /opt/conda/lib/python3.7/site-packages (from cffi>=1.1->bcrypt>=3.1.3->paramiko>=2.4->autogluon.core==0.2.1b20210721->autogluon) (2.20)\r\n",
      "Requirement already satisfied: locket in /opt/conda/lib/python3.7/site-packages (from partd>=0.3.10->dask>=2.6.0->autogluon.core==0.2.1b20210721->autogluon) (0.2.1)\r\n",
      "Requirement already satisfied: joblib in /opt/conda/lib/python3.7/site-packages (from sacremoses>=0.0.38->autogluon-contrib-nlp==0.0.1b20210201->autogluon.text==0.2.1b20210721->autogluon) (1.0.1)\r\n",
      "Requirement already satisfied: threadpoolctl>=2.0.0 in /opt/conda/lib/python3.7/site-packages (from scikit-learn<0.25,>=0.23.2->autogluon.core==0.2.1b20210721->autogluon) (2.1.0)\r\n",
      "Requirement already satisfied: blis<0.8.0,>=0.4.0 in /opt/conda/lib/python3.7/site-packages (from spacy<4->fastai<3.0,>=2.3.1->autogluon.tabular[all]==0.2.1b20210721->autogluon) (0.7.4)\r\n",
      "Requirement already satisfied: preshed<3.1.0,>=3.0.2 in /opt/conda/lib/python3.7/site-packages (from spacy<4->fastai<3.0,>=2.3.1->autogluon.tabular[all]==0.2.1b20210721->autogluon) (3.0.5)\r\n",
      "Requirement already satisfied: wasabi<1.1.0,>=0.4.0 in /opt/conda/lib/python3.7/site-packages (from spacy<4->fastai<3.0,>=2.3.1->autogluon.tabular[all]==0.2.1b20210721->autogluon) (0.8.2)\r\n",
      "Requirement already satisfied: murmurhash<1.1.0,>=0.28.0 in /opt/conda/lib/python3.7/site-packages (from spacy<4->fastai<3.0,>=2.3.1->autogluon.tabular[all]==0.2.1b20210721->autogluon) (1.0.5)\r\n",
      "Requirement already satisfied: cymem<2.1.0,>=2.0.2 in /opt/conda/lib/python3.7/site-packages (from spacy<4->fastai<3.0,>=2.3.1->autogluon.tabular[all]==0.2.1b20210721->autogluon) (2.0.5)\r\n",
      "Requirement already satisfied: plac<1.2.0,>=0.9.6 in /opt/conda/lib/python3.7/site-packages (from spacy<4->fastai<3.0,>=2.3.1->autogluon.tabular[all]==0.2.1b20210721->autogluon) (1.1.3)\r\n",
      "Requirement already satisfied: thinc<7.5.0,>=7.4.1 in /opt/conda/lib/python3.7/site-packages (from spacy<4->fastai<3.0,>=2.3.1->autogluon.tabular[all]==0.2.1b20210721->autogluon) (7.4.5)\r\n",
      "Requirement already satisfied: catalogue<1.1.0,>=0.0.7 in /opt/conda/lib/python3.7/site-packages (from spacy<4->fastai<3.0,>=2.3.1->autogluon.tabular[all]==0.2.1b20210721->autogluon) (1.0.0)\r\n",
      "Requirement already satisfied: srsly<1.1.0,>=1.0.2 in /opt/conda/lib/python3.7/site-packages (from spacy<4->fastai<3.0,>=2.3.1->autogluon.tabular[all]==0.2.1b20210721->autogluon) (1.0.5)\r\n",
      "Requirement already satisfied: importlib-metadata>=0.20 in /opt/conda/lib/python3.7/site-packages (from catalogue<1.1.0,>=0.0.7->spacy<4->fastai<3.0,>=2.3.1->autogluon.tabular[all]==0.2.1b20210721->autogluon) (3.4.0)\r\n",
      "Requirement already satisfied: zipp>=0.5 in /opt/conda/lib/python3.7/site-packages (from importlib-metadata>=0.20->catalogue<1.1.0,>=0.0.7->spacy<4->fastai<3.0,>=2.3.1->autogluon.tabular[all]==0.2.1b20210721->autogluon) (3.4.1)\r\n",
      "Requirement already satisfied: typing-extensions>=3.6.4 in /opt/conda/lib/python3.7/site-packages (from importlib-metadata>=0.20->catalogue<1.1.0,>=0.0.7->spacy<4->fastai<3.0,>=2.3.1->autogluon.tabular[all]==0.2.1b20210721->autogluon) (3.7.4.3)\r\n",
      "Requirement already satisfied: certifi>=2017.4.17 in /opt/conda/lib/python3.7/site-packages (from requests->autogluon.core==0.2.1b20210721->autogluon) (2021.5.30)\r\n",
      "Requirement already satisfied: idna<3,>=2.5 in /opt/conda/lib/python3.7/site-packages (from requests->autogluon.core==0.2.1b20210721->autogluon) (2.10)\r\n",
      "Requirement already satisfied: urllib3<1.27,>=1.21.1 in /opt/conda/lib/python3.7/site-packages (from requests->autogluon.core==0.2.1b20210721->autogluon) (1.26.5)\r\n",
      "Requirement already satisfied: chardet<5,>=3.0.2 in /opt/conda/lib/python3.7/site-packages (from requests->autogluon.core==0.2.1b20210721->autogluon) (4.0.0)\r\n",
      "Requirement already satisfied: heapdict in /opt/conda/lib/python3.7/site-packages (from zict>=0.1.3->distributed>=2.6.0->autogluon.core==0.2.1b20210721->autogluon) (1.0.1)\r\n",
      "Requirement already satisfied: s3transfer<0.5.0,>=0.4.0 in /opt/conda/lib/python3.7/site-packages (from boto3->autogluon.core==0.2.1b20210721->autogluon) (0.4.2)\r\n",
      "Requirement already satisfied: jmespath<1.0.0,>=0.7.1 in /opt/conda/lib/python3.7/site-packages (from boto3->autogluon.core==0.2.1b20210721->autogluon) (0.10.0)\r\n",
      "Requirement already satisfied: botocore<1.21.0,>=1.20.105 in /opt/conda/lib/python3.7/site-packages (from boto3->autogluon.core==0.2.1b20210721->autogluon) (1.20.105)\r\n",
      "Requirement already satisfied: immutables>=0.9 in /opt/conda/lib/python3.7/site-packages (from contextvars->autogluon-contrib-nlp==0.0.1b20210201->autogluon.text==0.2.1b20210721->autogluon) (0.15)\r\n",
      "Requirement already satisfied: mccabe<0.7.0,>=0.6.0 in /opt/conda/lib/python3.7/site-packages (from flake8->autogluon-contrib-nlp==0.0.1b20210201->autogluon.text==0.2.1b20210721->autogluon) (0.6.1)\r\n",
      "Requirement already satisfied: pycodestyle<2.8.0,>=2.7.0 in /opt/conda/lib/python3.7/site-packages (from flake8->autogluon-contrib-nlp==0.0.1b20210201->autogluon.text==0.2.1b20210721->autogluon) (2.7.0)\r\n",
      "Requirement already satisfied: pyflakes<2.4.0,>=2.3.0 in /opt/conda/lib/python3.7/site-packages (from flake8->autogluon-contrib-nlp==0.0.1b20210201->autogluon.text==0.2.1b20210721->autogluon) (2.3.1)\r\n",
      "Requirement already satisfied: python-slugify in /opt/conda/lib/python3.7/site-packages (from kaggle->d8<1.0,>=0.0.2->autogluon.vision==0.2.1b20210721->autogluon) (5.0.2)\r\n",
      "Requirement already satisfied: cycler>=0.10 in /opt/conda/lib/python3.7/site-packages (from matplotlib->autogluon.core==0.2.1b20210721->autogluon) (0.10.0)\r\n",
      "Requirement already satisfied: kiwisolver>=1.0.1 in /opt/conda/lib/python3.7/site-packages (from matplotlib->autogluon.core==0.2.1b20210721->autogluon) (1.3.1)\r\n",
      "Requirement already satisfied: xmltodict in /opt/conda/lib/python3.7/site-packages (from openml->autogluon.extra==0.2.1b20210721->autogluon) (0.12.0)\r\n",
      "Requirement already satisfied: liac-arff>=2.4.0 in /opt/conda/lib/python3.7/site-packages (from openml->autogluon.extra==0.2.1b20210721->autogluon) (2.5.0)\r\n",
      "Requirement already satisfied: minio in /opt/conda/lib/python3.7/site-packages (from openml->autogluon.extra==0.2.1b20210721->autogluon) (7.1.0)\r\n",
      "Requirement already satisfied: tenacity>=6.2.0 in /opt/conda/lib/python3.7/site-packages (from plotly->catboost<0.26,>=0.24.0->autogluon.tabular[all]==0.2.1b20210721->autogluon) (7.0.0)\r\n",
      "Requirement already satisfied: iniconfig in /opt/conda/lib/python3.7/site-packages (from pytest->autogluon.extra==0.2.1b20210721->autogluon) (1.1.1)\r\n",
      "Requirement already satisfied: pluggy<1.0.0a1,>=0.12 in /opt/conda/lib/python3.7/site-packages (from pytest->autogluon.extra==0.2.1b20210721->autogluon) (0.13.1)\r\n",
      "Requirement already satisfied: py>=1.8.2 in /opt/conda/lib/python3.7/site-packages (from pytest->autogluon.extra==0.2.1b20210721->autogluon) (1.10.0)\r\n",
      "Requirement already satisfied: toml in /opt/conda/lib/python3.7/site-packages (from pytest->autogluon.extra==0.2.1b20210721->autogluon) (0.10.2)\r\n",
      "Requirement already satisfied: attrs>=19.2.0 in /opt/conda/lib/python3.7/site-packages (from pytest->autogluon.extra==0.2.1b20210721->autogluon) (21.2.0)\r\n",
      "Requirement already satisfied: text-unidecode>=1.3 in /opt/conda/lib/python3.7/site-packages (from python-slugify->kaggle->d8<1.0,>=0.0.2->autogluon.vision==0.2.1b20210721->autogluon) (1.3)\r\n",
      "\u001b[33mWARNING: Running pip as root will break packages and permissions. You should install packages reliably by using venv: https://pip.pypa.io/warnings/venv\u001b[0m\r\n"
     ]
    },
    {
     "name": "stderr",
     "output_type": "stream",
     "text": [
      "/opt/conda/lib/python3.7/site-packages/gluoncv/__init__.py:40: UserWarning: Both `mxnet==1.8.0` and `torch==1.9.0+cu102` are installed. You might encounter increased GPU memory footprint if both framework are used at the same time.\n",
      "  warnings.warn(f'Both `mxnet=={mx.__version__}` and `torch=={torch.__version__}` are installed. '\n"
     ]
    }
   ],
   "source": [
    "!pip install --pre autogluon \n",
    "!pip install autogluon\n",
    "%matplotlib inline\n",
    "import autogluon.core as ag\n",
    "from autogluon.vision import ObjectDetector"
   ]
  },
  {
   "cell_type": "markdown",
   "id": "82241658",
   "metadata": {
    "papermill": {
     "duration": 0.464699,
     "end_time": "2021-07-22T05:29:07.146587",
     "exception": false,
     "start_time": "2021-07-22T05:29:06.681888",
     "status": "completed"
    },
    "tags": []
   },
   "source": [
    "# Tiny_motorbike Dataset\n",
    "\n",
    "We collect a toy dataset for detecting motorbikes in images. From the VOC dataset, images are randomly selected for training, validation, and testing - 120 images for training, 50 images for validation, and 50 for testing. This tiny dataset follows the same format as VOC."
   ]
  },
  {
   "cell_type": "code",
   "execution_count": 2,
   "id": "416a3bcc",
   "metadata": {
    "execution": {
     "iopub.execute_input": "2021-07-22T05:29:08.136048Z",
     "iopub.status.busy": "2021-07-22T05:29:08.135241Z",
     "iopub.status.idle": "2021-07-22T05:29:09.191773Z",
     "shell.execute_reply": "2021-07-22T05:29:09.192300Z"
    },
    "papermill": {
     "duration": 1.512182,
     "end_time": "2021-07-22T05:29:09.192504",
     "exception": false,
     "start_time": "2021-07-22T05:29:07.680322",
     "status": "completed"
    },
    "tags": []
   },
   "outputs": [
    {
     "data": {
      "text/html": [
       "<div>\n",
       "<style scoped>\n",
       "    .dataframe tbody tr th:only-of-type {\n",
       "        vertical-align: middle;\n",
       "    }\n",
       "\n",
       "    .dataframe tbody tr th {\n",
       "        vertical-align: top;\n",
       "    }\n",
       "\n",
       "    .dataframe thead th {\n",
       "        text-align: right;\n",
       "    }\n",
       "</style>\n",
       "<table border=\"1\" class=\"dataframe\">\n",
       "  <thead>\n",
       "    <tr style=\"text-align: right;\">\n",
       "      <th></th>\n",
       "      <th>image</th>\n",
       "      <th>rois</th>\n",
       "      <th>image_attr</th>\n",
       "    </tr>\n",
       "  </thead>\n",
       "  <tbody>\n",
       "    <tr>\n",
       "      <th>0</th>\n",
       "      <td>../input/tiny-dataset/tiny_motorbike/JPEGImage...</td>\n",
       "      <td>[{'class': 'motorbike', 'xmin': 0.702, 'ymin':...</td>\n",
       "      <td>{'width': 500.0, 'height': 375.0}</td>\n",
       "    </tr>\n",
       "    <tr>\n",
       "      <th>1</th>\n",
       "      <td>../input/tiny-dataset/tiny_motorbike/JPEGImage...</td>\n",
       "      <td>[{'class': 'motorbike', 'xmin': 0.117117117117...</td>\n",
       "      <td>{'width': 333.0, 'height': 500.0}</td>\n",
       "    </tr>\n",
       "    <tr>\n",
       "      <th>2</th>\n",
       "      <td>../input/tiny-dataset/tiny_motorbike/JPEGImage...</td>\n",
       "      <td>[{'class': 'person', 'xmin': 0.102, 'ymin': 0....</td>\n",
       "      <td>{'width': 500.0, 'height': 432.0}</td>\n",
       "    </tr>\n",
       "    <tr>\n",
       "      <th>3</th>\n",
       "      <td>../input/tiny-dataset/tiny_motorbike/JPEGImage...</td>\n",
       "      <td>[{'class': 'motorbike', 'xmin': 0.226, 'ymin':...</td>\n",
       "      <td>{'width': 500.0, 'height': 375.0}</td>\n",
       "    </tr>\n",
       "    <tr>\n",
       "      <th>4</th>\n",
       "      <td>../input/tiny-dataset/tiny_motorbike/JPEGImage...</td>\n",
       "      <td>[{'class': 'motorbike', 'xmin': 0.357357357357...</td>\n",
       "      <td>{'width': 333.0, 'height': 500.0}</td>\n",
       "    </tr>\n",
       "    <tr>\n",
       "      <th>...</th>\n",
       "      <td>...</td>\n",
       "      <td>...</td>\n",
       "      <td>...</td>\n",
       "    </tr>\n",
       "    <tr>\n",
       "      <th>165</th>\n",
       "      <td>../input/tiny-dataset/tiny_motorbike/JPEGImage...</td>\n",
       "      <td>[{'class': 'motorbike', 'xmin': 0.0, 'ymin': 0...</td>\n",
       "      <td>{'width': 500.0, 'height': 333.0}</td>\n",
       "    </tr>\n",
       "    <tr>\n",
       "      <th>166</th>\n",
       "      <td>../input/tiny-dataset/tiny_motorbike/JPEGImage...</td>\n",
       "      <td>[{'class': 'person', 'xmin': 0.408, 'ymin': 0....</td>\n",
       "      <td>{'width': 500.0, 'height': 375.0}</td>\n",
       "    </tr>\n",
       "    <tr>\n",
       "      <th>167</th>\n",
       "      <td>../input/tiny-dataset/tiny_motorbike/JPEGImage...</td>\n",
       "      <td>[{'class': 'person', 'xmin': 0.382, 'ymin': 0....</td>\n",
       "      <td>{'width': 500.0, 'height': 375.0}</td>\n",
       "    </tr>\n",
       "    <tr>\n",
       "      <th>168</th>\n",
       "      <td>../input/tiny-dataset/tiny_motorbike/JPEGImage...</td>\n",
       "      <td>[{'class': 'motorbike', 'xmin': 0.272, 'ymin':...</td>\n",
       "      <td>{'width': 500.0, 'height': 375.0}</td>\n",
       "    </tr>\n",
       "    <tr>\n",
       "      <th>169</th>\n",
       "      <td>../input/tiny-dataset/tiny_motorbike/JPEGImage...</td>\n",
       "      <td>[{'class': 'motorbike', 'xmin': 0.172, 'ymin':...</td>\n",
       "      <td>{'width': 500.0, 'height': 331.0}</td>\n",
       "    </tr>\n",
       "  </tbody>\n",
       "</table>\n",
       "<p>170 rows × 3 columns</p>\n",
       "</div>"
      ],
      "text/plain": [
       "                                                 image  \\\n",
       "0    ../input/tiny-dataset/tiny_motorbike/JPEGImage...   \n",
       "1    ../input/tiny-dataset/tiny_motorbike/JPEGImage...   \n",
       "2    ../input/tiny-dataset/tiny_motorbike/JPEGImage...   \n",
       "3    ../input/tiny-dataset/tiny_motorbike/JPEGImage...   \n",
       "4    ../input/tiny-dataset/tiny_motorbike/JPEGImage...   \n",
       "..                                                 ...   \n",
       "165  ../input/tiny-dataset/tiny_motorbike/JPEGImage...   \n",
       "166  ../input/tiny-dataset/tiny_motorbike/JPEGImage...   \n",
       "167  ../input/tiny-dataset/tiny_motorbike/JPEGImage...   \n",
       "168  ../input/tiny-dataset/tiny_motorbike/JPEGImage...   \n",
       "169  ../input/tiny-dataset/tiny_motorbike/JPEGImage...   \n",
       "\n",
       "                                                  rois  \\\n",
       "0    [{'class': 'motorbike', 'xmin': 0.702, 'ymin':...   \n",
       "1    [{'class': 'motorbike', 'xmin': 0.117117117117...   \n",
       "2    [{'class': 'person', 'xmin': 0.102, 'ymin': 0....   \n",
       "3    [{'class': 'motorbike', 'xmin': 0.226, 'ymin':...   \n",
       "4    [{'class': 'motorbike', 'xmin': 0.357357357357...   \n",
       "..                                                 ...   \n",
       "165  [{'class': 'motorbike', 'xmin': 0.0, 'ymin': 0...   \n",
       "166  [{'class': 'person', 'xmin': 0.408, 'ymin': 0....   \n",
       "167  [{'class': 'person', 'xmin': 0.382, 'ymin': 0....   \n",
       "168  [{'class': 'motorbike', 'xmin': 0.272, 'ymin':...   \n",
       "169  [{'class': 'motorbike', 'xmin': 0.172, 'ymin':...   \n",
       "\n",
       "                            image_attr  \n",
       "0    {'width': 500.0, 'height': 375.0}  \n",
       "1    {'width': 333.0, 'height': 500.0}  \n",
       "2    {'width': 500.0, 'height': 432.0}  \n",
       "3    {'width': 500.0, 'height': 375.0}  \n",
       "4    {'width': 333.0, 'height': 500.0}  \n",
       "..                                 ...  \n",
       "165  {'width': 500.0, 'height': 333.0}  \n",
       "166  {'width': 500.0, 'height': 375.0}  \n",
       "167  {'width': 500.0, 'height': 375.0}  \n",
       "168  {'width': 500.0, 'height': 375.0}  \n",
       "169  {'width': 500.0, 'height': 331.0}  \n",
       "\n",
       "[170 rows x 3 columns]"
      ]
     },
     "execution_count": 2,
     "metadata": {},
     "output_type": "execute_result"
    }
   ],
   "source": [
    "data = '../input/tiny-dataset/tiny_motorbike'\n",
    "dataset_train = ObjectDetector.Dataset.from_voc(data, splits='trainval')\n",
    "dataset_train"
   ]
  },
  {
   "cell_type": "markdown",
   "id": "969b81e7",
   "metadata": {
    "papermill": {
     "duration": 0.449095,
     "end_time": "2021-07-22T05:29:10.089212",
     "exception": false,
     "start_time": "2021-07-22T05:29:09.640117",
     "status": "completed"
    },
    "tags": []
   },
   "source": [
    "# Fit Models by AutoGluon\n",
    "\n",
    "In this section, we demonstrate how to apply AutoGluon to fit our detection models. We use mobilenet as the backbone for the YOLOv3 model. Two different learning rates are used to fine-tune the network. The best model is the one that obtains the best performance on the validation dataset. You can also try using more networks and hyperparameters to create a larger searching space.\n",
    "\n",
    "We fit a classifier using AutoGluon as follows. In each experiment (one trial in our searching space), we train the model for 5 epochs to avoid bursting our tutorial runtime."
   ]
  },
  {
   "cell_type": "code",
   "execution_count": 3,
   "id": "bc743a8d",
   "metadata": {
    "execution": {
     "iopub.execute_input": "2021-07-22T05:29:10.985517Z",
     "iopub.status.busy": "2021-07-22T05:29:10.984411Z",
     "iopub.status.idle": "2021-07-22T05:34:49.607129Z",
     "shell.execute_reply": "2021-07-22T05:34:49.607781Z"
    },
    "papermill": {
     "duration": 339.073394,
     "end_time": "2021-07-22T05:34:49.608029",
     "exception": false,
     "start_time": "2021-07-22T05:29:10.534635",
     "status": "completed"
    },
    "tags": []
   },
   "outputs": [
    {
     "name": "stdout",
     "output_type": "stream",
     "text": [
      "Downloading /root/.mxnet/models/ssd_512_mobilenet1.0_coco-da9756fa.zip from https://apache-mxnet.s3-accelerate.dualstack.amazonaws.com/gluon/models/ssd_512_mobilenet1.0_coco-da9756fa.zip...\n"
     ]
    },
    {
     "name": "stderr",
     "output_type": "stream",
     "text": [
      "100%|██████████| 82589/82589 [00:04<00:00, 18382.18KB/s]\n"
     ]
    },
    {
     "name": "stdout",
     "output_type": "stream",
     "text": [
      "Downloading /root/.mxnet/models/mobilenet1.0-efbb2ca3.zip from https://apache-mxnet.s3-accelerate.dualstack.amazonaws.com/gluon/models/mobilenet1.0-efbb2ca3.zip...\n"
     ]
    },
    {
     "name": "stderr",
     "output_type": "stream",
     "text": [
      "9624KB [00:01, 7832.93KB/s]                           \n"
     ]
    },
    {
     "data": {
      "text/plain": [
       "<autogluon.vision.detector.detector.ObjectDetector at 0x7f54d9bce710>"
      ]
     },
     "execution_count": 3,
     "metadata": {},
     "output_type": "execute_result"
    }
   ],
   "source": [
    "time_limit = 60*30  # at most 0.5 hour\n",
    "detector = ObjectDetector()\n",
    "hyperparameters = {'epochs': 5, 'batch_size': 8}\n",
    "hyperparamter_tune_kwargs={'num_trials': 2}\n",
    "detector.fit(dataset_train, time_limit=time_limit, hyperparameters=hyperparameters, hyperparamter_tune_kwargs=hyperparamter_tune_kwargs)"
   ]
  },
  {
   "cell_type": "code",
   "execution_count": 4,
   "id": "80f1f403",
   "metadata": {
    "execution": {
     "iopub.execute_input": "2021-07-22T05:34:50.580363Z",
     "iopub.status.busy": "2021-07-22T05:34:50.579500Z",
     "iopub.status.idle": "2021-07-22T05:34:58.550868Z",
     "shell.execute_reply": "2021-07-22T05:34:58.551406Z"
    },
    "papermill": {
     "duration": 8.457629,
     "end_time": "2021-07-22T05:34:58.551598",
     "exception": false,
     "start_time": "2021-07-22T05:34:50.093969",
     "status": "completed"
    },
    "tags": []
   },
   "outputs": [
    {
     "name": "stdout",
     "output_type": "stream",
     "text": [
      "mAP on test dataset: 0.32569292556261864\n"
     ]
    }
   ],
   "source": [
    "dataset_test = ObjectDetector.Dataset.from_voc(data, splits='test')\n",
    "\n",
    "test_map = detector.evaluate(dataset_test)\n",
    "print(\"mAP on test dataset: {}\".format(test_map[1][-1]))"
   ]
  },
  {
   "cell_type": "markdown",
   "id": "474c59a7",
   "metadata": {
    "papermill": {
     "duration": 0.514324,
     "end_time": "2021-07-22T05:34:59.529307",
     "exception": false,
     "start_time": "2021-07-22T05:34:59.014983",
     "status": "completed"
    },
    "tags": []
   },
   "source": [
    "Below, we randomly select an image from test dataset and show the predicted class, box and probability over the origin image, stored in predict_class, predict_rois and predict_score columns, respectively. You can interpret predict_rois as a dict of (xmin, ymin, xmax, ymax) proportional to original image size."
   ]
  },
  {
   "cell_type": "code",
   "execution_count": 5,
   "id": "dc4cfe03",
   "metadata": {
    "execution": {
     "iopub.execute_input": "2021-07-22T05:35:00.488658Z",
     "iopub.status.busy": "2021-07-22T05:35:00.487423Z",
     "iopub.status.idle": "2021-07-22T05:35:00.738703Z",
     "shell.execute_reply": "2021-07-22T05:35:00.738008Z"
    },
    "papermill": {
     "duration": 0.738624,
     "end_time": "2021-07-22T05:35:00.738873",
     "exception": false,
     "start_time": "2021-07-22T05:35:00.000249",
     "status": "completed"
    },
    "tags": []
   },
   "outputs": [
    {
     "name": "stdout",
     "output_type": "stream",
     "text": [
      "   predict_class  predict_score  \\\n",
      "0      motorbike       0.988112   \n",
      "1         person       0.970208   \n",
      "2        bicycle       0.294567   \n",
      "3         person       0.225033   \n",
      "4         person       0.224180   \n",
      "..           ...            ...   \n",
      "95        person       0.032129   \n",
      "96        person       0.032065   \n",
      "97        person       0.032060   \n",
      "98        person       0.031963   \n",
      "99        person       0.031809   \n",
      "\n",
      "                                         predict_rois  \n",
      "0   {'xmin': 0.32461073994636536, 'ymin': 0.445641...  \n",
      "1   {'xmin': 0.4067949950695038, 'ymin': 0.2784966...  \n",
      "2   {'xmin': 0.0, 'ymin': 0.6488332152366638, 'xma...  \n",
      "3   {'xmin': 0.3642578125, 'ymin': 0.2946056425571...  \n",
      "4   {'xmin': 0.33951500058174133, 'ymin': 0.437841...  \n",
      "..                                                ...  \n",
      "95  {'xmin': 0.3480450212955475, 'ymin': 0.1806999...  \n",
      "96  {'xmin': 0.7947438359260559, 'ymin': 0.3857879...  \n",
      "97  {'xmin': 0.8372661471366882, 'ymin': 0.3870421...  \n",
      "98  {'xmin': 0.8781052827835083, 'ymin': 0.0032495...  \n",
      "99  {'xmin': 0.8558664321899414, 'ymin': 0.3969009...  \n",
      "\n",
      "[100 rows x 3 columns]\n"
     ]
    }
   ],
   "source": [
    "image_path = dataset_test.iloc[0]['image']\n",
    "result = detector.predict(image_path)\n",
    "print(result)"
   ]
  },
  {
   "cell_type": "markdown",
   "id": "ca8df746",
   "metadata": {
    "papermill": {
     "duration": 0.472677,
     "end_time": "2021-07-22T05:35:01.696196",
     "exception": false,
     "start_time": "2021-07-22T05:35:01.223519",
     "status": "completed"
    },
    "tags": []
   },
   "source": [
    "Prediction with multiple images is permitted:"
   ]
  },
  {
   "cell_type": "code",
   "execution_count": 6,
   "id": "790933f1",
   "metadata": {
    "execution": {
     "iopub.execute_input": "2021-07-22T05:35:02.636024Z",
     "iopub.status.busy": "2021-07-22T05:35:02.635299Z",
     "iopub.status.idle": "2021-07-22T05:35:12.403564Z",
     "shell.execute_reply": "2021-07-22T05:35:12.402953Z"
    },
    "papermill": {
     "duration": 10.238091,
     "end_time": "2021-07-22T05:35:12.403742",
     "exception": false,
     "start_time": "2021-07-22T05:35:02.165651",
     "status": "completed"
    },
    "tags": []
   },
   "outputs": [
    {
     "name": "stdout",
     "output_type": "stream",
     "text": [
      "     predict_class  predict_score  \\\n",
      "0        motorbike       0.988112   \n",
      "1           person       0.970208   \n",
      "2          bicycle       0.294567   \n",
      "3           person       0.225033   \n",
      "4           person       0.224180   \n",
      "...            ...            ...   \n",
      "4594        person       0.034571   \n",
      "4595        person       0.034512   \n",
      "4596        person       0.034480   \n",
      "4597        person       0.034463   \n",
      "4598        person       0.034428   \n",
      "\n",
      "                                           predict_rois  \\\n",
      "0     {'xmin': 0.32461073994636536, 'ymin': 0.445641...   \n",
      "1     {'xmin': 0.4067949950695038, 'ymin': 0.2784966...   \n",
      "2     {'xmin': 0.0, 'ymin': 0.6488332152366638, 'xma...   \n",
      "3     {'xmin': 0.3642578125, 'ymin': 0.2946056425571...   \n",
      "4     {'xmin': 0.33951500058174133, 'ymin': 0.437841...   \n",
      "...                                                 ...   \n",
      "4594  {'xmin': 0.015702269971370697, 'ymin': 0.35812...   \n",
      "4595  {'xmin': 0.09243986010551453, 'ymin': 0.338881...   \n",
      "4596  {'xmin': 0.014295696280896664, 'ymin': 0.36919...   \n",
      "4597  {'xmin': 0.354862242937088, 'ymin': 0.39860683...   \n",
      "4598  {'xmin': 0.929229736328125, 'ymin': 0.11419545...   \n",
      "\n",
      "                                                  image  \n",
      "0     ../input/tiny-dataset/tiny_motorbike/JPEGImage...  \n",
      "1     ../input/tiny-dataset/tiny_motorbike/JPEGImage...  \n",
      "2     ../input/tiny-dataset/tiny_motorbike/JPEGImage...  \n",
      "3     ../input/tiny-dataset/tiny_motorbike/JPEGImage...  \n",
      "4     ../input/tiny-dataset/tiny_motorbike/JPEGImage...  \n",
      "...                                                 ...  \n",
      "4594  ../input/tiny-dataset/tiny_motorbike/JPEGImage...  \n",
      "4595  ../input/tiny-dataset/tiny_motorbike/JPEGImage...  \n",
      "4596  ../input/tiny-dataset/tiny_motorbike/JPEGImage...  \n",
      "4597  ../input/tiny-dataset/tiny_motorbike/JPEGImage...  \n",
      "4598  ../input/tiny-dataset/tiny_motorbike/JPEGImage...  \n",
      "\n",
      "[4599 rows x 4 columns]\n"
     ]
    }
   ],
   "source": [
    "bulk_result = detector.predict(dataset_test)\n",
    "print(bulk_result)"
   ]
  },
  {
   "cell_type": "code",
   "execution_count": null,
   "id": "cdae83ce",
   "metadata": {
    "_kg_hide-input": true,
    "papermill": {
     "duration": 0.470592,
     "end_time": "2021-07-22T05:35:13.346469",
     "exception": false,
     "start_time": "2021-07-22T05:35:12.875877",
     "status": "completed"
    },
    "tags": []
   },
   "outputs": [],
   "source": []
  },
  {
   "cell_type": "markdown",
   "id": "c551f488",
   "metadata": {
    "papermill": {
     "duration": 0.482761,
     "end_time": "2021-07-22T05:35:14.304100",
     "exception": false,
     "start_time": "2021-07-22T05:35:13.821339",
     "status": "completed"
    },
    "tags": []
   },
   "source": [
    "# Reference :\n",
    "This section provides more resources on the topic if you are looking to go deeper.\n",
    "\n",
    "\n",
    "\n",
    "* https://github.com/awslabs/autogluon"
   ]
  }
 ],
 "metadata": {
  "kernelspec": {
   "display_name": "Python 3",
   "language": "python",
   "name": "python3"
  },
  "language_info": {
   "codemirror_mode": {
    "name": "ipython",
    "version": 3
   },
   "file_extension": ".py",
   "mimetype": "text/x-python",
   "name": "python",
   "nbconvert_exporter": "python",
   "pygments_lexer": "ipython3",
   "version": "3.7.10"
  },
  "papermill": {
   "default_parameters": {},
   "duration": 609.279117,
   "end_time": "2021-07-22T05:35:17.174471",
   "environment_variables": {},
   "exception": null,
   "input_path": "__notebook__.ipynb",
   "output_path": "__notebook__.ipynb",
   "parameters": {},
   "start_time": "2021-07-22T05:25:07.895354",
   "version": "2.3.3"
  }
 },
 "nbformat": 4,
 "nbformat_minor": 5
}
